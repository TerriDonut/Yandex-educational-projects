{
  "cells": [
    {
      "cell_type": "markdown",
      "metadata": {
        "id": "view-in-github",
        "colab_type": "text"
      },
      "source": [
        "<a href=\"https://colab.research.google.com/github/TerriDonut/Yandex-educational-projects/blob/main/machine_learning_in_business.ipynb\" target=\"_parent\"><img src=\"https://colab.research.google.com/assets/colab-badge.svg\" alt=\"Open In Colab\"/></a>"
      ]
    },
    {
      "cell_type": "markdown",
      "metadata": {
        "id": "21HO2xJ5E7iL"
      },
      "source": [
        "---\n",
        "**Выбор локации для скважины**\n",
        "---\n",
        "---\n",
        "**Описание проекта**\n",
        "\n",
        "В добывающей компании «ГлавРосГосНефть». Нужно решить, где бурить новую скважину.\n",
        "Шаги для выбора локации:\n",
        "В избранном регионе собирают характеристики для скважин: качество нефти и объём её запасов;\n",
        "Строят модель для предсказания объёма запасов в новых скважинах;\n",
        "Выбирают скважины с самыми высокими оценками значений;\n",
        "Определяют регион с максимальной суммарной прибылью отобранных скважин.\n",
        "Предоставлены пробы нефти в трёх регионах. Характеристики для каждой скважины в регионе уже известны.\n",
        "\n",
        "---\n",
        "**Цель проекта**\n",
        "\n",
        "Построить модель для определения региона, где добыча принесёт наибольшую прибыль. Проанализировав возможную прибыль и риски техникой Bootstrap.\n",
        "\n",
        "**Задачи проекта**\n",
        "\n",
        "- Построить модель линейной регрессии (остальные — недостаточно предсказуемые).\n",
        "- Выбрать 200 лучших точек для разрабоки, из 500 исследованных при разведке региона.\n",
        "- При нынешних ценах на один баррель сырья приносящий 450 рублей дохода, подобрать оптимальрый бюджет на разработку скважин в регионе — 10 млрд рублей.\n",
        "- Оставить лишь те регионы, в которых вероятность убытков меньше 2.5%. Выбрав регион с наибольшей средней прибылью.\n",
        "---\n",
        "\n",
        "**Исходные данные**\n",
        "\n",
        "Данные геологоразведки трёх регионов находятся в файлах:\n",
        "\n",
        "*datasets/geo_data_0.csv*\n",
        "\n",
        "*datasets/geo_data_1.csv*\n",
        "\n",
        "*datasets/geo_data_2.csv*\n",
        "\n",
        "id — уникальный идентификатор скважины;\n",
        "\n",
        "f0, f1, f2 — три признака точек;\n",
        "\n",
        "product — объём запасов в скважине (тыс. баррелей).\n",
        "---\n",
        "\n",
        "**Содержание проекта**\n",
        "\n",
        "- ***Шаг 1. Загрузка и подготовка данных:***\n",
        "** [Загрузка библиотек.](#1-bullet)\n",
        "** [Изученеие файлов с данными, получение общей информации.](#2-bullet)\n",
        "** [Поиск и устранение дублей.](#3-bullet)\n",
        "** [Построение пайплайна предобработки.](#4-bullet)\n",
        "- ***Шаг 2. Обучение и проверка модели для каждого региона:***\n",
        "** [Сохранение результатов обучения](#5-bullet)\n",
        "\n",
        "- ***Шаг 3. Подготовка к расчёту прибыли:***\n",
        "** [Сравнение средних значений для безубыточной добычи](#6-bullet)\n",
        "\n",
        "- ***Шаг 4. Расчёт прибыли по выбранным скважинам и предсказаниям модели***\n",
        "\n",
        "- ***Шаг 5. Подсчёт рисков и прибыли для каждого региона***\n",
        "** [Bootstrap](#7-bullet)\n",
        "** [Финальные метрики и вывод](#8-bullet)\n"
      ]
    },
    {
      "cell_type": "markdown",
      "metadata": {
        "id": "j2tR1B0NbZt3"
      },
      "source": [
        "##Шаг 1. Загрузка и подготовка данных:"
      ]
    },
    {
      "cell_type": "markdown",
      "metadata": {
        "id": "-dbj5I-NWUgE"
      },
      "source": [
        "### Загрузка библиотек\n",
        "<a id='1-bullet'></a>"
      ]
    },
    {
      "cell_type": "code",
      "execution_count": null,
      "metadata": {
        "id": "7wwD29EY1uqf"
      },
      "outputs": [],
      "source": [
        "#Импорты базовых библиотек\n",
        "import numpy as np\n",
        "import pandas as pd\n",
        "\n",
        "from sklearn.linear_model import LinearRegression\n",
        "from sklearn.model_selection import train_test_split\n",
        "from sklearn.pipeline import Pipeline\n",
        "from sklearn.preprocessing import StandardScaler\n",
        "from sklearn.compose import ColumnTransformer\n",
        "from sklearn.metrics import mean_squared_error\n",
        "\n",
        "from warnings import simplefilter"
      ]
    },
    {
      "cell_type": "code",
      "execution_count": null,
      "metadata": {
        "id": "OL68iHoPEn0O"
      },
      "outputs": [],
      "source": [
        "simplefilter(action='ignore', category=FutureWarning)"
      ]
    },
    {
      "cell_type": "markdown",
      "metadata": {
        "id": "tnU-f2gHeYoq"
      },
      "source": [
        "### Изученеие файлов с данными, получение общей информации\n",
        "<a id='2-bullet'></a>"
      ]
    },
    {
      "cell_type": "code",
      "execution_count": null,
      "metadata": {
        "colab": {
          "base_uri": "https://localhost:8080/",
          "height": 1000
        },
        "id": "6gM3JmX6Euq2",
        "outputId": "e26c9d06-8d08-46aa-8a8e-c7693f64538a"
      },
      "outputs": [
        {
          "name": "stdout",
          "output_type": "stream",
          "text": [
            "<class 'pandas.core.frame.DataFrame'>\n",
            "RangeIndex: 100000 entries, 0 to 99999\n",
            "Data columns (total 5 columns):\n",
            " #   Column   Non-Null Count   Dtype  \n",
            "---  ------   --------------   -----  \n",
            " 0   id       100000 non-null  object \n",
            " 1   f0       100000 non-null  float64\n",
            " 2   f1       100000 non-null  float64\n",
            " 3   f2       100000 non-null  float64\n",
            " 4   product  100000 non-null  float64\n",
            "dtypes: float64(4), object(1)\n",
            "memory usage: 3.8+ MB\n"
          ]
        },
        {
          "data": {
            "text/plain": [
              "None"
            ]
          },
          "metadata": {},
          "output_type": "display_data"
        },
        {
          "data": {
            "text/html": [
              "<div>\n",
              "<style scoped>\n",
              "    .dataframe tbody tr th:only-of-type {\n",
              "        vertical-align: middle;\n",
              "    }\n",
              "\n",
              "    .dataframe tbody tr th {\n",
              "        vertical-align: top;\n",
              "    }\n",
              "\n",
              "    .dataframe thead th {\n",
              "        text-align: right;\n",
              "    }\n",
              "</style>\n",
              "<table border=\"1\" class=\"dataframe\">\n",
              "  <thead>\n",
              "    <tr style=\"text-align: right;\">\n",
              "      <th></th>\n",
              "      <th>id</th>\n",
              "      <th>f0</th>\n",
              "      <th>f1</th>\n",
              "      <th>f2</th>\n",
              "      <th>product</th>\n",
              "    </tr>\n",
              "  </thead>\n",
              "  <tbody>\n",
              "    <tr>\n",
              "      <th>0</th>\n",
              "      <td>txEyH</td>\n",
              "      <td>0.705745</td>\n",
              "      <td>-0.497823</td>\n",
              "      <td>1.221170</td>\n",
              "      <td>105.280062</td>\n",
              "    </tr>\n",
              "    <tr>\n",
              "      <th>1</th>\n",
              "      <td>2acmU</td>\n",
              "      <td>1.334711</td>\n",
              "      <td>-0.340164</td>\n",
              "      <td>4.365080</td>\n",
              "      <td>73.037750</td>\n",
              "    </tr>\n",
              "    <tr>\n",
              "      <th>2</th>\n",
              "      <td>409Wp</td>\n",
              "      <td>1.022732</td>\n",
              "      <td>0.151990</td>\n",
              "      <td>1.419926</td>\n",
              "      <td>85.265647</td>\n",
              "    </tr>\n",
              "    <tr>\n",
              "      <th>3</th>\n",
              "      <td>iJLyR</td>\n",
              "      <td>-0.032172</td>\n",
              "      <td>0.139033</td>\n",
              "      <td>2.978566</td>\n",
              "      <td>168.620776</td>\n",
              "    </tr>\n",
              "    <tr>\n",
              "      <th>4</th>\n",
              "      <td>Xdl7t</td>\n",
              "      <td>1.988431</td>\n",
              "      <td>0.155413</td>\n",
              "      <td>4.751769</td>\n",
              "      <td>154.036647</td>\n",
              "    </tr>\n",
              "  </tbody>\n",
              "</table>\n",
              "</div>"
            ],
            "text/plain": [
              "      id        f0        f1        f2     product\n",
              "0  txEyH  0.705745 -0.497823  1.221170  105.280062\n",
              "1  2acmU  1.334711 -0.340164  4.365080   73.037750\n",
              "2  409Wp  1.022732  0.151990  1.419926   85.265647\n",
              "3  iJLyR -0.032172  0.139033  2.978566  168.620776\n",
              "4  Xdl7t  1.988431  0.155413  4.751769  154.036647"
            ]
          },
          "metadata": {},
          "output_type": "display_data"
        },
        {
          "name": "stdout",
          "output_type": "stream",
          "text": [
            "<class 'pandas.core.frame.DataFrame'>\n",
            "RangeIndex: 100000 entries, 0 to 99999\n",
            "Data columns (total 5 columns):\n",
            " #   Column   Non-Null Count   Dtype  \n",
            "---  ------   --------------   -----  \n",
            " 0   id       100000 non-null  object \n",
            " 1   f0       100000 non-null  float64\n",
            " 2   f1       100000 non-null  float64\n",
            " 3   f2       100000 non-null  float64\n",
            " 4   product  100000 non-null  float64\n",
            "dtypes: float64(4), object(1)\n",
            "memory usage: 3.8+ MB\n"
          ]
        },
        {
          "data": {
            "text/plain": [
              "None"
            ]
          },
          "metadata": {},
          "output_type": "display_data"
        },
        {
          "data": {
            "text/html": [
              "<div>\n",
              "<style scoped>\n",
              "    .dataframe tbody tr th:only-of-type {\n",
              "        vertical-align: middle;\n",
              "    }\n",
              "\n",
              "    .dataframe tbody tr th {\n",
              "        vertical-align: top;\n",
              "    }\n",
              "\n",
              "    .dataframe thead th {\n",
              "        text-align: right;\n",
              "    }\n",
              "</style>\n",
              "<table border=\"1\" class=\"dataframe\">\n",
              "  <thead>\n",
              "    <tr style=\"text-align: right;\">\n",
              "      <th></th>\n",
              "      <th>id</th>\n",
              "      <th>f0</th>\n",
              "      <th>f1</th>\n",
              "      <th>f2</th>\n",
              "      <th>product</th>\n",
              "    </tr>\n",
              "  </thead>\n",
              "  <tbody>\n",
              "    <tr>\n",
              "      <th>0</th>\n",
              "      <td>kBEdx</td>\n",
              "      <td>-15.001348</td>\n",
              "      <td>-8.276000</td>\n",
              "      <td>-0.005876</td>\n",
              "      <td>3.179103</td>\n",
              "    </tr>\n",
              "    <tr>\n",
              "      <th>1</th>\n",
              "      <td>62mP7</td>\n",
              "      <td>14.272088</td>\n",
              "      <td>-3.475083</td>\n",
              "      <td>0.999183</td>\n",
              "      <td>26.953261</td>\n",
              "    </tr>\n",
              "    <tr>\n",
              "      <th>2</th>\n",
              "      <td>vyE1P</td>\n",
              "      <td>6.263187</td>\n",
              "      <td>-5.948386</td>\n",
              "      <td>5.001160</td>\n",
              "      <td>134.766305</td>\n",
              "    </tr>\n",
              "    <tr>\n",
              "      <th>3</th>\n",
              "      <td>KcrkZ</td>\n",
              "      <td>-13.081196</td>\n",
              "      <td>-11.506057</td>\n",
              "      <td>4.999415</td>\n",
              "      <td>137.945408</td>\n",
              "    </tr>\n",
              "    <tr>\n",
              "      <th>4</th>\n",
              "      <td>AHL4O</td>\n",
              "      <td>12.702195</td>\n",
              "      <td>-8.147433</td>\n",
              "      <td>5.004363</td>\n",
              "      <td>134.766305</td>\n",
              "    </tr>\n",
              "  </tbody>\n",
              "</table>\n",
              "</div>"
            ],
            "text/plain": [
              "      id         f0         f1        f2     product\n",
              "0  kBEdx -15.001348  -8.276000 -0.005876    3.179103\n",
              "1  62mP7  14.272088  -3.475083  0.999183   26.953261\n",
              "2  vyE1P   6.263187  -5.948386  5.001160  134.766305\n",
              "3  KcrkZ -13.081196 -11.506057  4.999415  137.945408\n",
              "4  AHL4O  12.702195  -8.147433  5.004363  134.766305"
            ]
          },
          "metadata": {},
          "output_type": "display_data"
        },
        {
          "name": "stdout",
          "output_type": "stream",
          "text": [
            "<class 'pandas.core.frame.DataFrame'>\n",
            "RangeIndex: 100000 entries, 0 to 99999\n",
            "Data columns (total 5 columns):\n",
            " #   Column   Non-Null Count   Dtype  \n",
            "---  ------   --------------   -----  \n",
            " 0   id       100000 non-null  object \n",
            " 1   f0       100000 non-null  float64\n",
            " 2   f1       100000 non-null  float64\n",
            " 3   f2       100000 non-null  float64\n",
            " 4   product  100000 non-null  float64\n",
            "dtypes: float64(4), object(1)\n",
            "memory usage: 3.8+ MB\n"
          ]
        },
        {
          "data": {
            "text/plain": [
              "None"
            ]
          },
          "metadata": {},
          "output_type": "display_data"
        },
        {
          "data": {
            "text/html": [
              "<div>\n",
              "<style scoped>\n",
              "    .dataframe tbody tr th:only-of-type {\n",
              "        vertical-align: middle;\n",
              "    }\n",
              "\n",
              "    .dataframe tbody tr th {\n",
              "        vertical-align: top;\n",
              "    }\n",
              "\n",
              "    .dataframe thead th {\n",
              "        text-align: right;\n",
              "    }\n",
              "</style>\n",
              "<table border=\"1\" class=\"dataframe\">\n",
              "  <thead>\n",
              "    <tr style=\"text-align: right;\">\n",
              "      <th></th>\n",
              "      <th>id</th>\n",
              "      <th>f0</th>\n",
              "      <th>f1</th>\n",
              "      <th>f2</th>\n",
              "      <th>product</th>\n",
              "    </tr>\n",
              "  </thead>\n",
              "  <tbody>\n",
              "    <tr>\n",
              "      <th>0</th>\n",
              "      <td>fwXo0</td>\n",
              "      <td>-1.146987</td>\n",
              "      <td>0.963328</td>\n",
              "      <td>-0.828965</td>\n",
              "      <td>27.758673</td>\n",
              "    </tr>\n",
              "    <tr>\n",
              "      <th>1</th>\n",
              "      <td>WJtFt</td>\n",
              "      <td>0.262778</td>\n",
              "      <td>0.269839</td>\n",
              "      <td>-2.530187</td>\n",
              "      <td>56.069697</td>\n",
              "    </tr>\n",
              "    <tr>\n",
              "      <th>2</th>\n",
              "      <td>ovLUW</td>\n",
              "      <td>0.194587</td>\n",
              "      <td>0.289035</td>\n",
              "      <td>-5.586433</td>\n",
              "      <td>62.871910</td>\n",
              "    </tr>\n",
              "    <tr>\n",
              "      <th>3</th>\n",
              "      <td>q6cA6</td>\n",
              "      <td>2.236060</td>\n",
              "      <td>-0.553760</td>\n",
              "      <td>0.930038</td>\n",
              "      <td>114.572842</td>\n",
              "    </tr>\n",
              "    <tr>\n",
              "      <th>4</th>\n",
              "      <td>WPMUX</td>\n",
              "      <td>-0.515993</td>\n",
              "      <td>1.716266</td>\n",
              "      <td>5.899011</td>\n",
              "      <td>149.600746</td>\n",
              "    </tr>\n",
              "  </tbody>\n",
              "</table>\n",
              "</div>"
            ],
            "text/plain": [
              "      id        f0        f1        f2     product\n",
              "0  fwXo0 -1.146987  0.963328 -0.828965   27.758673\n",
              "1  WJtFt  0.262778  0.269839 -2.530187   56.069697\n",
              "2  ovLUW  0.194587  0.289035 -5.586433   62.871910\n",
              "3  q6cA6  2.236060 -0.553760  0.930038  114.572842\n",
              "4  WPMUX -0.515993  1.716266  5.899011  149.600746"
            ]
          },
          "execution_count": 3,
          "metadata": {},
          "output_type": "execute_result"
        }
      ],
      "source": [
        "try:\n",
        "    df_1 = pd.read_csv('/content/geo_data_0.csv')#, sep=',')\n",
        "    df_2 = pd.read_csv('/content/geo_data_1.csv')#, sep=',')\n",
        "    df_3 = pd.read_csv('/content/geo_data_2.csv')#, sep=',')\n",
        "except:\n",
        "    df_1 = pd.read_csv('/datasets/geo_data_0.csv')#, sep=',')\n",
        "    df_2 = pd.read_csv('/datasets/geo_data_1.csv')#, sep=',')\n",
        "    df_3 = pd.read_csv('/datasets/geo_data_2.csv')#, sep=',')\n",
        "\n",
        "#Просмотр\n",
        "display(df_1.info())\n",
        "display(df_1.head(5))\n",
        "\n",
        "display(df_2.info())\n",
        "display(df_2.head(5))\n",
        "\n",
        "display(df_3.info())\n",
        "(df_3.head(5))\n"
      ]
    },
    {
      "cell_type": "markdown",
      "metadata": {
        "id": "VTY59FnLCRp5"
      },
      "source": [
        "### Поиск и устранение дублей\n",
        "<a id='3-bullet'></a>"
      ]
    },
    {
      "cell_type": "code",
      "execution_count": null,
      "metadata": {
        "colab": {
          "base_uri": "https://localhost:8080/",
          "height": 553
        },
        "id": "uztopg6l85ce",
        "outputId": "64dc8b5a-51de-4e54-bf4f-2d4cd1bbdcfb"
      },
      "outputs": [
        {
          "name": "stdout",
          "output_type": "stream",
          "text": [
            "Количество дубликатов в столбцах:\n"
          ]
        },
        {
          "data": {
            "text/plain": [
              "id         10\n",
              "f0          0\n",
              "f1          0\n",
              "f2          0\n",
              "product     0\n",
              "dtype: int64"
            ]
          },
          "metadata": {},
          "output_type": "display_data"
        },
        {
          "name": "stdout",
          "output_type": "stream",
          "text": [
            "Количество дубликатов в строках:\n"
          ]
        },
        {
          "data": {
            "text/plain": [
              "0"
            ]
          },
          "metadata": {},
          "output_type": "display_data"
        },
        {
          "data": {
            "text/plain": [
              "None"
            ]
          },
          "metadata": {},
          "output_type": "display_data"
        },
        {
          "name": "stdout",
          "output_type": "stream",
          "text": [
            "Количество дубликатов в столбцах:\n"
          ]
        },
        {
          "data": {
            "text/plain": [
              "id             4\n",
              "f0             0\n",
              "f1             0\n",
              "f2             0\n",
              "product    99988\n",
              "dtype: int64"
            ]
          },
          "metadata": {},
          "output_type": "display_data"
        },
        {
          "name": "stdout",
          "output_type": "stream",
          "text": [
            "Количество дубликатов в строках:\n"
          ]
        },
        {
          "data": {
            "text/plain": [
              "0"
            ]
          },
          "metadata": {},
          "output_type": "display_data"
        },
        {
          "data": {
            "text/plain": [
              "None"
            ]
          },
          "metadata": {},
          "output_type": "display_data"
        },
        {
          "name": "stdout",
          "output_type": "stream",
          "text": [
            "Количество дубликатов в столбцах:\n"
          ]
        },
        {
          "data": {
            "text/plain": [
              "id         4\n",
              "f0         0\n",
              "f1         0\n",
              "f2         0\n",
              "product    0\n",
              "dtype: int64"
            ]
          },
          "metadata": {},
          "output_type": "display_data"
        },
        {
          "name": "stdout",
          "output_type": "stream",
          "text": [
            "Количество дубликатов в строках:\n"
          ]
        },
        {
          "data": {
            "text/plain": [
              "0"
            ]
          },
          "metadata": {},
          "output_type": "display_data"
        },
        {
          "data": {
            "text/plain": [
              "None"
            ]
          },
          "metadata": {},
          "output_type": "display_data"
        }
      ],
      "source": [
        "#Функция по поиску дублей\n",
        "def search_duplicates(df):\n",
        "    print('Количество дубликатов в столбцах:')\n",
        "    display(df.apply(lambda col: col.duplicated().sum()))\n",
        "\n",
        "    print('Количество дубликатов в строках:')\n",
        "    display(df.duplicated().sum())\n",
        "\n",
        "\n",
        "display(search_duplicates(df_1))\n",
        "display(search_duplicates(df_2))\n",
        "display(search_duplicates(df_3))"
      ]
    },
    {
      "cell_type": "markdown",
      "metadata": {
        "id": "1GQ5GDc_U5zO"
      },
      "source": [
        "<b>Комментарий к предобработке</b>\n",
        "\n",
        "- Дубли в столбцах 'id' можно удалить, ведь должно быть уникальное значение\n",
        "- Повторы в объёме запасов вполне объяснимы округлением  "
      ]
    },
    {
      "cell_type": "code",
      "execution_count": null,
      "metadata": {
        "id": "yDQ-8J8zv2WO"
      },
      "outputs": [],
      "source": [
        "def prepr(df):\n",
        "    df = df.drop_duplicates(subset='id')\n",
        "\n",
        "    df = df.drop('id', axis=1)\n",
        "\n",
        "    df = df.dropna()\n",
        "\n",
        "    return df\n",
        "\n",
        "\n",
        "df_1 = prepr(df_1)\n",
        "df_2 = prepr(df_2)\n",
        "df_3 = prepr(df_3)\n"
      ]
    },
    {
      "cell_type": "markdown",
      "metadata": {
        "id": "MWBS0Ce4XEcT"
      },
      "source": [
        "### Построение пайплайна предобработки\n",
        "<a id='4-bullet'></a>"
      ]
    },
    {
      "cell_type": "code",
      "execution_count": null,
      "metadata": {
        "id": "CjMNq9pXoMtL"
      },
      "outputs": [],
      "source": [
        "RANDOM_STATE = 42\n",
        "TEST_SIZE = 0.25\n",
        "\n",
        "#Список признаков для масштабирования\n",
        "num_columns = ['f0', 'f1', 'f2']\n",
        "\n",
        "#Общий пайплайн предобработки\n",
        "preprocessor = ColumnTransformer(\n",
        "    transformers=[\n",
        "        ('num', StandardScaler(), num_columns)\n",
        "])"
      ]
    },
    {
      "cell_type": "markdown",
      "metadata": {
        "id": "n9Y2NR6cbafo"
      },
      "source": [
        "##Шаг 2. Обучение и проверка модели для каждого региона"
      ]
    },
    {
      "cell_type": "code",
      "execution_count": null,
      "metadata": {
        "colab": {
          "base_uri": "https://localhost:8080/"
        },
        "id": "7LPwrt_z5n0B",
        "outputId": "2ca5c905-5b34-4b05-a897-3e88648b7932"
      },
      "outputs": [
        {
          "data": {
            "text/plain": [
              "{'Регион 0': {'Средний предсказанный запас сырья': 92.61, 'RMSE': 37.69},\n",
              " 'Регион 1': {'Средний предсказанный запас сырья': 68.58, 'RMSE': 0.89},\n",
              " 'Регион 2': {'Средний предсказанный запас сырья': 94.93, 'RMSE': 40.08}}"
            ]
          },
          "execution_count": 7,
          "metadata": {},
          "output_type": "execute_result"
        }
      ],
      "source": [
        "pipeline = Pipeline(steps=[\n",
        "    ('preprocessor', preprocessor),\n",
        "    ('model', LinearRegression())\n",
        "])\n",
        "\n",
        "def pred(data):\n",
        "    X = data.drop(['product'], axis=1)\n",
        "    y = data['product']\n",
        "\n",
        "    X_train, X_valid, y_train, y_valid = train_test_split(X, y, test_size=0.25, random_state=42)\n",
        "\n",
        "    pipeline.fit(X_train, y_train)\n",
        "\n",
        "    predictions = pipeline.predict(X_valid)\n",
        "\n",
        "    mse = mean_squared_error(y_valid, predictions)\n",
        "    rmse = np.sqrt(mse)\n",
        "\n",
        "    return predictions, y_valid, rmse\n",
        "\n",
        "df_list = [df_1, df_2, df_3]\n",
        "results = {}\n",
        "\n",
        "#Цикл для обучения моделей и сохранения результатов в словарь\n",
        "for i, df in enumerate(df_list):\n",
        "    predictions, y_valid, rmse = pred(df)\n",
        "    results[f\"Регион {i}\"] = {'Средний предсказанный запас сырья': predictions.mean().round(2), 'RMSE': rmse.round(2)}\n",
        "\n",
        "#Вывод среднего запаса предсказанного сырья и RMSE модели для каждого региона\n",
        "results"
      ]
    },
    {
      "cell_type": "markdown",
      "metadata": {
        "id": "JI6de0C7ASyh"
      },
      "source": [
        "<b>Вывод к обучению</b>\n",
        "\n",
        "- Лучше всего модель обучилась на данных первого региона, разброс минимален, но средний запас сырья ниже чем у двух других"
      ]
    },
    {
      "cell_type": "markdown",
      "metadata": {
        "id": "504c1aVRBJa_"
      },
      "source": [
        "###Сохранение результатов обучения\n",
        "<a id='5-bullet'></a>"
      ]
    },
    {
      "cell_type": "code",
      "execution_count": null,
      "metadata": {
        "id": "QGC7guOWCWBk"
      },
      "outputs": [],
      "source": [
        "#Сохранение результатов обучения для расчётов\n",
        "predictions_region1, y_valid_region1, rmse_region1 = pred(df_1)\n",
        "predictions_region2, y_valid_region2, rmse_region2 = pred(df_2)\n",
        "predictions_region3, y_valid_region3, rmse_region3 = pred(df_3)\n"
      ]
    },
    {
      "cell_type": "markdown",
      "metadata": {
        "id": "SON0UdkDAnsR"
      },
      "source": [
        "##Шаг 3. Подготовка к расчёту прибыли"
      ]
    },
    {
      "cell_type": "code",
      "execution_count": null,
      "metadata": {
        "id": "czYpIvybAnDL"
      },
      "outputs": [],
      "source": [
        "#Бюджет на разработку 200 скважин\n",
        "budget_per_well = 10e9\n",
        "# Доход с одной тысячи баррелей нефти\n",
        "barrel_revenue = 450 * 1000\n",
        "#Количество скважин для разработки\n",
        "wells_to_drill = 200\n",
        "\n",
        "#Расчёт безубыточного объёма\n",
        "breakeven_volume = budget_per_well / (barrel_revenue * wells_to_drill)\n"
      ]
    },
    {
      "cell_type": "markdown",
      "metadata": {
        "id": "uo2WoYhBFUT8"
      },
      "source": [
        "###Сравнение средних значений для безубыточной добычи\n",
        "<a id='6-bullet'></a>"
      ]
    },
    {
      "cell_type": "code",
      "execution_count": null,
      "metadata": {
        "colab": {
          "base_uri": "https://localhost:8080/"
        },
        "id": "ic7mqrQWB94L",
        "outputId": "10e5f73f-612c-4937-880a-2fd968d65ce7"
      },
      "outputs": [
        {
          "name": "stdout",
          "output_type": "stream",
          "text": [
            "Количество тыс. баррелей в скважине для безубытончной разраотки: 111.11111111111111\n",
            "Количество баррелей в регионе 1: count    99990.000000\n",
            "mean        92.499684\n",
            "std         44.288304\n",
            "min          0.000000\n",
            "25%         56.497069\n",
            "50%         91.847928\n",
            "75%        128.563699\n",
            "max        185.364347\n",
            "Name: product, dtype: float64\n",
            "Количество баррелей в регионе 2: count    99996.000000\n",
            "mean        68.823916\n",
            "std         45.944663\n",
            "min          0.000000\n",
            "25%         26.953261\n",
            "50%         57.085625\n",
            "75%        107.813044\n",
            "max        137.945408\n",
            "Name: product, dtype: float64\n",
            "Количество баррелей в регионе 3: count    99996.000000\n",
            "mean        94.998342\n",
            "std         44.749573\n",
            "min          0.000000\n",
            "25%         59.450028\n",
            "50%         94.925026\n",
            "75%        130.586815\n",
            "max        190.029838\n",
            "Name: product, dtype: float64\n"
          ]
        }
      ],
      "source": [
        "print('Количество тыс. баррелей в скважине для безубытончной разраотки:', breakeven_volume)\n",
        "\n",
        "for i, df in enumerate(df_list):\n",
        "    mean_value = df['product'].describe()\n",
        "    print(f'Количество баррелей в регионе {i+1}: {mean_value}')"
      ]
    },
    {
      "cell_type": "markdown",
      "metadata": {
        "id": "V1YetjlDFpCp"
      },
      "source": [
        "<b>Вывод к расчёту прибыли</b>\n",
        "\n",
        "- Среднее количество тыс. баррелей не дотягивает до безубыточных границ, но это вполне компенсируется квартилями 75%"
      ]
    },
    {
      "cell_type": "markdown",
      "metadata": {
        "id": "Wz3jsR9-I3JE"
      },
      "source": [
        "##Шаг 4. Расчёт прибыли по выбранным скважинам и предсказаниям модели"
      ]
    },
    {
      "cell_type": "code",
      "execution_count": null,
      "metadata": {
        "colab": {
          "base_uri": "https://localhost:8080/"
        },
        "id": "5I5idf8ZBwhR",
        "outputId": "468f4564-fb8b-4517-d308-3b52743592db"
      },
      "outputs": [
        {
          "name": "stdout",
          "output_type": "stream",
          "text": [
            "3468529787.422388 2415086696.681511 2396613000.939848\n"
          ]
        }
      ],
      "source": [
        "#Функция для расчёта дохода в регионах\n",
        "def calculate_profit(predictions, y_valid):\n",
        "    sorted_predictions = np.sort(predictions)[::-1]\n",
        "    selected_wells_indices = np.argsort(predictions)[::-1][:wells_to_drill]\n",
        "    total_oil_volume = y_valid.iloc[selected_wells_indices].sum()\n",
        "    total_revenue = total_oil_volume * barrel_revenue - budget_per_well\n",
        "\n",
        "    return total_revenue\n",
        "\n",
        "#Сохранение результатов\n",
        "profit_region1 = calculate_profit(predictions_region1, y_valid_region1)\n",
        "profit_region2 = calculate_profit(predictions_region2, y_valid_region2)\n",
        "profit_region3 = calculate_profit(predictions_region3, y_valid_region3)\n",
        "\n",
        "#Вывод\n",
        "print(profit_region1, profit_region2, profit_region3)"
      ]
    },
    {
      "cell_type": "markdown",
      "metadata": {
        "id": "1XdMq91DLfh2"
      },
      "source": [
        "<b>Вывод к расчёту регионального дохода</b>\n",
        "\n",
        "Все регионы потенциально принесут выручку"
      ]
    },
    {
      "cell_type": "markdown",
      "metadata": {
        "id": "yd_sKFXnJqTS"
      },
      "source": [
        "##Шаг 5. Подсчёт рисков и прибыли для каждого региона"
      ]
    },
    {
      "cell_type": "markdown",
      "metadata": {
        "id": "5j7B6mZHLVii"
      },
      "source": [
        "###Bootstrap\n",
        "<a id='7-bullet'></a>"
      ]
    },
    {
      "cell_type": "code",
      "execution_count": null,
      "metadata": {
        "id": "x7GUKxOdDoQF"
      },
      "outputs": [],
      "source": [
        "#Функция с Bootstrap с 1000 выборок, для распределения прибыли\n",
        "def bootstrap_profit(predictions, y_valid):\n",
        "    state = np.random.RandomState(42)\n",
        "    profits = []\n",
        "    for _ in range(1000):\n",
        "        random_indices = state.choice(len(predictions), size=500, replace=True)\n",
        "        bootstrap_predictions = predictions[random_indices]\n",
        "        bootstrap_y_valid = y_valid.iloc[random_indices]\n",
        "\n",
        "        profit = calculate_profit(bootstrap_predictions, bootstrap_y_valid)\n",
        "        profits.append(profit)\n",
        "\n",
        "    return profits\n",
        "\n",
        "#Cохранение результатов\n",
        "bootstrap1 = bootstrap_profit(predictions_region1, y_valid_region1)\n",
        "bootstrap2 = bootstrap_profit(predictions_region2, y_valid_region2)\n",
        "bootstrap3 = bootstrap_profit(predictions_region3, y_valid_region3)\n"
      ]
    },
    {
      "cell_type": "markdown",
      "metadata": {
        "id": "yudSxCUkLxX2"
      },
      "source": [
        "###Финальные метрики и вывод\n",
        "<a id='8-bullet'></a>"
      ]
    },
    {
      "cell_type": "code",
      "execution_count": null,
      "metadata": {
        "colab": {
          "base_uri": "https://localhost:8080/"
        },
        "id": "vpmEcWjYsEtN",
        "outputId": "af8e50de-7150-446b-8888-8e23d64a9984"
      },
      "outputs": [
        {
          "name": "stdout",
          "output_type": "stream",
          "text": [
            "Регион 1\n",
            "Средняя прибыль: 403572063.9550541\n",
            "95%-й доверительный интервал: [-137690003.1514729, 902848310.7781234]\n",
            "Риск убытков: 0.059\n",
            "Регион 2\n",
            "Средняя прибыль: 430208352.49343604\n",
            "95%-й доверительный интервал: [43052519.63423143, 847313467.2140586]\n",
            "Риск убытков: 0.016\n",
            "Регион 3\n",
            "Средняя прибыль: 384214428.6827778\n",
            "95%-й доверительный интервал: [-127589876.98701142, 910134439.5370146]\n",
            "Риск убытков: 0.08\n"
          ]
        }
      ],
      "source": [
        "#Функция для расчёта метрик\n",
        "def cal_metrics(bootstrap, reg_name):\n",
        "    bootstrap = pd.Series(bootstrap)\n",
        "\n",
        "    mean_prof = np.mean(bootstrap)\n",
        "\n",
        "    lower = np.percentile(bootstrap, 2.5)\n",
        "    upper = np.percentile(bootstrap, 97.5)\n",
        "\n",
        "    losses = np.sum(np.array(bootstrap) < 0) / len(bootstrap)\n",
        "\n",
        "    print(reg_name)\n",
        "    print(f'Средняя прибыль: {mean_prof}')\n",
        "    print(f'95%-й доверительный интервал: [{lower}, {upper}]')\n",
        "    print(f'Риск убытков: {losses}')\n",
        "\n",
        "\n",
        "cal_metrics(bootstrap1, 'Регион 1')\n",
        "cal_metrics(bootstrap2, 'Регион 2')\n",
        "cal_metrics(bootstrap3, 'Регион 3')\n"
      ]
    },
    {
      "cell_type": "markdown",
      "metadata": {
        "id": "srdZk0_EMaSw"
      },
      "source": [
        "<b>Финальный вывод</b>\n",
        "\n",
        "- Разработкой пердлагается заняться в 2 регионе, потенциально он может принести наибольшую прибыль, и значения доверительного интерва находятся хоть и не в столь стабильных, но достаточно высоких (В сравнении с другими регионами) диапазонах значений"
      ]
    }
  ],
  "metadata": {
    "ExecuteTimeLog": [
      {
        "duration": 1298,
        "start_time": "2024-04-07T11:28:12.565Z"
      },
      {
        "duration": 3,
        "start_time": "2024-04-07T11:28:13.865Z"
      },
      {
        "duration": 1673,
        "start_time": "2024-04-07T11:28:23.237Z"
      },
      {
        "duration": 230,
        "start_time": "2024-04-07T11:29:05.182Z"
      },
      {
        "duration": 91,
        "start_time": "2024-04-07T11:30:33.981Z"
      },
      {
        "duration": 3,
        "start_time": "2024-04-07T11:30:52.057Z"
      },
      {
        "duration": 367,
        "start_time": "2024-04-07T11:31:19.207Z"
      },
      {
        "duration": 417,
        "start_time": "2024-04-07T11:32:36.461Z"
      },
      {
        "duration": 3,
        "start_time": "2024-04-07T11:32:47.841Z"
      },
      {
        "duration": 27,
        "start_time": "2024-04-07T11:33:38.020Z"
      },
      {
        "duration": 5,
        "start_time": "2024-04-07T11:35:57.881Z"
      },
      {
        "duration": 4,
        "start_time": "2024-04-07T11:36:06.798Z"
      },
      {
        "duration": 5,
        "start_time": "2024-04-07T11:36:14.655Z"
      },
      {
        "duration": 104,
        "start_time": "2024-04-07T11:37:22.803Z"
      },
      {
        "duration": 18,
        "start_time": "2024-04-07T11:37:26.698Z"
      },
      {
        "duration": 13032,
        "start_time": "2024-04-07T11:37:30.412Z"
      },
      {
        "duration": 14582,
        "start_time": "2024-04-07T11:38:28.046Z"
      },
      {
        "duration": 13011,
        "start_time": "2024-04-07T11:38:49.571Z"
      },
      {
        "duration": 26024,
        "start_time": "2024-04-07T11:41:21.080Z"
      },
      {
        "duration": 16,
        "start_time": "2024-04-07T11:41:52.259Z"
      },
      {
        "duration": 1975,
        "start_time": "2024-05-09T03:30:22.262Z"
      },
      {
        "duration": 2,
        "start_time": "2024-05-09T03:30:24.239Z"
      },
      {
        "duration": 476,
        "start_time": "2024-05-09T03:30:24.243Z"
      },
      {
        "duration": 213,
        "start_time": "2024-05-09T03:30:24.721Z"
      },
      {
        "duration": 100,
        "start_time": "2024-05-09T03:30:24.936Z"
      },
      {
        "duration": 3,
        "start_time": "2024-05-09T03:30:25.038Z"
      },
      {
        "duration": 529,
        "start_time": "2024-05-09T03:30:25.042Z"
      },
      {
        "duration": 519,
        "start_time": "2024-05-09T03:30:25.573Z"
      },
      {
        "duration": 4,
        "start_time": "2024-05-09T03:30:26.170Z"
      },
      {
        "duration": 128,
        "start_time": "2024-05-09T03:30:26.176Z"
      },
      {
        "duration": 15,
        "start_time": "2024-05-09T03:30:59.187Z"
      },
      {
        "duration": 183354,
        "start_time": "2024-05-09T03:31:34.735Z"
      },
      {
        "duration": 1450,
        "start_time": "2024-05-09T03:36:28.684Z"
      },
      {
        "duration": 8,
        "start_time": "2024-05-09T03:36:30.588Z"
      },
      {
        "duration": 1365,
        "start_time": "2024-05-09T03:37:37.568Z"
      },
      {
        "duration": 9,
        "start_time": "2024-05-09T03:37:39.244Z"
      },
      {
        "duration": 562,
        "start_time": "2024-05-09T03:38:28.912Z"
      },
      {
        "duration": 140,
        "start_time": "2024-05-09T03:38:36.073Z"
      },
      {
        "duration": 158,
        "start_time": "2024-05-09T03:38:41.496Z"
      },
      {
        "duration": 1383,
        "start_time": "2024-05-09T03:38:52.076Z"
      },
      {
        "duration": 9,
        "start_time": "2024-05-09T03:38:55.757Z"
      },
      {
        "duration": 1198,
        "start_time": "2024-05-13T18:21:53.147Z"
      },
      {
        "duration": 3,
        "start_time": "2024-05-13T18:21:54.347Z"
      },
      {
        "duration": 1725,
        "start_time": "2024-05-13T18:21:54.351Z"
      },
      {
        "duration": 281,
        "start_time": "2024-05-13T18:21:56.078Z"
      },
      {
        "duration": 117,
        "start_time": "2024-05-13T18:21:56.361Z"
      },
      {
        "duration": 4,
        "start_time": "2024-05-13T18:21:56.480Z"
      },
      {
        "duration": 390,
        "start_time": "2024-05-13T18:21:56.486Z"
      },
      {
        "duration": 594,
        "start_time": "2024-05-13T18:21:56.879Z"
      },
      {
        "duration": 4,
        "start_time": "2024-05-13T18:21:57.476Z"
      },
      {
        "duration": 114,
        "start_time": "2024-05-13T18:21:57.559Z"
      },
      {
        "duration": 22,
        "start_time": "2024-05-13T18:21:57.676Z"
      },
      {
        "duration": 1021,
        "start_time": "2024-05-13T18:21:57.701Z"
      },
      {
        "duration": 9,
        "start_time": "2024-05-13T18:21:58.724Z"
      },
      {
        "duration": 1158,
        "start_time": "2024-05-13T18:26:25.764Z"
      },
      {
        "duration": 2,
        "start_time": "2024-05-13T18:26:26.925Z"
      },
      {
        "duration": 536,
        "start_time": "2024-05-13T18:26:26.929Z"
      },
      {
        "duration": 271,
        "start_time": "2024-05-13T18:26:27.467Z"
      },
      {
        "duration": 120,
        "start_time": "2024-05-13T18:26:27.739Z"
      },
      {
        "duration": 3,
        "start_time": "2024-05-13T18:26:27.861Z"
      },
      {
        "duration": 406,
        "start_time": "2024-05-13T18:26:27.866Z"
      },
      {
        "duration": 594,
        "start_time": "2024-05-13T18:26:28.274Z"
      },
      {
        "duration": 4,
        "start_time": "2024-05-13T18:26:28.871Z"
      },
      {
        "duration": 200,
        "start_time": "2024-05-13T18:26:28.877Z"
      },
      {
        "duration": 19,
        "start_time": "2024-05-13T18:26:29.079Z"
      },
      {
        "duration": 1033,
        "start_time": "2024-05-13T18:26:29.100Z"
      },
      {
        "duration": 11,
        "start_time": "2024-05-13T18:26:30.135Z"
      }
    ],
    "colab": {
      "provenance": [],
      "include_colab_link": true
    },
    "kernelspec": {
      "display_name": "Python 3 (ipykernel)",
      "language": "python",
      "name": "python3"
    },
    "language_info": {
      "codemirror_mode": {
        "name": "ipython",
        "version": 3
      },
      "file_extension": ".py",
      "mimetype": "text/x-python",
      "name": "python",
      "nbconvert_exporter": "python",
      "pygments_lexer": "ipython3",
      "version": "3.9.5"
    },
    "toc": {
      "base_numbering": 1,
      "nav_menu": {},
      "number_sections": true,
      "sideBar": true,
      "skip_h1_title": true,
      "title_cell": "Table of Contents",
      "title_sidebar": "Contents",
      "toc_cell": false,
      "toc_position": {},
      "toc_section_display": true,
      "toc_window_display": true
    }
  },
  "nbformat": 4,
  "nbformat_minor": 0
}