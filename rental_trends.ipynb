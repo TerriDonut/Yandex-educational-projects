{
  "cells": [
    {
      "cell_type": "markdown",
      "metadata": {
        "id": "view-in-github",
        "colab_type": "text"
      },
      "source": [
        "<a href=\"https://colab.research.google.com/github/TerriDonut/Yandex-educational-projects/blob/main/rental_trends.ipynb\" target=\"_parent\"><img src=\"https://colab.research.google.com/assets/colab-badge.svg\" alt=\"Open In Colab\"/></a>"
      ]
    },
    {
      "cell_type": "markdown",
      "metadata": {
        "id": "_W5JKjsq97SA"
      },
      "source": [
        "<b>Введение:</b>\n",
        "    \n",
        "В ислледовании изучается рынок российского кинопроката, с целью выявить текущие тренды. Уделяется внимание фильмам, которые получили государственную поддержку.\n",
        "Работать предстоит с данными, опубликованными на портале открытых данных Министерства культуры.\n",
        "\n",
        "Набор данных содержит информацию о прокатных удостоверениях, сборах и государственной поддержке фильмов, а также информацию с сайта КиноПоиск.\n",
        "\n",
        "<b>План исследования:</b>\n",
        "\n",
        "- Выяснить:\n",
        "-- Сколько фильмов выходило в прокат каждый год.\n",
        "-- Какую долю составляют фильмы с указанной информацией о прокате в кинотеатрах, как эта доля менялась по годам.\n",
        "-- Как менялась динамика проката по годам.\n",
        "-- Влияет ли возрастное ограничение аудитории («6+», «12+», «16+», «18+» и т. д.) на сборы фильма в прокате\n",
        "- Изучить фильмы с гос.поддержкой на предмет окупаемости и рейтинга\n",
        "- Найти параметры кассово-успешных картин"
      ]
    },
    {
      "cell_type": "markdown",
      "metadata": {
        "id": "9RIoIR6fIw5e"
      },
      "source": [
        "\n",
        "##Шаг 1. Открытие файлов с данными и изучение общей информации\n",
        "---\n",
        "\n"
      ]
    },
    {
      "cell_type": "code",
      "execution_count": null,
      "metadata": {
        "id": "noJem3pYw9Cy"
      },
      "outputs": [],
      "source": [
        "#Импорт необходимых бибилиотек\n",
        "import pandas as pd\n",
        "import matplotlib.pyplot as plt\n",
        "import math\n",
        "import numpy as np\n",
        "import seaborn as sns"
      ]
    },
    {
      "cell_type": "code",
      "execution_count": null,
      "metadata": {
        "colab": {
          "base_uri": "https://localhost:8080/"
        },
        "id": "o0YiADP15BmB",
        "outputId": "1e96221e-3507-48bf-8aca-b31c1690d8e5",
        "scrolled": false
      },
      "outputs": [
        {
          "name": "stdout",
          "output_type": "stream",
          "text": [
            "<class 'pandas.core.frame.DataFrame'>\n",
            "RangeIndex: 7486 entries, 0 to 7485\n",
            "Data columns (total 15 columns):\n",
            " #   Column                 Non-Null Count  Dtype  \n",
            "---  ------                 --------------  -----  \n",
            " 0   title                  7486 non-null   object \n",
            " 1   puNumber               7486 non-null   object \n",
            " 2   show_start_date        7486 non-null   object \n",
            " 3   type                   7486 non-null   object \n",
            " 4   film_studio            7468 non-null   object \n",
            " 5   production_country     7484 non-null   object \n",
            " 6   director               7477 non-null   object \n",
            " 7   producer               6918 non-null   object \n",
            " 8   age_restriction        7486 non-null   object \n",
            " 9   refundable_support     332 non-null    float64\n",
            " 10  nonrefundable_support  332 non-null    float64\n",
            " 11  budget                 332 non-null    float64\n",
            " 12  financing_source       332 non-null    object \n",
            " 13  ratings                6519 non-null   object \n",
            " 14  genres                 6510 non-null   object \n",
            "dtypes: float64(3), object(12)\n",
            "memory usage: 877.4+ KB\n",
            "None\n",
            "<class 'pandas.core.frame.DataFrame'>\n",
            "RangeIndex: 3158 entries, 0 to 3157\n",
            "Data columns (total 2 columns):\n",
            " #   Column      Non-Null Count  Dtype  \n",
            "---  ------      --------------  -----  \n",
            " 0   puNumber    3158 non-null   int64  \n",
            " 1   box_office  3158 non-null   float64\n",
            "dtypes: float64(1), int64(1)\n",
            "memory usage: 49.5 KB\n",
            "None\n"
          ]
        }
      ],
      "source": [
        "#Вызов общей информации по данным\n",
        "try:\n",
        "    df_movies = pd.read_csv('/content/mkrf_movies.csv')\n",
        "    df_shows = pd.read_csv('/content/mkrf_shows.csv')\n",
        "except:\n",
        "    df_movies = pd.read_csv('/datasets/mkrf_movies.csv')\n",
        "    df_shows = pd.read_csv('/datasets/mkrf_shows.csv')\n",
        "\n",
        "print(df_movies.info())\n",
        "print(df_shows.info())"
      ]
    },
    {
      "cell_type": "code",
      "execution_count": null,
      "metadata": {
        "colab": {
          "base_uri": "https://localhost:8080/",
          "height": 1000
        },
        "id": "y4GazKcLZLkb",
        "outputId": "1da091e2-1211-4260-e429-35dc7b6e7814"
      },
      "outputs": [
        {
          "data": {
            "text/html": [
              "<div>\n",
              "<style scoped>\n",
              "    .dataframe tbody tr th:only-of-type {\n",
              "        vertical-align: middle;\n",
              "    }\n",
              "\n",
              "    .dataframe tbody tr th {\n",
              "        vertical-align: top;\n",
              "    }\n",
              "\n",
              "    .dataframe thead th {\n",
              "        text-align: right;\n",
              "    }\n",
              "</style>\n",
              "<table border=\"1\" class=\"dataframe\">\n",
              "  <thead>\n",
              "    <tr style=\"text-align: right;\">\n",
              "      <th></th>\n",
              "      <th>title</th>\n",
              "      <th>puNumber</th>\n",
              "      <th>show_start_date</th>\n",
              "      <th>type</th>\n",
              "      <th>film_studio</th>\n",
              "      <th>production_country</th>\n",
              "      <th>director</th>\n",
              "      <th>producer</th>\n",
              "      <th>age_restriction</th>\n",
              "      <th>refundable_support</th>\n",
              "      <th>nonrefundable_support</th>\n",
              "      <th>budget</th>\n",
              "      <th>financing_source</th>\n",
              "      <th>ratings</th>\n",
              "      <th>genres</th>\n",
              "    </tr>\n",
              "  </thead>\n",
              "  <tbody>\n",
              "    <tr>\n",
              "      <th>0</th>\n",
              "      <td>Открытый простор</td>\n",
              "      <td>221048915</td>\n",
              "      <td>2015-11-27T12:00:00.000Z</td>\n",
              "      <td>Художественный</td>\n",
              "      <td>Тачстоун Пикчерз, Кобальт Пикчерз, Бикон Пикче...</td>\n",
              "      <td>США</td>\n",
              "      <td>Кевин Костнер</td>\n",
              "      <td>Дэвид Валдес, Кевин Костнер, Джейк Эбертс</td>\n",
              "      <td>«18+» - запрещено для детей</td>\n",
              "      <td>NaN</td>\n",
              "      <td>NaN</td>\n",
              "      <td>NaN</td>\n",
              "      <td>NaN</td>\n",
              "      <td>7.2</td>\n",
              "      <td>боевик,драма,мелодрама</td>\n",
              "    </tr>\n",
              "    <tr>\n",
              "      <th>1</th>\n",
              "      <td>Особо важное задание</td>\n",
              "      <td>111013716</td>\n",
              "      <td>2016-09-13T12:00:00.000Z</td>\n",
              "      <td>Художественный</td>\n",
              "      <td>Киностудия \"Мосфильм\"</td>\n",
              "      <td>СССР</td>\n",
              "      <td>Е.Матвеев</td>\n",
              "      <td>NaN</td>\n",
              "      <td>«6+» - для детей старше 6 лет</td>\n",
              "      <td>NaN</td>\n",
              "      <td>NaN</td>\n",
              "      <td>NaN</td>\n",
              "      <td>NaN</td>\n",
              "      <td>6.6</td>\n",
              "      <td>драма,военный</td>\n",
              "    </tr>\n",
              "    <tr>\n",
              "      <th>2</th>\n",
              "      <td>Особо опасен</td>\n",
              "      <td>221038416</td>\n",
              "      <td>2016-10-10T12:00:00.000Z</td>\n",
              "      <td>Художественный</td>\n",
              "      <td>Юниверсал Пикчерз, Кикстарт Продакшнз, Марк Пл...</td>\n",
              "      <td>США</td>\n",
              "      <td>Тимур Бекмамбетов</td>\n",
              "      <td>Джим Лемли, Джейсон Нетер, Марк Е.Платт, Яйн Смит</td>\n",
              "      <td>«18+» - запрещено для детей</td>\n",
              "      <td>NaN</td>\n",
              "      <td>NaN</td>\n",
              "      <td>NaN</td>\n",
              "      <td>NaN</td>\n",
              "      <td>6.8</td>\n",
              "      <td>фантастика,боевик,триллер</td>\n",
              "    </tr>\n",
              "    <tr>\n",
              "      <th>3</th>\n",
              "      <td>Особо опасен</td>\n",
              "      <td>221026916</td>\n",
              "      <td>2016-06-10T12:00:00.000Z</td>\n",
              "      <td>Художественный</td>\n",
              "      <td>Юниверсал Пикчерз, Кикстарт Продакшнз, Марк Пл...</td>\n",
              "      <td>США</td>\n",
              "      <td>Тимур Бекмамбетов</td>\n",
              "      <td>Джим Лемли, Джейсон Нетер, Марк Е.Платт, Яйн Смит</td>\n",
              "      <td>«18+» - запрещено для детей</td>\n",
              "      <td>NaN</td>\n",
              "      <td>NaN</td>\n",
              "      <td>NaN</td>\n",
              "      <td>NaN</td>\n",
              "      <td>6.8</td>\n",
              "      <td>фантастика,боевик,триллер</td>\n",
              "    </tr>\n",
              "    <tr>\n",
              "      <th>4</th>\n",
              "      <td>Особо опасен</td>\n",
              "      <td>221030815</td>\n",
              "      <td>2015-07-29T12:00:00.000Z</td>\n",
              "      <td>Художественный</td>\n",
              "      <td>Юниверсал Пикчерз, Кикстарт Продакшнз, Марк Пл...</td>\n",
              "      <td>США</td>\n",
              "      <td>Тимур Бекмамбетов</td>\n",
              "      <td>Джим Лемли, Джейсон Нетер, Марк Е.Платт, Яйн Смит</td>\n",
              "      <td>«18+» - запрещено для детей</td>\n",
              "      <td>NaN</td>\n",
              "      <td>NaN</td>\n",
              "      <td>NaN</td>\n",
              "      <td>NaN</td>\n",
              "      <td>6.8</td>\n",
              "      <td>фантастика,боевик,триллер</td>\n",
              "    </tr>\n",
              "  </tbody>\n",
              "</table>\n",
              "</div>"
            ],
            "text/plain": [
              "                  title   puNumber           show_start_date            type  \\\n",
              "0      Открытый простор  221048915  2015-11-27T12:00:00.000Z  Художественный   \n",
              "1  Особо важное задание  111013716  2016-09-13T12:00:00.000Z  Художественный   \n",
              "2          Особо опасен  221038416  2016-10-10T12:00:00.000Z  Художественный   \n",
              "3          Особо опасен  221026916  2016-06-10T12:00:00.000Z  Художественный   \n",
              "4          Особо опасен  221030815  2015-07-29T12:00:00.000Z  Художественный   \n",
              "\n",
              "                                         film_studio production_country  \\\n",
              "0  Тачстоун Пикчерз, Кобальт Пикчерз, Бикон Пикче...                США   \n",
              "1                              Киностудия \"Мосфильм\"               СССР   \n",
              "2  Юниверсал Пикчерз, Кикстарт Продакшнз, Марк Пл...                США   \n",
              "3  Юниверсал Пикчерз, Кикстарт Продакшнз, Марк Пл...                США   \n",
              "4  Юниверсал Пикчерз, Кикстарт Продакшнз, Марк Пл...                США   \n",
              "\n",
              "            director                                           producer  \\\n",
              "0      Кевин Костнер          Дэвид Валдес, Кевин Костнер, Джейк Эбертс   \n",
              "1          Е.Матвеев                                                NaN   \n",
              "2  Тимур Бекмамбетов  Джим Лемли, Джейсон Нетер, Марк Е.Платт, Яйн Смит   \n",
              "3  Тимур Бекмамбетов  Джим Лемли, Джейсон Нетер, Марк Е.Платт, Яйн Смит   \n",
              "4  Тимур Бекмамбетов  Джим Лемли, Джейсон Нетер, Марк Е.Платт, Яйн Смит   \n",
              "\n",
              "                 age_restriction  refundable_support  nonrefundable_support  \\\n",
              "0    «18+» - запрещено для детей                 NaN                    NaN   \n",
              "1  «6+» - для детей старше 6 лет                 NaN                    NaN   \n",
              "2    «18+» - запрещено для детей                 NaN                    NaN   \n",
              "3    «18+» - запрещено для детей                 NaN                    NaN   \n",
              "4    «18+» - запрещено для детей                 NaN                    NaN   \n",
              "\n",
              "   budget financing_source ratings                     genres  \n",
              "0     NaN              NaN     7.2     боевик,драма,мелодрама  \n",
              "1     NaN              NaN     6.6              драма,военный  \n",
              "2     NaN              NaN     6.8  фантастика,боевик,триллер  \n",
              "3     NaN              NaN     6.8  фантастика,боевик,триллер  \n",
              "4     NaN              NaN     6.8  фантастика,боевик,триллер  "
            ]
          },
          "metadata": {},
          "output_type": "display_data"
        },
        {
          "data": {
            "text/html": [
              "<div>\n",
              "<style scoped>\n",
              "    .dataframe tbody tr th:only-of-type {\n",
              "        vertical-align: middle;\n",
              "    }\n",
              "\n",
              "    .dataframe tbody tr th {\n",
              "        vertical-align: top;\n",
              "    }\n",
              "\n",
              "    .dataframe thead th {\n",
              "        text-align: right;\n",
              "    }\n",
              "</style>\n",
              "<table border=\"1\" class=\"dataframe\">\n",
              "  <thead>\n",
              "    <tr style=\"text-align: right;\">\n",
              "      <th></th>\n",
              "      <th>puNumber</th>\n",
              "      <th>box_office</th>\n",
              "    </tr>\n",
              "  </thead>\n",
              "  <tbody>\n",
              "    <tr>\n",
              "      <th>0</th>\n",
              "      <td>111000113</td>\n",
              "      <td>2.450000e+03</td>\n",
              "    </tr>\n",
              "    <tr>\n",
              "      <th>1</th>\n",
              "      <td>111000115</td>\n",
              "      <td>6.104000e+04</td>\n",
              "    </tr>\n",
              "    <tr>\n",
              "      <th>2</th>\n",
              "      <td>111000116</td>\n",
              "      <td>1.530300e+08</td>\n",
              "    </tr>\n",
              "    <tr>\n",
              "      <th>3</th>\n",
              "      <td>111000117</td>\n",
              "      <td>1.226096e+07</td>\n",
              "    </tr>\n",
              "    <tr>\n",
              "      <th>4</th>\n",
              "      <td>111000118</td>\n",
              "      <td>1.636841e+08</td>\n",
              "    </tr>\n",
              "  </tbody>\n",
              "</table>\n",
              "</div>"
            ],
            "text/plain": [
              "    puNumber    box_office\n",
              "0  111000113  2.450000e+03\n",
              "1  111000115  6.104000e+04\n",
              "2  111000116  1.530300e+08\n",
              "3  111000117  1.226096e+07\n",
              "4  111000118  1.636841e+08"
            ]
          },
          "metadata": {},
          "output_type": "display_data"
        },
        {
          "data": {
            "text/plain": [
              "0     221048915\n",
              "1     111013716\n",
              "2     221038416\n",
              "3     221026916\n",
              "4     221030815\n",
              "5     111013816\n",
              "6     111007013\n",
              "7     221074614\n",
              "8     121011416\n",
              "9     111019114\n",
              "10    221031416\n",
              "11    111019014\n",
              "12    221011415\n",
              "13    121003106\n",
              "14    221008812\n",
              "Name: puNumber, dtype: object"
            ]
          },
          "execution_count": 3,
          "metadata": {},
          "output_type": "execute_result"
        }
      ],
      "source": [
        "display(df_movies.head())\n",
        "display(df_shows.head())\n",
        "(df_movies['puNumber'].head(15))"
      ]
    },
    {
      "cell_type": "markdown",
      "metadata": {
        "id": "Tw57EouiCqOo"
      },
      "source": [
        "<b>Слияние:</b>\n",
        "\n",
        "Объединяю данные реестра с прокатными. В первом датафрейме столбец с прокатными удостоверениями имеет тип object и значения мешающие его изменению, поэтому перед слиянием удалю аномалии"
      ]
    },
    {
      "cell_type": "code",
      "execution_count": null,
      "metadata": {
        "id": "ExBtEi3M8rmb"
      },
      "outputs": [],
      "source": [
        "#Удалил проценты\n",
        "df_movies['puNumber'] = df_movies['puNumber'].str.replace('%', '')\n",
        "#Превращю значения столбца в числовой тип, с сведением аномалий к 'NaN'\n",
        "df_movies['puNumber'] = pd.to_numeric(df_movies['puNumber'], errors='coerce')\n",
        "#Замею \"NaN\" на нули\n",
        "df_movies['puNumber'] = df_movies['puNumber'].fillna(0)\n",
        "#Преобразую тип данных\n",
        "df_movies['puNumber'] = df_movies['puNumber'].astype('Int64')"
      ]
    },
    {
      "cell_type": "code",
      "execution_count": null,
      "metadata": {
        "colab": {
          "base_uri": "https://localhost:8080/"
        },
        "id": "FWXEcx3c9bcm",
        "outputId": "9e294c31-0037-4d35-eceb-9a06453a4651"
      },
      "outputs": [
        {
          "name": "stdout",
          "output_type": "stream",
          "text": [
            "<class 'pandas.core.frame.DataFrame'>\n",
            "Int64Index: 7486 entries, 0 to 7485\n",
            "Data columns (total 16 columns):\n",
            " #   Column                 Non-Null Count  Dtype  \n",
            "---  ------                 --------------  -----  \n",
            " 0   title                  7486 non-null   object \n",
            " 1   puNumber               7486 non-null   Int64  \n",
            " 2   show_start_date        7486 non-null   object \n",
            " 3   type                   7486 non-null   object \n",
            " 4   film_studio            7468 non-null   object \n",
            " 5   production_country     7484 non-null   object \n",
            " 6   director               7477 non-null   object \n",
            " 7   producer               6918 non-null   object \n",
            " 8   age_restriction        7486 non-null   object \n",
            " 9   refundable_support     332 non-null    float64\n",
            " 10  nonrefundable_support  332 non-null    float64\n",
            " 11  budget                 332 non-null    float64\n",
            " 12  financing_source       332 non-null    object \n",
            " 13  ratings                6519 non-null   object \n",
            " 14  genres                 6510 non-null   object \n",
            " 15  box_office             3158 non-null   float64\n",
            "dtypes: Int64(1), float64(4), object(11)\n",
            "memory usage: 1001.5+ KB\n"
          ]
        }
      ],
      "source": [
        "#Объединение двух датасетов и общая информация по данным\n",
        "data = df_movies.merge(df_shows, how='outer', on='puNumber')\n",
        "\n",
        "data.info()"
      ]
    },
    {
      "cell_type": "code",
      "execution_count": null,
      "metadata": {
        "colab": {
          "base_uri": "https://localhost:8080/",
          "height": 389
        },
        "id": "-SzDHR3a7Q5g",
        "outputId": "3f0340c6-73db-4c09-a881-986971942b13",
        "scrolled": true
      },
      "outputs": [
        {
          "data": {
            "text/html": [
              "<div>\n",
              "<style scoped>\n",
              "    .dataframe tbody tr th:only-of-type {\n",
              "        vertical-align: middle;\n",
              "    }\n",
              "\n",
              "    .dataframe tbody tr th {\n",
              "        vertical-align: top;\n",
              "    }\n",
              "\n",
              "    .dataframe thead th {\n",
              "        text-align: right;\n",
              "    }\n",
              "</style>\n",
              "<table border=\"1\" class=\"dataframe\">\n",
              "  <thead>\n",
              "    <tr style=\"text-align: right;\">\n",
              "      <th></th>\n",
              "      <th>title</th>\n",
              "      <th>puNumber</th>\n",
              "      <th>show_start_date</th>\n",
              "      <th>type</th>\n",
              "      <th>film_studio</th>\n",
              "      <th>production_country</th>\n",
              "      <th>director</th>\n",
              "      <th>producer</th>\n",
              "      <th>age_restriction</th>\n",
              "      <th>refundable_support</th>\n",
              "      <th>nonrefundable_support</th>\n",
              "      <th>budget</th>\n",
              "      <th>financing_source</th>\n",
              "      <th>ratings</th>\n",
              "      <th>genres</th>\n",
              "      <th>box_office</th>\n",
              "    </tr>\n",
              "  </thead>\n",
              "  <tbody>\n",
              "    <tr>\n",
              "      <th>0</th>\n",
              "      <td>Открытый простор</td>\n",
              "      <td>221048915</td>\n",
              "      <td>2015-11-27T12:00:00.000Z</td>\n",
              "      <td>Художественный</td>\n",
              "      <td>Тачстоун Пикчерз, Кобальт Пикчерз, Бикон Пикче...</td>\n",
              "      <td>США</td>\n",
              "      <td>Кевин Костнер</td>\n",
              "      <td>Дэвид Валдес, Кевин Костнер, Джейк Эбертс</td>\n",
              "      <td>«18+» - запрещено для детей</td>\n",
              "      <td>NaN</td>\n",
              "      <td>NaN</td>\n",
              "      <td>NaN</td>\n",
              "      <td>NaN</td>\n",
              "      <td>7.2</td>\n",
              "      <td>боевик,драма,мелодрама</td>\n",
              "      <td>NaN</td>\n",
              "    </tr>\n",
              "    <tr>\n",
              "      <th>1</th>\n",
              "      <td>Особо важное задание</td>\n",
              "      <td>111013716</td>\n",
              "      <td>2016-09-13T12:00:00.000Z</td>\n",
              "      <td>Художественный</td>\n",
              "      <td>Киностудия \"Мосфильм\"</td>\n",
              "      <td>СССР</td>\n",
              "      <td>Е.Матвеев</td>\n",
              "      <td>NaN</td>\n",
              "      <td>«6+» - для детей старше 6 лет</td>\n",
              "      <td>NaN</td>\n",
              "      <td>NaN</td>\n",
              "      <td>NaN</td>\n",
              "      <td>NaN</td>\n",
              "      <td>6.6</td>\n",
              "      <td>драма,военный</td>\n",
              "      <td>NaN</td>\n",
              "    </tr>\n",
              "    <tr>\n",
              "      <th>2</th>\n",
              "      <td>Особо опасен</td>\n",
              "      <td>221038416</td>\n",
              "      <td>2016-10-10T12:00:00.000Z</td>\n",
              "      <td>Художественный</td>\n",
              "      <td>Юниверсал Пикчерз, Кикстарт Продакшнз, Марк Пл...</td>\n",
              "      <td>США</td>\n",
              "      <td>Тимур Бекмамбетов</td>\n",
              "      <td>Джим Лемли, Джейсон Нетер, Марк Е.Платт, Яйн Смит</td>\n",
              "      <td>«18+» - запрещено для детей</td>\n",
              "      <td>NaN</td>\n",
              "      <td>NaN</td>\n",
              "      <td>NaN</td>\n",
              "      <td>NaN</td>\n",
              "      <td>6.8</td>\n",
              "      <td>фантастика,боевик,триллер</td>\n",
              "      <td>NaN</td>\n",
              "    </tr>\n",
              "  </tbody>\n",
              "</table>\n",
              "</div>"
            ],
            "text/plain": [
              "                  title   puNumber           show_start_date            type  \\\n",
              "0      Открытый простор  221048915  2015-11-27T12:00:00.000Z  Художественный   \n",
              "1  Особо важное задание  111013716  2016-09-13T12:00:00.000Z  Художественный   \n",
              "2          Особо опасен  221038416  2016-10-10T12:00:00.000Z  Художественный   \n",
              "\n",
              "                                         film_studio production_country  \\\n",
              "0  Тачстоун Пикчерз, Кобальт Пикчерз, Бикон Пикче...                США   \n",
              "1                              Киностудия \"Мосфильм\"               СССР   \n",
              "2  Юниверсал Пикчерз, Кикстарт Продакшнз, Марк Пл...                США   \n",
              "\n",
              "            director                                           producer  \\\n",
              "0      Кевин Костнер          Дэвид Валдес, Кевин Костнер, Джейк Эбертс   \n",
              "1          Е.Матвеев                                                NaN   \n",
              "2  Тимур Бекмамбетов  Джим Лемли, Джейсон Нетер, Марк Е.Платт, Яйн Смит   \n",
              "\n",
              "                 age_restriction  refundable_support  nonrefundable_support  \\\n",
              "0    «18+» - запрещено для детей                 NaN                    NaN   \n",
              "1  «6+» - для детей старше 6 лет                 NaN                    NaN   \n",
              "2    «18+» - запрещено для детей                 NaN                    NaN   \n",
              "\n",
              "   budget financing_source ratings                     genres  box_office  \n",
              "0     NaN              NaN     7.2     боевик,драма,мелодрама         NaN  \n",
              "1     NaN              NaN     6.6              драма,военный         NaN  \n",
              "2     NaN              NaN     6.8  фантастика,боевик,триллер         NaN  "
            ]
          },
          "execution_count": 6,
          "metadata": {},
          "output_type": "execute_result"
        }
      ],
      "source": [
        "#Визуальная оценка\n",
        "data.head(3)"
      ]
    },
    {
      "cell_type": "code",
      "execution_count": null,
      "metadata": {
        "colab": {
          "base_uri": "https://localhost:8080/"
        },
        "id": "5dMsNbW7XWj3",
        "outputId": "b1b13060-2f31-4fdd-a3f1-b2cf6aa15d4e"
      },
      "outputs": [
        {
          "name": "stdout",
          "output_type": "stream",
          "text": [
            "False    7486\n",
            "Name: puNumber, dtype: int64\n",
            "True     4328\n",
            "False    3158\n",
            "Name: box_office, dtype: int64\n"
          ]
        }
      ],
      "source": [
        "#Проверка на пропуски в значениях\n",
        "print(data['puNumber'].isnull().value_counts())\n",
        "print(data['box_office'].isnull().value_counts())"
      ]
    },
    {
      "cell_type": "markdown",
      "metadata": {
        "id": "JwIn04suZRXq"
      },
      "source": [
        "<b>Вывод:</b>\n",
        "    \n",
        "Слияние прошло успешно, количество заполненных строк кассовых значений соответствует количеству строк из предыдущего датафрейма"
      ]
    },
    {
      "cell_type": "markdown",
      "metadata": {
        "id": "lCUyfV6dI9kA"
      },
      "source": [
        "##Шаг 2. Предобработка данных"
      ]
    },
    {
      "cell_type": "code",
      "execution_count": null,
      "metadata": {
        "id": "6j_v5o5q_89E"
      },
      "outputs": [],
      "source": [
        "#Переименование для приведения к \"змеиному\" регистру\n",
        "data.rename(columns={'puNumber': 'pu_number'}, inplace=True)"
      ]
    },
    {
      "cell_type": "markdown",
      "metadata": {
        "id": "PuQHAC7OGcI_"
      },
      "source": [
        "<b>Работа типами данных:</b>\n",
        "\n",
        "Имеющиеся типы данных не везда подходят к данным в солбцах, например:\n",
        "- Рейтинг перевожу в числовой формат\n",
        "- Дату старта проката следует перевести в формат даты/времни\n",
        "</div>"
      ]
    },
    {
      "cell_type": "code",
      "execution_count": null,
      "metadata": {
        "colab": {
          "base_uri": "https://localhost:8080/"
        },
        "id": "lGIFw_N0HsER",
        "outputId": "c6fdfa34-d3b3-4912-cc9f-e4155cbf9a01"
      },
      "outputs": [
        {
          "data": {
            "text/plain": [
              "array(['7.2', '6.6', '6.8', '7.7', '8.3', '8.0', '7.8', '8.1', '7.1',\n",
              "       '6.0', '7.4', '5.8', '8.7', '6.3', '6.9', '5.0', '4.3', '7.3',\n",
              "       '7.0', '6.4', nan, '8.2', '7.5', '6.7', '7.9', '5.9', '6.2', '5.6',\n",
              "       '6.5', '2.4', '7.6', '6.1', '8.6', '8.5', '8.8', '5.5', '5.1',\n",
              "       '5.7', '5.4', '99%', '4.4', '4.5', '5.3', '4.1', '8.4', '2.6',\n",
              "       '3.8', '4.6', '4.8', '4.0', '3.0', '1.6', '4.2', '5.2', '4.7',\n",
              "       '4.9', '3.9', '2.7', '3.3', '2.9', '28%', '3.7', '1.4', '3.1',\n",
              "       '97%', '3.5', '3.2', '2.8', '1.5', '2.1', '2.5', '9.2', '3.4',\n",
              "       '1.1', '3.6', '83%', '64%', '91%', '94%', '62%', '79%', '90%',\n",
              "       '19%', '88%', '1.0', '89%', '1.3', '1.9', '1.8', '1.2', '1.7',\n",
              "       '9.0', '98%', '8.9', '9.1'], dtype=object)"
            ]
          },
          "execution_count": 9,
          "metadata": {},
          "output_type": "execute_result"
        }
      ],
      "source": [
        "#Вывод уникальных значений столбца \"рейтинг\"\n",
        "data['ratings'].unique()"
      ]
    },
    {
      "cell_type": "code",
      "execution_count": null,
      "metadata": {
        "colab": {
          "base_uri": "https://localhost:8080/"
        },
        "id": "fLADFfSvoun9",
        "outputId": "18e200b5-8602-4315-aea6-5ada215072c1"
      },
      "outputs": [
        {
          "data": {
            "text/plain": [
              "array([7.2, 6.6, 6.8, 7.7, 8.3, 8. , 7.8, 8.1, 7.1, 6. , 7.4, 5.8, 8.7,\n",
              "       6.3, 6.9, 5. , 4.3, 7.3, 7. , 6.4, nan, 8.2, 7.5, 6.7, 7.9, 5.9,\n",
              "       6.2, 5.6, 6.5, 2.4, 7.6, 6.1, 8.6, 8.5, 8.8, 5.5, 5.1, 5.7, 5.4,\n",
              "       9.9, 4.4, 4.5, 5.3, 4.1, 8.4, 2.6, 3.8, 4.6, 4.8, 4. , 3. , 1.6,\n",
              "       4.2, 5.2, 4.7, 4.9, 3.9, 2.7, 3.3, 2.9, 2.8, 3.7, 1.4, 3.1, 9.7,\n",
              "       3.5, 3.2, 1.5, 2.1, 2.5, 9.2, 3.4, 1.1, 3.6, 9.1, 9.4, 9. , 1.9,\n",
              "       1. , 8.9, 1.3, 1.8, 1.2, 1.7, 9.8])"
            ]
          },
          "execution_count": 10,
          "metadata": {},
          "output_type": "execute_result"
        }
      ],
      "source": [
        "#Удаление процентов\n",
        "data['ratings'] = data['ratings'].str.replace('%', '')\n",
        "#Измененеие типа столбца\n",
        "data['ratings'] = data['ratings'].astype(np.float64)\n",
        "#Приведение к значениям до 10\n",
        "data['ratings'] = data['ratings'].apply(lambda x: x / 10 if x > 10 else x)\n",
        "data['ratings'].unique()"
      ]
    },
    {
      "cell_type": "code",
      "execution_count": null,
      "metadata": {
        "colab": {
          "base_uri": "https://localhost:8080/"
        },
        "id": "uav0gr_iGKry",
        "outputId": "adaf2ea7-c8a4-47c5-a315-53dbad7a0a93"
      },
      "outputs": [
        {
          "data": {
            "text/plain": [
              "0   2015-11-27 12:00:00+00:00\n",
              "1   2016-09-13 12:00:00+00:00\n",
              "2   2016-10-10 12:00:00+00:00\n",
              "3   2016-06-10 12:00:00+00:00\n",
              "4   2015-07-29 12:00:00+00:00\n",
              "Name: show_start_date, dtype: datetime64[ns, UTC]"
            ]
          },
          "execution_count": 11,
          "metadata": {},
          "output_type": "execute_result"
        }
      ],
      "source": [
        "#Перевожу столбец в формат дыты\\времени\n",
        "data['show_start_date'] = pd.to_datetime(data['show_start_date'])\n",
        "data['show_start_date'].head()"
      ]
    },
    {
      "cell_type": "code",
      "execution_count": null,
      "metadata": {
        "colab": {
          "base_uri": "https://localhost:8080/"
        },
        "id": "5I43IQlthz3M",
        "outputId": "2bcefc87-0e1f-43e1-8956-d43fd3664f51"
      },
      "outputs": [
        {
          "name": "stdout",
          "output_type": "stream",
          "text": [
            "<class 'pandas.core.frame.DataFrame'>\n",
            "Int64Index: 7486 entries, 0 to 7485\n",
            "Data columns (total 16 columns):\n",
            " #   Column                 Non-Null Count  Dtype              \n",
            "---  ------                 --------------  -----              \n",
            " 0   title                  7486 non-null   object             \n",
            " 1   pu_number              7486 non-null   Int64              \n",
            " 2   show_start_date        7486 non-null   datetime64[ns, UTC]\n",
            " 3   type                   7486 non-null   object             \n",
            " 4   film_studio            7468 non-null   object             \n",
            " 5   production_country     7484 non-null   object             \n",
            " 6   director               7477 non-null   object             \n",
            " 7   producer               6918 non-null   object             \n",
            " 8   age_restriction        7486 non-null   object             \n",
            " 9   refundable_support     332 non-null    float64            \n",
            " 10  nonrefundable_support  332 non-null    float64            \n",
            " 11  budget                 332 non-null    float64            \n",
            " 12  financing_source       332 non-null    object             \n",
            " 13  ratings                6519 non-null   float64            \n",
            " 14  genres                 6510 non-null   object             \n",
            " 15  box_office             3158 non-null   float64            \n",
            "dtypes: Int64(1), datetime64[ns, UTC](1), float64(5), object(9)\n",
            "memory usage: 1001.5+ KB\n"
          ]
        }
      ],
      "source": [
        "#Проверка\n",
        "data.info()"
      ]
    },
    {
      "cell_type": "markdown",
      "metadata": {
        "id": "hHl7JSHBp5h7"
      },
      "source": [
        "<b>Работа с пропусками:</b>"
      ]
    },
    {
      "cell_type": "code",
      "execution_count": null,
      "metadata": {
        "colab": {
          "base_uri": "https://localhost:8080/"
        },
        "id": "EpBGAQaUqEYn",
        "outputId": "2b586511-63a8-4e52-f957-6c5d6951c0d4"
      },
      "outputs": [
        {
          "name": "stdout",
          "output_type": "stream",
          "text": [
            "title                     0.000000\n",
            "pu_number                 0.000000\n",
            "show_start_date           0.000000\n",
            "type                      0.000000\n",
            "film_studio               0.240449\n",
            "production_country        0.026717\n",
            "director                  0.120224\n",
            "producer                  7.587497\n",
            "age_restriction           0.000000\n",
            "refundable_support       95.565055\n",
            "nonrefundable_support    95.565055\n",
            "budget                   95.565055\n",
            "financing_source         95.565055\n",
            "ratings                  12.917446\n",
            "genres                   13.037670\n",
            "box_office               57.814587\n",
            "dtype: float64\n"
          ]
        }
      ],
      "source": [
        "#Подсчёт количества пропусков в столбцах\n",
        "print(data.isna().mean()*100)"
      ]
    },
    {
      "cell_type": "markdown",
      "metadata": {
        "id": "TSSdGN8sqTbe"
      },
      "source": [
        "- Пропуски в \"студии-производитель\" меняю на \"Неизвестно\"\n",
        "- \"страна-производитель\" так-же становится \"Неизвестной\"\n",
        "- \"режиссёр\" и \"продюсер\", пропуски в данном столбце достоверно нет возвожности заполнить, будут \"Неизвестно\"\n",
        "- В колонках связанных с гос.поддержкой около 95% пропусков, приведу к нулю, ведь отсутсвие в них данных, равно гос.поддержке этой картины\n",
        "- Столбец \"рейтинга\" можно заполнить медианой, но на основе этого столбца будут проводиться исследования, поэтому поставлю нулевые значения, а потом отфильтрую. Можно предположить что это исконно нулеввые значения, но маловероятно что-бы 12% фильмов имелю столь низкую оценку\n",
        "- \"жанры\" достоверно нет возможности заполнить\n",
        "- Пропуски в кассовых сборах взяты из датафрейма кинотеатров, количество значений которого изначально не было сопостовимо со значениями из реестра, поэтому пропуски неизбежны, а заполнение медианой или средним знач. нецелесообразно, 57% крайне сильно могут исказить анализ"
      ]
    },
    {
      "cell_type": "code",
      "execution_count": null,
      "metadata": {
        "colab": {
          "base_uri": "https://localhost:8080/"
        },
        "id": "3N6BXIoRvCO6",
        "outputId": "81c59102-1a89-4708-c396-0d1a8bf48548"
      },
      "outputs": [
        {
          "data": {
            "text/plain": [
              "title                     0.000000\n",
              "pu_number                 0.000000\n",
              "show_start_date           0.000000\n",
              "type                      0.000000\n",
              "film_studio               0.000000\n",
              "production_country        0.000000\n",
              "director                  0.000000\n",
              "producer                  0.000000\n",
              "age_restriction           0.000000\n",
              "refundable_support        0.000000\n",
              "nonrefundable_support     0.000000\n",
              "budget                    0.000000\n",
              "financing_source          0.000000\n",
              "ratings                   0.000000\n",
              "genres                    0.000000\n",
              "box_office               57.814587\n",
              "dtype: float64"
            ]
          },
          "execution_count": 15,
          "metadata": {},
          "output_type": "execute_result"
        }
      ],
      "source": [
        "#Переименование или обнуление пропусков\n",
        "replacement_values = {\n",
        "    'film_studio': 'Неизвестно',\n",
        "    'production_country': 'Неизвестно',\n",
        "    'director': 'Неизвестно',\n",
        "    'producer': 'Неизвестно',\n",
        "    'genres': 'Неизвестно',\n",
        "    'financing_source': 'Неизвестно',\n",
        "    'refundable_support': 0,\n",
        "    'nonrefundable_support': 0,\n",
        "    'ratings': 0,\n",
        "    'budget': 0\n",
        "}\n",
        "\n",
        "data = data.fillna(replacement_values)\n",
        "data.isna().mean()*100"
      ]
    },
    {
      "cell_type": "markdown",
      "metadata": {
        "id": "Dcyb_qkKw7mo"
      },
      "source": [
        "<b>Поиск дубликатов:</b>"
      ]
    },
    {
      "cell_type": "code",
      "execution_count": null,
      "metadata": {
        "colab": {
          "base_uri": "https://localhost:8080/"
        },
        "id": "LWlqoM-MxBv7",
        "outputId": "b55f05dc-9b71-48e3-90d9-483c08bfaf51"
      },
      "outputs": [
        {
          "name": "stdout",
          "output_type": "stream",
          "text": [
            "title                     714\n",
            "pu_number                   2\n",
            "show_start_date          5521\n",
            "type                     7478\n",
            "film_studio              1995\n",
            "production_country       6535\n",
            "director                 2674\n",
            "producer                 2136\n",
            "age_restriction          7481\n",
            "refundable_support       7452\n",
            "nonrefundable_support    7411\n",
            "budget                   7196\n",
            "financing_source         7482\n",
            "ratings                  7401\n",
            "genres                   6743\n",
            "box_office               4547\n",
            "dtype: int64\n",
            "0\n"
          ]
        }
      ],
      "source": [
        "#Вывод количества дубликатов\n",
        "print(data.apply(lambda col: col.duplicated().sum()))\n",
        "print(data.duplicated().sum())"
      ]
    },
    {
      "cell_type": "markdown",
      "metadata": {
        "id": "g2PsL3erxyUd"
      },
      "source": [
        "- Названия фильмов могут совпадать, это нормально, плюс полностью одинаковых строк в датафрейме нет\n",
        "- Прокатных удостоверения может быть несколько, но не одинаковых в реестре, удалю этот дубликат\n",
        "- Дата\\студия\\страна\\режиссёр\\продюсер\\возрастное ограничение вполне могут совпадать, дней всего 365, страны, студии и режиссёры с продюсерами снимают не один фильм за время существования\n",
        "- Значения в столбцах гос.поддержки тоже вполне могут совпадать\n",
        "- Рейтинг ограничен в значениях, совпадения неизбежны, аналогично с жанрами\n",
        "- Кассовые сборы зачатсую могут совпадать, особенно учитываю тенденцию округлять значения"
      ]
    },
    {
      "cell_type": "code",
      "execution_count": null,
      "metadata": {
        "id": "NtdE_W7FCrqB"
      },
      "outputs": [],
      "source": [
        "#Удалю дубликат\n",
        "data = data.drop_duplicates(subset='pu_number')"
      ]
    },
    {
      "cell_type": "code",
      "execution_count": null,
      "metadata": {
        "colab": {
          "base_uri": "https://localhost:8080/"
        },
        "id": "mPK-dVMQhUXp",
        "outputId": "4e136143-40d4-4a30-e9da-6cef1344bcd6"
      },
      "outputs": [
        {
          "data": {
            "text/plain": [
              "False    7484\n",
              "dtype: int64"
            ]
          },
          "execution_count": 18,
          "metadata": {},
          "output_type": "execute_result"
        }
      ],
      "source": [
        "#Поиск дубликатов по колонкам\n",
        "duplicates = data.duplicated(subset=['title', 'pu_number'])\n",
        "duplicates.value_counts()"
      ]
    },
    {
      "cell_type": "markdown",
      "metadata": {
        "id": "h0EGdqgHFBYr"
      },
      "source": [
        "<b>Изучение столбцов, которые содержат категориальные значения:</b>"
      ]
    },
    {
      "cell_type": "code",
      "execution_count": null,
      "metadata": {
        "colab": {
          "base_uri": "https://localhost:8080/"
        },
        "id": "ZnPrYOVtZDw7",
        "outputId": "6912ee53-91aa-482b-c9eb-c9af66192e78"
      },
      "outputs": [
        {
          "name": "stdout",
          "output_type": "stream",
          "text": [
            "['Художественный' 'Анимационный' 'Прочие' 'Документальный'\n",
            " 'Научно-популярный' ' Художественный' ' Анимационный'\n",
            " 'Музыкально-развлекательный']\n",
            "['США' 'СССР' 'Франция' 'СССР, Венгрия' 'Германия-Великобритания'\n",
            " 'Великобритания - Италия' 'Чехословакия' 'США - Франция - Турция'\n",
            " 'Новая Зеландия' 'Канада - Франция - Испания' 'США-Германия'\n",
            " 'США - Великобритания' 'Великобритания' 'США - Германия'\n",
            " 'Франция - Мексика - США' 'Россия, Казахстан, США' 'СССР, Швеция'\n",
            " 'СССР, Франция, Англия, Куба, ГДР' 'Германия'\n",
            " 'Великобритания-США-Германия-КНР' 'СССР, ЧССР, Западный Берлин, ПНР'\n",
            " 'СССР, Италия' 'Гонконг, КНР' 'США - Франция'\n",
            " 'США - Япония - Франция - Великобритания'\n",
            " 'Гонконг - Сингапур - Таиланд - Великобритания' 'США-Канада'\n",
            " 'Франция - Италия - Великобритания - США' 'Франция - США'\n",
            " 'Ирландия-Великобритания-Германия' 'Чехия' 'США-Австралия'\n",
            " 'СССР, Финляндия' 'США-Франция-Великобритания-Австрия' 'США - Бельгия'\n",
            " 'США - Ирландия - Великобритания' 'Великобритания - США'\n",
            " 'Люксембург - Нидерланды - Испания - Великобритания - США - Италия'\n",
            " 'Великобритания - Франция - США' 'Новая Зеландия - США'\n",
            " 'США - Великобритания - Чехия' 'Канада - Франция - Великобритания'\n",
            " 'Ирландия' 'Великобритания - Германия - США'\n",
            " 'США - Франция - Великобритания' 'Япония' 'СССР, Польша'\n",
            " 'Франция - Испания' 'Канада-Франция' 'Германия - Италия - США'\n",
            " 'Аргентина - Бразилия' 'Дания - Швейцария - Бельгия - Франция'\n",
            " 'США - Испания' 'Германия - США'\n",
            " 'Франция - Австрия - Германия - Италия - США' 'Австрия'\n",
            " 'США - Канада - Германия' 'США - Канада' 'СССР - Швейцария - Франция'\n",
            " 'Россия - Казахстан' 'Гонконг' 'Италия' 'США - ОАЭ' 'Россия'\n",
            " 'США - Франция - Испания - Великобритания' 'Великобритания - Франция'\n",
            " 'США-Италия-Испания-Аргентина' 'Франция-Великобритания' 'КНР - Гонконг'\n",
            " 'Франция - Италия - Швейцария' 'США - Новая Зеландия' 'Франция - Бельгия'\n",
            " 'КНР' 'Германия - Великобритания - Австрия'\n",
            " 'Великобритания - Израиль - Франция - Япония - США' 'Швеция' 'Испания'\n",
            " 'Дания' 'Франция - Бельгия - Люксембург' 'США - Индия - ОАЭ'\n",
            " 'Германия-Канада-Великобритания-Швейцария-Франция' 'Мексика - Чили'\n",
            " 'Аргентина' 'Бразилия' 'Чили' 'Австралия' 'Португалия - Франция'\n",
            " 'США - ЮАР' 'Исландия-Ирландия-Германия' 'США-Индонезия' 'Южная Корея'\n",
            " 'Мексика - Испания - Дания - США' 'Великобритания-США' 'Франция - Италия'\n",
            " 'США-Франция' 'США - Венгрия - Великобритания' 'Бельгия-Франция-Италия'\n",
            " 'Чехия - Германия' 'Германия - Франция' 'США-Нидерланды' 'Украина'\n",
            " 'Великобритания - Германия' 'Франция-Бельгия' 'США-Франция-Испания'\n",
            " 'Италия - Франция' 'Канада' 'Швеция-Франция-Дания'\n",
            " 'Германия-Франция-Польша' 'Франция-Великобритания - Германия'\n",
            " 'США - Бразилия - Франция - Австралия - Великобритания - Германия'\n",
            " 'Германия-Австрия' 'Германия-Италия- Шри-Ланка'\n",
            " 'Великобритания - Испания' 'США - Великобритания - Канада - Швеция'\n",
            " 'Босния и Герцеговина - Франция - Великобритания - Германия - Словения - Бельгия - Сербия'\n",
            " 'Великобритания - Франция - Италия - США' 'США-ОАЭ' 'Испания - Франция'\n",
            " 'США-Великобритания' 'США-ЮАР' 'Великобритания-Австралия - США'\n",
            " 'Норвегия - Швеция - Дания - Германия' 'Норвегия' 'Швейцария'\n",
            " 'Греция - Германия - Франция' 'Норвения' 'Южная Корея - США'\n",
            " 'Чили - Франция - США' 'Австрия - Германия - Франция' 'Швеция - Дания'\n",
            " 'Великобритания - Франция - Бельгия - Италия' 'Франция - Германия'\n",
            " 'Грузия - Франция - Люксембург'\n",
            " 'США - Франция - Великобритания - Бразилия ' 'США - КНР'\n",
            " 'Мексика - Франция' 'США - Германия - Гонконг - Сингапур'\n",
            " 'Финляндия - Австрия - Россия' 'Испания - Куба' 'Великобритания - ЮАР'\n",
            " 'Великобритания - Ирландия' 'Израиль'\n",
            " 'Бразилия - Германия - Порртугалия - Франция '\n",
            " 'Франция - Канада - Бельгия' 'Франция-Испания'\n",
            " 'Испания - Канада - Япония' 'Иран' 'Швеция-Куба'\n",
            " 'США-Великобритания-Ирландия' 'Гонконг - КНР' 'Нидерланды'\n",
            " 'Испания - Канада' 'Япония-Великобритания'\n",
            " 'Великобритания - Норвегия - Дания - Германия'\n",
            " 'Финляндия - Франция - Германия'\n",
            " 'Мексика - Франция - Нидерланды - Германия' 'США - Индия'\n",
            " 'США-Великобритания-Индия' 'США-Канада-Бельгия' 'Республика Узбекистан'\n",
            " 'Италия ' 'Турция'\n",
            " 'Сербия - Словения - Хорватия - Черногория - Македония' 'Киргизия'\n",
            " 'Германия - Нидерланды - Беларусь - Россия - Латвия' 'Индия'\n",
            " 'Нидерланды - Россия - Германия'\n",
            " 'Великобритания - Нидерланды - Франция - Хорватия' 'Канада - Южная Корея'\n",
            " 'Великобритания - Польша - КНР - Индия - Норвегия'\n",
            " 'Япония - Франция - США - Южная Корея - Турция'\n",
            " 'Мексика - Аргентина - Великобритания' 'Израиль - Франция'\n",
            " 'Польша - Португалия - Франция - Великобритания' 'Австралия - США'\n",
            " 'США - Великобритания ' 'Франция - Люксембург - Бельгия' 'Армения'\n",
            " 'Бельгия - Люксембург - Франция - Швейцария'\n",
            " 'США - Великобритания - Канада' 'Норвегия - Швеция' 'Канада - Франция'\n",
            " 'КНР - Гонконг - США' 'США - Сингапур - Малайзия - Индонезия'\n",
            " 'Германия - Россия' 'Япония - Канада'\n",
            " 'Финляндия - Дания - Германия - Ирландия'\n",
            " 'Франция - Люксембург - Германия - Бельгия - Швейцария - Великобритания '\n",
            " 'Канада - США' 'США-Италия-Испания' 'США-Испания'\n",
            " 'США - Швейцария - Франция' 'Испания - США - Колумбия' 'Канада-ЮАР'\n",
            " 'Франция - Россия' 'Германия - Финляндия - Австралия' 'Дания - Швеция'\n",
            " 'Бельгия' 'Германия - Франция - Австрия' 'Франция-Индия' 'ЮАР'\n",
            " 'Франция-Перу' 'Франция - Канада' 'Республика Беларусь'\n",
            " 'Великобритания - Австрия - Франция - США' 'Австрия-Германия-Франция'\n",
            " 'США-Россия' 'Германия-США' 'США - Южная Корея' 'Канада - КНР'\n",
            " 'Дания - Швеция - Италия - Франция - Германия'\n",
            " 'Франция-Италия-Испания-Венгрия' 'Франция - Германия - Бельгия'\n",
            " 'Франция-Великобритания-Чехия' 'Румыния - Франция - Бельгия'\n",
            " 'Болгария - Франция - Изриль'\n",
            " 'Израиль - Германия - Польша - Бельгия - Франция - Люксембург'\n",
            " 'Россия, Германия, Франция, Бельгия' 'Индонезия' 'Франция - Португалия'\n",
            " 'Великобритания - Пуэрто-Рико' 'СССР, ФРГ, Западный Берлин'\n",
            " 'Россия, Республика Беларусь' 'США, Великобритания' 'Франция - Австрия'\n",
            " 'Бельгия-Нидерланды' 'Великобритания - США - Индия'\n",
            " 'США - Великобритания - Австралия'\n",
            " 'Канада - Франция - США - ОАЭ - Великобритания'\n",
            " 'США - Австралия - Франция'\n",
            " 'Дания-Франция-Бельгия-Германия-Великобритания' 'Испания - Аргентина'\n",
            " 'Исландия - Финляндия' 'Россия-Польша-Голландия-Словакия'\n",
            " 'Дания - Германия - Швеция' 'Южная Корея - США - Канада' 'Таиланд'\n",
            " 'США-Мальта' 'США -Германия'\n",
            " 'Великобритания - Германия - Франция - Кипр - США' 'Мексика'\n",
            " 'США - Великобритания - Ирландия' 'США - Украина'\n",
            " 'США - Финляндия - Испания - Великобритания - Франция'\n",
            " 'Австралия-Великобритания'\n",
            " 'США - Канада - Афганистан - Бельгия - Франция'\n",
            " 'США - Великобритания - Германия - Новая Зеландия - Бельгия - Франция'\n",
            " 'Франция-Канада'\n",
            " 'Ирландия - Финляндия - Бельгия - Великобритания - США - Швейцария'\n",
            " 'Малайзия - США' 'Германия - Италия' 'США - Франция - Бельгия - Италия'\n",
            " 'Франция - Ирландия - Швеция' 'Азербайджан-Россия'\n",
            " 'Великобритания - Италия - Швейцария' 'США - Германия - Великобритания'\n",
            " 'Германия - Бельгия - США -Франция' 'США-Китай' 'Чили - Испания'\n",
            " 'Франция - Швейцария' 'Канада - Испания' 'США - Румыния - Великобритания'\n",
            " 'США - Япония' 'США - Россия - Франция' 'Франция-США' 'Парагвай'\n",
            " 'Германия - Канада' 'США - Канада - Великобритания' 'Финляндия - Канада'\n",
            " 'Уругвай-Мексика-Германия ' 'США - Чили'\n",
            " 'Германия - Аргентина - Нидерланды - Чили' 'США - Канада - Индонезия'\n",
            " 'Армения - Казахстан' 'Финляндия' 'Испания - Италия - Франция'\n",
            " 'Бельгия - Испания - Канада - Нидерланды'\n",
            " 'Великобритания - Франция - Швеция - Бельгия'\n",
            " 'Мексика - Эквадор - Канада - США - Франция - Малайзия - Италия - Аргентина - Германия - Индия  '\n",
            " 'Франция - Бенльгия' 'Индия - Великобритания'\n",
            " 'Япония - Великобритания - Франция' 'Испания - Уругвай - Аргентина'\n",
            " 'Франция - Италия - Бельгия - Люксембург'\n",
            " 'Франция - Украина - Грузия - Армения' 'Сербия - Германия - Венгрия'\n",
            " 'Франция-Польша' 'Франция ' 'Румыния-США' 'Россия-Азербайджан'\n",
            " 'США - Нидерланды - Бельгия - Венгрия - Греция - Канада'\n",
            " 'Германия - Франция - Люксембург' 'США - Россия'\n",
            " 'Великобритания - США - Франция' 'США - Австралия - Дания'\n",
            " 'Бельгия-Франция' 'США-Мексика'\n",
            " 'Норвегия - Азербайджан - Россия - Колумбия - Великобритания - Венгрия - Румыния - Франция - Грузия'\n",
            " 'СЩА' 'Бразилия - Испания' 'Россия, Франция, Латвия'\n",
            " 'Нидерланды - США - Германия - Канада - Франция - Ирландия - Великобритания'\n",
            " 'Уругвай - Колумбия' 'США - Испания - Болгария' 'Армения - Германия'\n",
            " 'США - Великобритания- Франция - Швеция' 'США - Мексика'\n",
            " 'Австралия-Турция-США' 'Швеция - Германия' 'Польша - Италия - Россия'\n",
            " 'Франция - Бразилия' 'США - Канада - КНР' 'СССР, Венгрия, ЧССР, ГДР'\n",
            " 'Бельгия - Германия - Люксембург' 'СССР  ' 'СССР ' ' СССР '\n",
            " 'США - Австралия' 'Бразилия - США' 'США - Великобритания - Канада - КНР'\n",
            " 'Франция - Чили'\n",
            " 'Франция - США - Великобритания - Колумбия - Бельгия - Россия'\n",
            " 'Дания - Великобритания - ЮАР' 'СССР   ' 'Россия-США-Канада-Люксембург'\n",
            " 'Россия - Республика Кипр' 'Германия - США - Швеция - Франция'\n",
            " 'Великобритания-Германия-Канада-ЮАР' ' СССР   ' 'СССР     '\n",
            " 'Ирландия, Канада'\n",
            " 'Япония - Великобритания - Швейцария - Ирландия - Дания - Франция - Польша - Австралия - Канада  '\n",
            " 'Великобритания, Канада' 'Бельгия - США' 'Великобритания - США - Россия'\n",
            " 'Россия-Украина' 'Германия - США - Великобритания - Израиль'\n",
            " 'Канада - Германия' 'США- Ю.Корея' 'Индия - Мексика'\n",
            " 'Великобритания - Франция - Республика Кипр - Швейцария - США - Сербия'\n",
            " 'Испания - Аргентина - Индия - США'\n",
            " 'Норвегия - Исландия - США - Великобритания '\n",
            " 'Турция - Германя - Франция' 'Германия - Великобритания'\n",
            " 'Австралия - Германия' 'Мексика - Испания'\n",
            " 'Великобритания - США - Германия - Бельгия' 'США - Чехия - Франция'\n",
            " 'Россия - Италия' 'Франция-Россия' 'Норвегия - Дания - Швеция'\n",
            " 'Франция - Швейцария - Германия' 'Грузия - Украина'\n",
            " 'Россия - Эстония - Финляндия - Беларусь' 'США - Франция - ЮАР'\n",
            " 'Великобритания - США - Швейцария' 'Канада-США'\n",
            " 'Мексика - Нидерланды - Германия - Франция' 'США - Испания - Франция'\n",
            " 'США - Великобритания - КНР' 'США-Франция-Канада'\n",
            " 'Япония, Великобритания, Австрия, Германия, Ю.Корея'\n",
            " 'Великобритания - Ирландия - США' 'Бельгия - Италия - Франция '\n",
            " 'Швейцария-Германия-ЮАР' 'Великобритания - США - Германия'\n",
            " 'Германия - Исландия' 'Испания - США' 'СССР    ' 'Хорватия'\n",
            " 'Финляндия - Исландия - Швеция' 'Канада - США - Германия - Франция'\n",
            " 'США - Великобритания - Испания' 'Ирландия-Великобритания'\n",
            " 'Аргентина - Испания' 'Австрия - Германия' ' СССР'\n",
            " 'Германия - Швейцария - Франция - Южная Корея - США'\n",
            " 'Украина - Нидерланды' 'Венгрия - Германия - Швеция'\n",
            " 'Германия - Франция -  Польша - Турция - Канада - Италия - Россия '\n",
            " 'СССР, Афганистан' 'СССР, Монголия' 'Россия-Кипр'\n",
            " 'Россия, Грузия, Испания'\n",
            " 'Великобритания - Нидерланды - Германия - Франция - Бельгия - Австрия '\n",
            " 'Испания - Великобритания - Франция' 'Дания - Норвегия - Великобритания'\n",
            " 'Бельгия - Франция - Люксембург'\n",
            " 'Италия - Франция - Швейцария - Великобритания'\n",
            " 'Франция - Бельгия - Великобритания - Испания - Германия - США'\n",
            " 'Швейцария - Израиль - Франция - Великобритания'\n",
            " 'Великобритания - США - Канада - Нидерланды - Франция' 'Россия, Италия'\n",
            " 'СССР, Албания' 'Россия, Украина, Республика Беларусь, Литва'\n",
            " 'Финляндия - Великобритания - Германия' 'Россия, Украина, Польша'\n",
            " 'Франция - Италия - Бельгия - КНР'\n",
            " 'Германия - Бельгия - Люксембург - Ирландия' 'КНР - Сингапур'\n",
            " 'Франция - Бельгия - Великобритания - США - Нидерланды - Канада'\n",
            " 'США - Россия - Польша - Германия - Пуэрто Рико'\n",
            " 'Франция - Бельгия - Канада' 'США ' 'Мексика - США'\n",
            " 'США - Гонконг - КНР ' 'Греция - Россия'\n",
            " 'Ирландия - Дания - Бельгия - Люксембург - Франция' 'Эстония - Россия'\n",
            " 'Великобритания - Исландия - Испания - Швейцария - США'\n",
            " 'Австралия - Великобритания - Бельгия - Индия'\n",
            " 'Швеция - Германия - Франция - Норвегия'\n",
            " 'Нидерланды - Бельгия - Германия - Ирландия'\n",
            " 'Нидерланды - Великобритания - Бельгия' 'США - Колумбия - Испания'\n",
            " 'Франция-Испания-Бельгия-Панама' 'США-Великобритания-Чехия-Румыния'\n",
            " 'Аргентина - Уругвай - Россия - Германия - Франция - Нидерланды'\n",
            " 'Швеция - Франция - Норвегия - Дания' 'Италия-Франция-Великобритания'\n",
            " 'Великобритания, Франция' 'Австралия, США' 'Венесуэла'\n",
            " 'Великобритания - США - Австралия - Ирландия - Германия - Куба - Канада'\n",
            " 'Южная Корея - КНР' 'Аргентина - Мексика - Бразилия - Франция - США'\n",
            " 'Швеция - США' 'Франция - Германия - Турция - Катар' 'Франция-Китай'\n",
            " 'Россия, Германия, Великобритания' 'Великобритания - Италия - Испания'\n",
            " 'Италия - Россия' 'Япония - КНР - Южная Корея' 'Россия, Германия'\n",
            " 'Россия-Ирландия' 'Македония - Франция - Великобритания'\n",
            " 'Франция - Бразилия - Италия' 'Россия-США' 'Армения-Россия'\n",
            " 'Россия, Румыния' 'Франция -  Бельгия' 'Грузия-Франция' 'ЮАР - США'\n",
            " 'Великобритания-США-Франция'\n",
            " 'Великобритания - США - Германия - Канада - Австралия' 'США-Ирландия'\n",
            " 'Россия, Республика Кипр' 'Германия - Люксембург - Франция'\n",
            " 'Россия-Франция' 'США - Нидерланды - Финляндия - Великобритания - Италия'\n",
            " 'Республика Кипр' 'Венгрия' 'Франция - США - Норвегия - Дания'\n",
            " 'Германия - Австрия - Ирландия' 'США - Финляндия' 'Италия-Великобритания'\n",
            " 'Россия, Испания' 'США - Великобритания - Болгария'\n",
            " 'Великобритания - Люксембург' 'Индия - США'\n",
            " 'США - Канада - Россия - Франция - Чили - Ирландия' 'Грузия-Россия'\n",
            " 'Дания - Австрия - Ирландия - Финляндия - Норвегия - Швеция - Нидерланды'\n",
            " 'США-КНР' 'Грузия' 'Австралия - Ирландия' 'Великобритания - Канада'\n",
            " 'Италия - Аргентина - Словения '\n",
            " 'Испания - Франция - Нидерланды - Германия - Бельгия - Великобритания - Канада'\n",
            " 'Франция - Чехия - Бельгия' 'Великобритания - Франция - Германия - США'\n",
            " 'Ирландия - Великобритания - Франция - США - Германия - Нидерланды'\n",
            " 'США - Канада - Япония - КНР' 'Италия-Франция'\n",
            " 'США - Великобритания - Исландия' 'Великобритания-Франция'\n",
            " 'Франция - Германия - Нидерланды' 'Иран '\n",
            " 'Франция - Германия - Швеция - США - Чехия - Словакия - Великобритания - Нидерланды'\n",
            " 'Франция - Канада - Н.Зеландия - США - Нидерланды - Германия - Швеция - Россия'\n",
            " 'Турция - США'\n",
            " 'Великобритания - США - Канада - Бельгия - Нидерланды - Австрия - Германия'\n",
            " 'Израиль - Франция - Германия - Палестина - США - Австрия - Великобритания'\n",
            " 'Аргентина - Франция - Испания' 'СССР, Россия'\n",
            " 'Великобритания - Франция - Италия - Индия - Дания - КНР - Бангладеш - Камбоджа - Гаити - Уганда'\n",
            " 'Италия - Франция - Швейцария' 'Ирландия - Великобритания - Канада'\n",
            " 'Перу' 'США - Норвегия' 'Испания-Канада' 'Китай-Гонконг'\n",
            " 'США - Германия - КНР' 'Великобритания - Новая Зеландия'\n",
            " 'Франция - Дания - Швеция - КНР'\n",
            " 'США - Великобритания - Германия - Бельгия - Дания'\n",
            " 'США - Франция - Канада - Германия - Австралия - Индия' 'Неизвестно'\n",
            " 'СССР, Румыния, Франция' 'СССР, ГДР' 'Австралия-Ирландия' 'США - Китай'\n",
            " 'Великобритания - Франция - Австрия - Швеция' 'Россия, Таджикистан'\n",
            " 'Нидерланды - Бельгия - Болгария' 'Великобритания - Канада - США'\n",
            " 'Франция - Бельгия - Испания' 'Китай-Гонконг-США'\n",
            " 'Франция - Великобритания' 'США - Вьетнам' 'США - Германия - Франция'\n",
            " 'Германия - Франция - Бельгия' 'США - Италия'\n",
            " 'Германия - Дания - Испания - Швеция - Канада - Эстония - Франция'\n",
            " 'Княжество Андорра - Украина' 'Германия - Люксембург - Бельгия'\n",
            " 'Великобритания - Россия - Украина - США'\n",
            " 'Германия - Бельгия - Люксембург - Норвегия'\n",
            " 'США - Австралия - Новая Зеландия - Великобритания'\n",
            " 'США - Франция - Канада - Великобритания' 'Испания-Колумбия'\n",
            " 'Великобритания - Чехия - Франция' 'Россия, Украина' 'Исландия'\n",
            " 'Великобритания - Франция - Венгрия' 'Россия, Франция, Германия, Бельгия'\n",
            " 'Франция - Македония'\n",
            " 'Нидерланды - Франция - Германия - Бельгия - Швеция - Великобритания'\n",
            " 'Испания - США - Великобритания - Канада' 'Германия - Австрия'\n",
            " 'Республика Казахстан' 'Франция - Испания - Дания - Венгрия - Швейцария'\n",
            " 'Франция-КНР' 'США - Пуэрто-Рико - Франция ' 'Мексика - Тайвань - США'\n",
            " 'Великобритания - Испания - Непал - Индия - Венгрия - Гонконг - Германия - Дания - Бахрейн'\n",
            " 'Великобритания - Аргентина - США - Франция - Россия - Испания'\n",
            " 'КНР - США' 'Италия - США' 'Финляндия - Швеция - Германия'\n",
            " 'Канада- Испания' 'Франция - Бельгия - Чехия' 'Франция-Бельгия-Канада'\n",
            " 'Франция - Германия - США' 'США - Дания' 'Индия - КНР'\n",
            " 'Чехия-Великобритания-США' 'США-ФРГ-Россия'\n",
            " 'Ирландия-Нидерланды-Франция-США-Великобритания'\n",
            " 'Россия, Грузия, Хорватия, Испания' 'Финляндия - Швеция - Норвегия'\n",
            " 'Сербия - Великобритания - США'\n",
            " 'США - Великобритания - Франция - Гонконг' 'Швейцария - Франция'\n",
            " 'Швейцария - Великобритания' 'ОАЭ - США'\n",
            " 'США - Франция - Германия - Канада - Австралия ' 'Германия - Австралия'\n",
            " 'Иран, Франция' 'США - Великобритания - Новая Зеландия' 'США-Колумбия'\n",
            " 'США-Франция-Ирландия' 'Великобритания - Франция - Бельгия'\n",
            " 'США - Великобритания - Япония' 'США - Франция - Германия'\n",
            " 'Польша - Ирландия' 'Ирландия - Великобритания - Франция - США'\n",
            " 'США - Бельгия - Великобритания' 'СССР, ВНР'\n",
            " 'Испания - Франция - США - Великобритания - Бельгия'\n",
            " 'Франция - Дания - США' 'США - Гонконг' 'Бразилия - К;анада'\n",
            " 'Франция-Германия' 'США - Колумбия'\n",
            " 'США - Ирландия - Великобритания - Франция'\n",
            " 'Великобритания - США - Канада' 'Польша - Франция'\n",
            " 'Канада - США - Нидерланды - Великобритания - Аргентина'\n",
            " 'Великобритания - Дания' 'Франция - Бельгия - Япония' 'Россия,  Испания'\n",
            " 'Франция -Бельгия' 'США - Канада - Германия - Франция'\n",
            " 'США-Канада-Франция' 'Россия - Германия' 'Россия-Италия'\n",
            " 'Китай - Гонконг' 'Германия-Австрия-Франция-Италия' 'США-Япония'\n",
            " 'США - Германия - Канада' 'Испания-Мексика'\n",
            " 'США - Япония - Канада - Великобритания - Германия - Франция'\n",
            " 'США -Великобритания - Австралия' 'Россия-Украина-Германия'\n",
            " 'Израиль - Франция - Великобритания - Германия' 'Корея'\n",
            " 'Россия - Болгария' 'США-Индия' 'Германия-Канада-Франция-Бельгия'\n",
            " 'Германия-Кения' 'Франция - Монако' 'Франция-Испания-Швейцария'\n",
            " 'Австрия-Франция-Германия' 'Румыния' 'США-Великобритания-Франция'\n",
            " 'Канада-Великобритания' 'Канада-Бразилия-Япония'\n",
            " 'Германия - Дания - Норвегия' 'Дания - Германия' 'СССР - Италия'\n",
            " 'СССР - ГДР - Польша - Италия' 'США - Испания - Франция - Великобритания'\n",
            " 'Китай' 'Мексика-Аргентина'\n",
            " 'Германия - Великобритания - Италия - Испания'\n",
            " 'Франция-Германия-Великобритания' 'Россия - Германия - Швейцария'\n",
            " 'Франция-Австралия' 'Голландия' 'Швейцария-Франция' 'Россия-Белоруссия'\n",
            " 'Франция - Испания - Тайвань' 'США-Южная Корея-Новая Зеландия'\n",
            " 'Великобритания-Венгрия' 'Россия-Германия'\n",
            " 'Великобритания-Франция-Германия' 'Франция-Германия-Италия'\n",
            " 'Швеция-Финляндия-Франция-Норвегия' 'Франция-Италия' 'Германия-Израиль'\n",
            " 'Швеция - Германия - Дания - Норвегия' 'США-Бельгия'\n",
            " 'Франция-Гонконг-Ирландия' 'Эстония' 'Литва-Россия-Украина'\n",
            " 'Германия - Италия - Франция' 'Великобритания - Австрия - Германия'\n",
            " 'Бельгия - Франция' 'Россия-Казахстан' 'Испания - Мальта'\n",
            " 'Франция-Россия-Румыния-Италия-Бельгия' 'Россия - Польша'\n",
            " 'Испания - Мексика' 'США-Аргентина' 'Великобритания '\n",
            " 'Израиль-США-Франция' 'США - Новая Зеландия - Япония'\n",
            " 'Франция - Чехия - Великобритания' 'Россия-Польша'\n",
            " 'Германия-Франция-Великобритания' 'США-Германия-Канада'\n",
            " 'США-Гонконг-Китай' 'США - Великобритания - Германия'\n",
            " 'США-Канада-Австралия' 'Япония-США-Франция' 'Франция-Испания-Германия'\n",
            " 'США - Хорватия - Босния-Герцеговина'\n",
            " 'Великобритания - Чехия - Франция - Италия' 'США - Германия - Нидерланды'\n",
            " 'Германия - Франция - Канада'\n",
            " 'Франция-Грузия-Германия-Россия-Украина-Бельгия'\n",
            " 'Великобритания - Франция - Италия' 'Россия - США'\n",
            " 'Франция - Италия - Иран' 'Россия - Азербайджан' 'Греция' 'Дания - США'\n",
            " 'США-Великобритания-Новая Зеландия' 'США-Германия-Австралия'\n",
            " 'США-Канада-Италия' 'США - Япония - Германия' 'Австралия-США'\n",
            " 'Франция - Великобритания - Багамские острова - США'\n",
            " 'Швейцария - Люксембург' 'Швейцария - Австрия' 'Германия - Швейцария'\n",
            " 'Дания-Швеция-Франция-Германия' 'Польша' 'Швейцария-Австрия'\n",
            " 'Бразилия - Канада - США' 'Нидерланды - Россия' 'Португалия'\n",
            " 'Франция-Аргентина' 'Швеция-Франция' 'Франция-Украина'\n",
            " 'Германия-Украина-Нидерланды' 'Италия-Швейцария'\n",
            " 'США-Германия-Великобритания' 'Латвия - Россия'\n",
            " 'Германия-Франция-Великобритания-США' 'Канада - Италия'\n",
            " 'США - Объединенные Арабские Эмираты' 'США-Венгрия' 'Малайзия'\n",
            " 'Россия - Германия - Украина' 'США - Австралия - Мексика'\n",
            " 'Литва - Венгрия' 'Германия - Китай' 'Казахстан' 'Республика Корея'\n",
            " 'США - Германия - Франция - Великобритания - Канада '\n",
            " 'Бельгия - Германия - Люксембург - Франция' 'Франция - Греция'\n",
            " 'Италия - Канада' 'США - Великобритания - Франция' 'США-Италия-Греция'\n",
            " 'Германия - США - Великобритания - Ирландия'\n",
            " 'Великобритания - Франция - Германия' 'Германия - Нидерланды - ЮАР'\n",
            " 'США-Япония-Германия-Великобритания-Нидерланды'\n",
            " 'США-Япония-Германия-Великобритания' 'Германия - Франция - Польша'\n",
            " 'Таиланд-Великобритания-Франция-Германия-Испания-Нидерланды'\n",
            " 'Германия-Италия-Швейцария'\n",
            " 'Дания - Швеция - Великобритания - Франция - Германия - Нидерланды - Норвегия - Финляндия'\n",
            " 'Франция - Великобритания - Нидерланды - Люксембург'\n",
            " 'Нидерланды-Великобритания-Франция-Италия-Япония'\n",
            " 'Финляндия-Дания-Германия-Ирландия' 'Испания-Аргентина'\n",
            " 'Великобритания - Нидерланды - Франция - США' 'Канада - Мексика'\n",
            " 'США, Франция' 'Канада-Южная Корея-США'\n",
            " 'Великобритания - Франция - Бельгия - США' 'КНР - Канада - США'\n",
            " 'Италия - Франция - Германия' 'Швеция - Германия - Франция - Дания'\n",
            " 'Франция - США - Бельгия' 'Украина - Германия - Латвия - Эстония'\n",
            " 'Австрия - Люксембург' 'Великобритания - КНР' 'Монголия'\n",
            " 'Франция - Дания' 'Швеция - Дания - Финляндия'\n",
            " 'Сингапур - Великобритания - Индонезия - Канада - США'\n",
            " 'США - Германия - Япония' 'Таиланд - США' 'Франция - Нидерланды'\n",
            " 'Великобритания - Румыния' 'США - Мальта'\n",
            " 'Великобритания - Германия - Нидерланды - Дания'\n",
            " 'Франция - Германия - Литва - Нидерланды - Россия' 'США - ЮАР - Гонконг'\n",
            " 'Австралия - Колумбия' 'Великобритания - Польша'\n",
            " 'США - Великобритания - Швеция' 'Франция - Швеция - Дания - Норвегия'\n",
            " 'Болгария - США' 'СССР, ФРГ' 'Бельгия - Нидерланды - Франция'\n",
            " 'Финляндия - Германия' 'Болгария'\n",
            " 'Грузия - Россия - Украина - Хорватия - Германия' 'Франция - Люксембург'\n",
            " 'Франция - Германия - Австрия' 'Норвегия - США' 'Германия-Швеция'\n",
            " 'Франция - Германия - Италия' 'Франция-Германия-Австрия' 'КНР-США'\n",
            " 'Великобритания - Ирландия - США ' 'Дания - Латвия - Россия - США'\n",
            " 'Финляндия - Польша' 'Германия - Бельгия'\n",
            " 'Германия - США - Франция - Испания'\n",
            " 'Бельгия-Германия-Канада-Франция-США-Великобритания'\n",
            " 'Нидерланды - Бельгия - Люксембург' 'Канада-Германия'\n",
            " 'Люксембург - Бельгия - Франция' 'США-Великобритания-Австралия'\n",
            " 'Великобритания, Новая Зеландия' 'Бельгия, Великобритания, США'\n",
            " 'Великобритания, Австралия' 'Исландия, Бельгия'\n",
            " 'Испания - Швейцария - Великобритания - Германия - Новая Зеландия - Нидерланды - Канада'\n",
            " 'Франция, Бельгия' 'Великобритания, США' 'Киргизия-Россия'\n",
            " 'Германия, США' 'Великобритания, США, Испания'\n",
            " 'Италия - Швейцария - Германия' 'Россия, Армения' 'Франция, Германия'\n",
            " 'Китай, Канада, США' 'Германия, Австралия' 'КНР, США'\n",
            " 'США, Великобритания, Люксембург' 'Испания, Ирландия, Бельгия, Франция'\n",
            " 'Великобритания - Гонконг - Венгрия - США - Ирландия' 'США - Пуэрто Рико'\n",
            " 'Аргентина - Испания - Уругвай'\n",
            " 'Израиль - Германия - Франция - Швейцария'\n",
            " 'Великобритания - Мексика - США' 'Испания - Болгария - США'\n",
            " 'Россия-Словакия-Чехия'\n",
            " 'Швейцария - КНР - США - Россия - Республика Корея - Великобритания'\n",
            " 'Россия, Нидерланды, Финляндия'\n",
            " 'Испания - Бельгия - Франция - Португалия - Великобритания'\n",
            " 'Бразилия - Португалия - Франция' 'Швеция - Норвегия'\n",
            " 'Франция - Польша - Бельгия' 'CША' 'Китай, США'\n",
            " 'Италия, Франция, Германия' 'Германия - Австрия - Франция'\n",
            " 'Чехия - Словакия - Хорватия' 'Россия, Польша, Финляндия'\n",
            " 'Россия, Латвия, Чешская Республика'\n",
            " 'Франция - Великобритания - Камбоджа - США - КНР' 'Чехия - Испания - США'\n",
            " 'Германия - Люксембург - Дания' 'Великобритания - Испания - Германия'\n",
            " 'Дания - Исландия' 'Германия, Франция, Великобритания'\n",
            " 'Великобритания - Испания - Италия - Латвия - Франция - Эстония'\n",
            " 'Дания, Швеция, Великобритания, Франция, Германия, Норвегия, Финляндия, Нидерланды, Италия'\n",
            " 'Польша - Франция - Великобритания' 'Дания, Норвегия, Венгрия, Чехия'\n",
            " 'Дания - Франция - Германия - Швеция' 'Великобритания, Швеция, США'\n",
            " 'Канада, Франция, Италия, Швейцария, США' 'США, Индия'\n",
            " 'США - Великобритания - Германия - - Швеция - Канада' 'Италия, Франция'\n",
            " 'Республика Беларусь, Германия, США, Россия'\n",
            " 'Италия-Швейцария-Франция-Германия '\n",
            " 'Россия - Франция - Великобритания - Латвия' 'Россия-Беларусь'\n",
            " 'Франция - Испания - Румыния - США - Бельгия' 'Италия-США'\n",
            " 'Россия, Австрия' 'Ирландия - Великобритания - США'\n",
            " 'Швейцария, Великобритания, Франция, США, Ирландия'\n",
            " 'Мексика, Франция, Германия, Дания, Швеция' 'Нидерланды, Бельгия'\n",
            " 'Швеция, Норвегия, Финляндия, Франция' 'Испания, Франция, Италия'\n",
            " 'Испания-Франция-Греция-Индия-США-Россия-Великобритания'\n",
            " 'Великобритания - Япония - США' 'Дания, Канада, Норвегия, Австралия, США'\n",
            " 'Аргентина, Испания' 'Россия, Германия, Казахстан, Польша, Китай'\n",
            " 'Португалия, Франция, Польша, США' 'США - Канада - Аргентина' 'Ливан-США'\n",
            " 'Япония - США' 'США, Гонконг '\n",
            " 'Франция - Россия - Швейцария - Румыния - Венгрия' 'Аргентина-Испания'\n",
            " 'Россия, Сербия' 'США - Болгария - Мексика'\n",
            " 'США - Великобритания - Швейцария - Франция' 'Таиланд - КНР - США'\n",
            " 'Великобритания, Нидерланды, Польша, Швейцария, Франция' 'Ирландия - США'\n",
            " 'Германия - Франция - Великобритания - Польша - США'\n",
            " 'Великобритания-Франция-Италия' 'США - Австралия - Индия' 'Франция - КНР'\n",
            " 'Великобритания - Израиль' 'Великобритания - Норвегия - Кения - Хорватия'\n",
            " 'США - Бразилия - Великобритания - Канада' 'Германия, Бельгия'\n",
            " 'Австралия, Канада' 'США, Великобритания, Франция' 'Кения, Германия'\n",
            " 'Нидерланды, Бельгия, Люксембург' 'Колумбия' 'Латвия - Франция'\n",
            " 'Ирландия, Великобритания' 'Франция - Израиль - Германия'\n",
            " 'Швеция, Франция, Великобритания' 'Бельгия - Люксембург'\n",
            " 'Германия - Бельгия - Великобритания'\n",
            " 'Испания, Франция, Великобритания, Дания, Бельгия, Германия'\n",
            " 'Румыния, ЮАР, Иран, Франция, Канада, Великобритания' 'Германия, Франция'\n",
            " 'США, Япония' 'США, Великобритания, Ирландия, Люксембург'\n",
            " 'Республика Армения' 'США, Франция, Япония' 'Япония, США' 'Канада, США'\n",
            " 'Республика Кипр - Россия'\n",
            " 'Дания - Франция - Италия - Бельгия - Нидерланды' 'Россия - Грузия'\n",
            " 'Италия, Германия' 'Норвегия, Швеция, Дания' 'Республика Кипр, Россия'\n",
            " 'КНР, Индия, Гонконг, США' 'Израиль, Украина' 'США, Россия'\n",
            " 'США - КНР - Индия - Ю.Корея' 'США - Швеция' 'Франция, Канада'\n",
            " 'Россия-Китай' 'Канада, Великобритания' 'США, Германия'\n",
            " 'Канада, США, Каймановы острова'\n",
            " 'Бразилия, Уругвай, Дания, Норвегия, Чили, Швеция'\n",
            " 'Пуэрто-Рико, Великобритания, США' 'Уругвай - Аргентина - Испания'\n",
            " 'США - Великобритания - Италия - Израиль - Сербия - Индия'\n",
            " 'США - Канада - Франция - Индия' 'Великобритания - Россия - КНР'\n",
            " 'Франция, Новая Зеландия' 'Франция, Люксембург, Бельгия'\n",
            " 'Канада, США, Норвегия' 'Италия, Испания'\n",
            " 'Испания - Германия - Нидерланды' 'Бразилия - США - КНР '\n",
            " 'Великобритания, Германия, Дания, США' '2019'\n",
            " 'Италия - Фрация - Бразилия - Германия' 'Норвегия - Швеция - Россия'\n",
            " 'Великобритания, Япония, США' 'Сша, Канада' 'Бельгия, Канада'\n",
            " 'Великобритания - Австралия - США' 'США, Канада' 'КНР - США '\n",
            " 'Франция - Финляндия' 'Колумбия - США' 'Великобритания, Франция, Бельгия'\n",
            " 'Норвегия - Нидерланды' 'Великобритания, Канада, США'\n",
            " 'Япония, Великобритания' 'Италия - Бельгия - Франция'\n",
            " 'Россия, Бельгия, Финляндия' 'США, Украина' 'Франция, Норвегия'\n",
            " 'Великобритания, Южная Корея, Канада, США, Индия, Китай, Япония'\n",
            " 'Канада - Норвегия' 'Республика Кипр-Россия' 'Германия, Россия'\n",
            " 'Польша - Франция - Испания - Бразилия - Швеция'\n",
            " 'Австрия, Великобритания, Германия' 'Франция - Сенегал - Бельгия'\n",
            " 'Франция, Бельгия, Люксембург' 'Финляндия, Латвия' 'Пакистан'\n",
            " 'Германия, Франция, США' 'Германия - Великобритания - США'\n",
            " 'КНР - Франция' 'Дания, Норвегия, Швеция, Исландия'\n",
            " 'Республика Кипр, США, Россия' 'Новая Зеландия - КНР'\n",
            " 'Дания - Канада - Швеция - Франция - Германия - Великобритания - США']\n",
            "['Тачстоун Пикчерз, Кобальт Пикчерз, Бикон Пикчерз, Тиг Продакшнз'\n",
            " 'Киностудия \"Мосфильм\"'\n",
            " 'Юниверсал Пикчерз, Кикстарт Продакшнз, Марк Платт Продакшнз, Рилейтивити Медиа, Спайгласс Интертейнмент, Стилкин Филмз, Топ Кау Продакшнз'\n",
            " ...\n",
            " 'Дэниел Гродник Продакшнз, Вандерфилм Медиа Корпорэйшн, Импринт Интертейнмент, Вор Хорс Интертейнмент, Пимиента '\n",
            " 'Никелодеон Анимейшн Студиос, Спин Мастер'\n",
            " 'Анимаккорд Лтд., ООО Студия \"АНИМАККОРД\"']\n",
            "['«18+» - запрещено для детей' '«6+» - для детей старше 6 лет'\n",
            " '«12+» - для детей старше 12 лет' '«16+» - для детей старше 16 лет'\n",
            " '«0+» - для любой зрительской аудитории']\n",
            "['боевик,драма,мелодрама' 'драма,военный' 'фантастика,боевик,триллер'\n",
            " 'драма' 'мелодрама,комедия' 'мюзикл,мелодрама,комедия' 'комедия,криминал'\n",
            " 'боевик,триллер,детектив' 'боевик,драма,приключения' 'драма,спорт'\n",
            " 'триллер,драма,мелодрама' 'комедия,мелодрама' 'драма,мелодрама,комедия'\n",
            " 'драма,мелодрама' 'драма,история' 'драма,мелодрама,семейный'\n",
            " 'комедия,мелодрама,криминал' 'комедия' 'боевик,драма,криминал'\n",
            " 'драма,комедия' 'ужасы,фантастика,комедия'\n",
            " 'мультфильм,короткометражка,мелодрама' 'драма,криминал'\n",
            " 'мультфильм,фантастика,фэнтези' 'триллер,драма,криминал'\n",
            " 'драма,мелодрама,биография' 'драма,комедия,военный'\n",
            " 'фантастика,драма,детектив' 'мюзикл,семейный' 'Неизвестно'\n",
            " 'военный,приключения,драма' 'документальный,драма'\n",
            " 'драма,биография,история' 'боевик,триллер,драма' 'фэнтези,боевик'\n",
            " 'боевик,комедия,криминал' 'мюзикл,комедия,детский'\n",
            " 'комедия,мелодрама,драма' 'мультфильм,фэнтези,комедия' 'комедия,история'\n",
            " 'мелодрама' 'драма,биография,музыка' 'фэнтези,драма,мелодрама'\n",
            " 'триллер,военный' 'драма,мелодрама,военный' 'мюзикл,драма,мелодрама'\n",
            " 'мюзикл,комедия' 'мультфильм,приключения,семейный' 'ужасы,триллер'\n",
            " 'боевик,драма,военный' 'драма,боевик' 'мультфильм,драма,комедия'\n",
            " 'триллер,криминал' 'военный,биография,драма' 'комедия,семейный' 'военный'\n",
            " 'драма,семейный,биография' 'фэнтези,приключения,семейный'\n",
            " 'драма,криминал,биография' 'ужасы,триллер,детектив'\n",
            " 'боевик,история,драма' 'ужасы,триллер,драма' 'драма,криминал,спорт'\n",
            " 'документальный,короткометражка' 'триллер,драма'\n",
            " 'криминал,детектив,приключения' 'драма,комедия,криминал'\n",
            " 'драма,комедия,вестерн' 'драма,мелодрама,детектив' 'мелодрама,биография'\n",
            " 'фэнтези,мелодрама,драма' 'драма,мелодрама,история'\n",
            " 'комедия,приключения,история' 'приключения' 'драма,семейный'\n",
            " 'криминал,детектив' 'мультфильм,короткометражка,ужасы'\n",
            " 'фантастика,триллер,драма' 'фэнтези,мелодрама,комедия' 'драма,биография'\n",
            " 'комедия,криминал,история' 'триллер,драма,детектив'\n",
            " 'фантастика,комедия,приключения' 'фэнтези,семейный'\n",
            " 'ужасы,фантастика,боевик' 'мелодрама,криминал'\n",
            " 'комедия,приключения,мелодрама' 'боевик,триллер,приключения'\n",
            " 'боевик,приключения' 'боевик,триллер,криминал'\n",
            " 'документальный,военный,история' 'драма,музыка' 'боевик,драма'\n",
            " 'приключения,боевик' 'драма,военный,биография'\n",
            " 'триллер,драма,приключения' 'аниме,мультфильм,фэнтези'\n",
            " 'триллер,детектив,драма' 'боевик,триллер,мелодрама' 'боевик,история'\n",
            " 'приключения,история' 'драма,комедия,приключения'\n",
            " 'фэнтези,комедия,приключения' 'драма,вестерн' 'документальный,музыка'\n",
            " 'мелодрама,драма' 'триллер,криминал,детектив' 'ужасы'\n",
            " 'боевик,комедия,приключения' 'мультфильм,фэнтези,боевик'\n",
            " 'боевик,фэнтези,драма' 'фэнтези,драма' 'фэнтези,боевик,комедия'\n",
            " 'приключения,детский,комедия' 'документальный' 'боевик,триллер,комедия'\n",
            " 'мелодрама,комедия,криминал' 'драма,детектив' 'мюзикл,ужасы,триллер'\n",
            " 'детектив,триллер,ужасы' 'ужасы,фэнтези' 'ужасы,фэнтези,триллер'\n",
            " 'мультфильм,драма' 'ужасы,боевик,фантастика' 'боевик' 'фантастика,боевик'\n",
            " 'мелодрама,комедия,приключения' 'триллер,детектив'\n",
            " 'мюзикл,мелодрама,фэнтези' 'криминал' 'триллер,комедия,криминал'\n",
            " 'боевик,приключения,триллер' 'триллер,драма,военный'\n",
            " 'комедия,семейный,музыка' 'комедия,фантастика,мелодрама'\n",
            " 'фантастика,триллер,криминал' 'комедия,драма' 'боевик,военный'\n",
            " 'ужасы,фантастика,триллер' 'фантастика,драма,мелодрама'\n",
            " 'фэнтези,драма,детектив' 'боевик,триллер' 'боевик,драма,история'\n",
            " 'мультфильм,мюзикл,фэнтези' 'для взрослых,драма,мелодрама'\n",
            " 'мультфильм,боевик,детектив' 'фантастика,мелодрама,боевик'\n",
            " 'ужасы,фантастика,детектив' 'фантастика,боевик,приключения'\n",
            " 'мелодрама,комедия,спорт' 'комедия,боевик,приключения'\n",
            " 'документальный,приключения' 'мультфильм,короткометражка,детский'\n",
            " 'комедия,приключения' 'ужасы,драма' 'ужасы,фэнтези,боевик'\n",
            " 'мультфильм,фэнтези,детский' 'мюзикл,боевик,драма'\n",
            " 'семейный,комедия,драма' 'концерт,музыка' 'фэнтези,боевик,драма'\n",
            " 'драма,комедия,музыка' 'фантастика,фэнтези,боевик'\n",
            " 'фэнтези,комедия,семейный' 'фэнтези,драма,комедия'\n",
            " 'мультфильм,мюзикл,драма' 'триллер' 'боевик,криминал,триллер'\n",
            " 'мультфильм,приключения,драма' 'мелодрама,музыка'\n",
            " 'документальный,музыка,концерт' 'мультфильм,семейный'\n",
            " 'мультфильм,комедия,приключения' 'мультфильм,комедия,семейный'\n",
            " 'фантастика,драма' 'фэнтези,боевик,приключения' 'мультфильм,приключения'\n",
            " 'драма,военный,история' 'история' 'драма,приключения,военный'\n",
            " 'документальный,короткометражка,семейный' 'мелодрама,история,триллер'\n",
            " 'ужасы,детектив' 'мюзикл,комедия,приключения' 'драма,спорт,биография'\n",
            " 'фантастика,боевик,комедия' 'фантастика,приключения,детектив'\n",
            " 'короткометражка,драма,военный' 'драма,мультфильм' 'приключения,семейный'\n",
            " 'детектив' 'триллер,приключения' 'аниме,мультфильм,боевик'\n",
            " 'драма,комедия,биография' 'драма,комедия,спорт'\n",
            " 'боевик,мелодрама,комедия' 'семейный,комедия' 'фэнтези,боевик,триллер'\n",
            " 'документальный,фэнтези,семейный' 'фантастика,фэнтези,драма'\n",
            " 'ужасы,комедия,фэнтези' 'документальный,биография,музыка'\n",
            " 'фантастика,боевик,фэнтези' 'ужасы,боевик,триллер'\n",
            " 'комедия,криминал,семейный' 'приключения,драма' 'криминал,драма,триллер'\n",
            " 'драма,детектив,криминал' 'фэнтези,приключения,комедия' 'комедия,спорт'\n",
            " 'мюзикл,фэнтези,мелодрама' 'мультфильм,фэнтези,приключения'\n",
            " 'фантастика,фэнтези,приключения' 'фэнтези' 'фэнтези,приключения,боевик'\n",
            " 'фантастика,боевик,драма' 'криминал,драма' 'криминал,триллер,драма'\n",
            " 'драма,мелодрама,приключения' 'детский,комедия' 'фантастика,драма,боевик'\n",
            " 'мультфильм,семейный,фэнтези' 'концерт,музыка,документальный'\n",
            " 'ужасы,комедия,приключения' 'драма,мелодрама,криминал'\n",
            " 'ужасы,фантастика,фэнтези' 'боевик,комедия'\n",
            " 'мультфильм,фантастика,комедия' 'триллер,ужасы'\n",
            " 'мультфильм,мюзикл,комедия' 'мелодрама,фэнтези,триллер'\n",
            " 'детский,приключения,комедия' 'комедия,детектив'\n",
            " 'аниме,мультфильм,мелодрама' 'документальный,драма,семейный'\n",
            " 'документальный,биография,история' 'военный,боевик,драма' 'ужасы,комедия'\n",
            " 'комедия,приключения,семейный' 'приключения,биография,история'\n",
            " 'детский,приключения,семейный' 'спорт,драма,биография'\n",
            " 'аниме,мультфильм,ужасы' 'фантастика,боевик,криминал' 'мюзикл,драма'\n",
            " 'драма,криминал,детектив' 'аниме,мультфильм,драма'\n",
            " 'драма,триллер,приключения' 'триллер,криминал,драма'\n",
            " 'фэнтези,комедия,драма' 'мультфильм,комедия' 'драма,комедия,история'\n",
            " 'комедия,биография,история' 'мультфильм,фантастика,приключения'\n",
            " 'аниме,мультфильм,фантастика' 'мультфильм,фэнтези,семейный'\n",
            " 'мультфильм,боевик,комедия' 'комедия,криминал,спорт'\n",
            " 'документальный,мюзикл' 'мелодрама,комедия,музыка' 'биография'\n",
            " 'триллер,криминал,комедия' 'фантастика,драма,комедия'\n",
            " 'комедия,драма,мелодрама' 'фантастика,приключения,боевик'\n",
            " 'мультфильм,фэнтези,драма' 'триллер,комедия'\n",
            " 'драма,приключения,биография' 'фантастика,комедия'\n",
            " 'мелодрама,драма,комедия' 'боевик,криминал' 'драма,криминал,боевик'\n",
            " 'мультфильм,мюзикл,детский' 'драма,фэнтези' 'документальный,семейный'\n",
            " 'фэнтези,драма,приключения' 'ужасы,комедия,фантастика'\n",
            " 'драма,мелодрама,музыка' 'фэнтези,драма,семейный'\n",
            " 'триллер,мелодрама,драма' 'вестерн,боевик,драма'\n",
            " 'мультфильм,короткометражка,комедия' 'триллер,драма,история'\n",
            " 'ужасы,фантастика' 'ужасы,мелодрама,комедия' 'фэнтези,приключения'\n",
            " 'фантастика,триллер' 'ужасы,боевик,фэнтези' 'мультфильм,комедия,детский'\n",
            " 'триллер,драма,биография' 'мультфильм,ужасы,фэнтези'\n",
            " 'мультфильм,ужасы,фантастика' 'ужасы,боевик,комедия'\n",
            " 'драма,биография,спорт' 'мультфильм' 'мелодрама,комедия,драма'\n",
            " 'приключения,фантастика,семейный' 'комедия,криминал,детектив'\n",
            " 'ужасы,триллер,комедия' 'криминал,комедия,триллер'\n",
            " 'семейный,приключения,комедия' 'мультфильм,драма,приключения'\n",
            " 'ужасы,драма,детектив' 'драма,приключения,фэнтези'\n",
            " 'фантастика,мультфильм,драма' 'драма,триллер,детектив'\n",
            " 'драма,история,музыка' 'детский' 'триллер,боевик,криминал'\n",
            " 'драма,фантастика' 'комедия,драма,семейный' 'боевик,драма,комедия'\n",
            " 'комедия,ужасы' 'драма,фантастика,триллер' 'фантастика,драма,триллер'\n",
            " 'история,спорт,драма' 'документальный,биография' 'биография,история'\n",
            " 'спорт,драма' 'боевик,фэнтези' 'мультфильм,фэнтези'\n",
            " 'документальный,комедия,история' 'криминал,комедия,боевик'\n",
            " 'фэнтези,приключения,драма' 'музыка,концерт' 'триллер,драма,боевик'\n",
            " 'комедия,криминал,боевик' 'комедия,фантастика,боевик'\n",
            " 'вестерн,приключения,боевик' 'аниме,мультфильм,комедия'\n",
            " 'детектив,криминал,триллер' 'мультфильм,комедия,криминал'\n",
            " 'комедия,приключения,детектив' 'мелодрама,фантастика,драма'\n",
            " 'драма,комедия,семейный' 'приключения,фантастика'\n",
            " 'триллер,детектив,ужасы' 'комедия,приключения,фэнтези'\n",
            " 'фэнтези,триллер,драма' 'мелодрама,приключения,боевик'\n",
            " 'детектив,триллер,криминал' 'фэнтези,семейный,мелодрама' 'военный,драма'\n",
            " 'документальный,приключения,семейный' 'криминал,комедия,драма'\n",
            " 'комедия,фантастика' 'история,биография,драма' 'мелодрама,драма,музыка'\n",
            " 'боевик,мелодрама' 'комедия,криминал,триллер' 'детектив,триллер,боевик'\n",
            " 'комедия,боевик,криминал' 'комедия,вестерн' 'детский,мелодрама,семейный'\n",
            " 'короткометражка,мультфильм' 'комедия,фэнтези' 'фантастика,драма,ужасы'\n",
            " 'триллер,драма,ужасы' 'драма,фэнтези,история'\n",
            " 'комедия,драма,короткометражка' 'фэнтези,триллер,приключения' 'семейный'\n",
            " 'комедия,криминал,драма' 'комедия,фэнтези,ужасы'\n",
            " 'короткометражка,комедия,криминал' 'фантастика' 'триллер,ужасы,драма'\n",
            " 'мелодрама,драма,фэнтези' 'фантастика,приключения,драма'\n",
            " 'боевик,детектив' 'военный,драма,боевик' 'комедия,мелодрама,фэнтези'\n",
            " 'вестерн,криминал,триллер' 'драма,история,триллер'\n",
            " 'мультфильм,фантастика,боевик' 'детектив,драма,криминал'\n",
            " 'приключения,история,драма' 'мультфильм,семейный,детский'\n",
            " 'биография,драма,история' 'триллер,криминал,боевик' 'история,мелодрама'\n",
            " 'приключения,детский' 'музыка,приключения,концерт'\n",
            " 'военный,драма,комедия' 'фэнтези,боевик,военный'\n",
            " 'фантастика,детектив,боевик' 'мультфильм,фэнтези,история'\n",
            " 'биография,мелодрама,драма' 'документальный,биография,спорт'\n",
            " 'фантастика,комедия,детектив' 'музыка,концерт,документальный'\n",
            " 'триллер,боевик,приключения' 'триллер,драма,комедия' 'детектив,криминал'\n",
            " 'мультфильм,приключения,фэнтези' 'мелодрама,приключения' 'комедия,музыка'\n",
            " 'мелодрама,комедия,ужасы' 'драма,криминал,приключения'\n",
            " 'приключения,детектив,мелодрама' 'драма,криминал,фантастика'\n",
            " 'фэнтези,драма,биография' 'детектив,фантастика,криминал'\n",
            " 'триллер,драма,фантастика' 'ужасы,комедия,боевик' 'мелодрама,история'\n",
            " 'триллер,боевик' 'фильм-нуар,триллер,детектив'\n",
            " 'комедия,криминал,приключения' 'ужасы,триллер,мелодрама'\n",
            " 'военный,драма,история' 'драма,спорт,история'\n",
            " 'документальный,драма,история' 'триллер,мелодрама,детектив'\n",
            " 'детский,семейный' 'мюзикл,семейный,драма' 'биография,военный,драма'\n",
            " 'мультфильм,детский' 'боевик,криминал,драма' 'детектив,фэнтези,триллер'\n",
            " 'драма,боевик,приключения' 'драма,мелодрама,фэнтези'\n",
            " 'детектив,история,драма' 'фэнтези,боевик,ужасы' 'ужасы,фэнтези,мелодрама'\n",
            " 'ужасы,приключения' 'боевик,фантастика' 'ужасы,мелодрама,детектив'\n",
            " 'фантастика,триллер,приключения' 'боевик,приключения,история'\n",
            " 'приключения,боевик,триллер' 'детектив,ужасы,криминал' 'семейный,фэнтези'\n",
            " 'мюзикл,мелодрама' 'драма,военный,приключения'\n",
            " 'фантастика,драма,приключения' 'приключения,семейный,драма'\n",
            " 'история,драма,боевик' 'мультфильм,приключения,комедия'\n",
            " 'криминал,драма,комедия' 'ужасы,комедия,драма'\n",
            " 'комедия,семейный,приключения' 'мюзикл,фэнтези,драма'\n",
            " 'драма,вестерн,боевик' 'фантастика,триллер,детектив'\n",
            " 'драма,история,детектив' 'короткометражка,биография'\n",
            " 'мультфильм,приключения,фантастика' 'комедия,триллер'\n",
            " 'мультфильм,приключения,детектив' 'драма,триллер'\n",
            " 'ужасы,триллер,криминал' 'документальный,криминал,военный'\n",
            " 'ужасы,фэнтези,драма' 'фэнтези,комедия' 'ужасы,фэнтези,комедия'\n",
            " 'комедия,музыка,драма' 'мультфильм,приключения,военный'\n",
            " 'мюзикл,фэнтези,комедия' 'боевик,фантастика,приключения'\n",
            " 'триллер,ужасы,криминал' 'ужасы,фантастика,драма'\n",
            " 'фантастика,приключения,семейный' 'короткометражка,музыка'\n",
            " 'мелодрама,детектив,комедия' 'документальный,триллер,биография'\n",
            " 'боевик,фантастика,триллер' 'спорт,драма,комедия'\n",
            " 'фэнтези,мелодрама,приключения' 'триллер,детектив,криминал'\n",
            " 'короткометражка,мелодрама' 'мультфильм,семейный,спорт'\n",
            " 'комедия,фэнтези,мелодрама' 'драма,спорт,комедия'\n",
            " 'история,драма,мелодрама' 'драма,боевик,криминал' 'драма,комедия,триллер'\n",
            " 'аниме,мультфильм' 'документальный,ужасы' 'мультфильм,короткометражка'\n",
            " 'драма,история,военный' 'мультфильм,короткометражка,фэнтези'\n",
            " 'комедия,военный,музыка' 'биография,история,драма'\n",
            " 'ужасы,драма,мелодрама' 'драма,комедия,детектив'\n",
            " 'комедия,семейный,фантастика' 'мультфильм,семейный,комедия'\n",
            " 'история,детектив' 'приключения,мелодрама,детектив'\n",
            " 'мюзикл,комедия,мелодрама' 'драма,фантастика,ужасы'\n",
            " 'мультфильм,ужасы,комедия' 'для взрослых,драма,комедия'\n",
            " 'ужасы,комедия,музыка' 'комедия,история,драма'\n",
            " 'семейный,детектив,детский' 'короткометражка,драма'\n",
            " 'документальный,новости,драма' 'триллер,мелодрама' 'ужасы,драма,вестерн'\n",
            " 'мюзикл,фэнтези,семейный' 'вестерн,драма,триллер'\n",
            " 'приключения,вестерн,боевик' 'семейный,комедия,музыка'\n",
            " 'боевик,драма,вестерн' 'ужасы,драма,триллер' 'фантастика,мелодрама'\n",
            " 'комедия,криминал,биография' 'семейный,мультфильм,комедия'\n",
            " 'комедия,драма,криминал' 'фантастика,боевик,военный'\n",
            " 'приключения,биография,драма' 'приключения,триллер,биография'\n",
            " 'криминал,боевик,триллер' 'боевик,вестерн,приключения' 'история,драма'\n",
            " 'фантастика,фэнтези,комедия' 'мультфильм,детский,комедия'\n",
            " 'мелодрама,комедия,триллер' 'документальный,боевик,приключения'\n",
            " 'драма,приключения' 'мелодрама,военный,драма' 'триллер,фэнтези'\n",
            " 'драма,триллер,биография' 'фэнтези,боевик,семейный'\n",
            " 'фантастика,триллер,комедия' 'документальный,фэнтези'\n",
            " 'комедия,мультфильм,фантастика' 'криминал,биография,комедия'\n",
            " 'биография,спорт,драма' 'приключения,военный' 'мультфильм,семейный,драма'\n",
            " 'документальный,фэнтези,драма' 'комедия,боевик,фантастика'\n",
            " 'семейный,приключения,военный' 'триллер,ужасы,детектив' 'короткометражка'\n",
            " 'мелодрама,триллер,история' 'документальный,история'\n",
            " 'мультфильм,приключения,детский' 'драма,комедия,мультфильм'\n",
            " 'военный,детектив' 'семейный,приключения,документальный'\n",
            " 'детский,фэнтези' 'документальный,комедия' 'комедия,биография'\n",
            " 'криминал,комедия' 'спорт,мелодрама,криминал' 'фантастика,комедия,боевик'\n",
            " 'боевик,приключения,детектив' 'детектив,триллер,драма'\n",
            " 'документальный,фантастика' 'мелодрама,комедия,семейный'\n",
            " 'мультфильм,мелодрама,комедия' 'драма,спорт,семейный'\n",
            " 'фантастика,мелодрама,фэнтези' 'мюзикл,комедия,музыка'\n",
            " 'фантастика,триллер,мелодрама' 'приключения,комедия,фэнтези'\n",
            " 'фэнтези,боевик,детектив' 'фэнтези,боевик,мелодрама' 'комедия,военный'\n",
            " 'драма,спорт,боевик' 'мультфильм,боевик,триллер' 'мелодрама,семейный'\n",
            " 'фантастика,боевик,детектив' 'драма,приключения,история'\n",
            " 'документальный,драма,музыка' 'фантастика,триллер,боевик'\n",
            " 'фэнтези,боевик,вестерн' 'драма,комедия,мелодрама'\n",
            " 'ужасы,фэнтези,приключения' 'триллер,фэнтези,драма'\n",
            " 'мультфильм,мюзикл,мелодрама' 'ужасы,триллер,фантастика'\n",
            " 'триллер,мелодрама,комедия' 'ужасы,комедия,семейный'\n",
            " 'комедия,приключения,музыка' 'документальный,комедия,криминал'\n",
            " 'мелодрама,детектив' 'детский,приключения,фантастика'\n",
            " 'короткометражка,боевик,драма' 'боевик,комедия,семейный'\n",
            " 'фантастика,боевик,мелодрама' 'фэнтези,триллер,мелодрама'\n",
            " 'драма,детектив,история' 'боевик,криминал,детектив'\n",
            " 'мультфильм,фэнтези,мелодрама' 'мелодрама,драма,боевик'\n",
            " 'драма,вестерн,приключения' 'драма,приключения,мелодрама'\n",
            " 'фэнтези,боевик,криминал' 'фантастика,комедия,семейный'\n",
            " 'детский,фэнтези,приключения' 'ужасы,боевик'\n",
            " 'фантастика,мелодрама,комедия' 'семейный,спорт,боевик'\n",
            " 'триллер,биография,драма' 'ужасы,драма,комедия'\n",
            " 'мультфильм,фэнтези,триллер' 'мюзикл' 'боевик,спорт,драма'\n",
            " 'комедия,приключения,вестерн' 'документальный,ужасы,боевик'\n",
            " 'фантастика,боевик,семейный' 'военный,история' 'ужасы,боевик,криминал'\n",
            " 'детектив,триллер' 'драма,семейный,комедия' 'драма,детектив,приключения'\n",
            " 'драма,криминал,история' 'приключения,триллер' 'боевик,драма,биография'\n",
            " 'драма,приключения,триллер' 'комедия,фэнтези,приключения'\n",
            " 'фантастика,боевик,ужасы' 'драма,комедия,фантастика'\n",
            " 'детектив,криминал,драма' 'боевик,триллер,фэнтези'\n",
            " 'приключения,детектив,семейный' 'ужасы,комедия,криминал'\n",
            " 'мультфильм,биография,драма' 'история,боевик,фэнтези'\n",
            " 'детектив,криминал,боевик' 'приключения,фэнтези'\n",
            " 'комедия,приключения,спорт' 'драма,биография,мюзикл'\n",
            " 'комедия,семейный,фэнтези' 'детектив,драма,триллер'\n",
            " 'боевик,приключения,семейный' 'биография,спорт,комедия'\n",
            " 'фантастика,приключения,военный' 'документальный,драма,биография'\n",
            " 'детектив,приключения,драма' 'аниме,мультфильм,приключения'\n",
            " 'семейный,приключения' 'ужасы,фэнтези,детектив' 'семейный,документальный'\n",
            " 'драма,приключения,семейный' 'приключения,история,военный'\n",
            " 'фэнтези,мелодрама' 'фэнтези,триллер,детектив'\n",
            " 'документальный,спорт,биография' 'комедия,триллер,драма' 'драма,ужасы'\n",
            " 'биография,музыка,драма' 'фэнтези,ужасы' 'детектив,мелодрама,фэнтези'\n",
            " 'боевик,военный,история' 'биография,драма,криминал'\n",
            " 'триллер,мелодрама,криминал' 'семейный,мелодрама' 'биография,драма'\n",
            " 'военный,история,драма' 'фантастика,детектив,фэнтези'\n",
            " 'детектив,приключения,триллер' 'фантастика,приключения'\n",
            " 'мультфильм,короткометражка,мюзикл' 'мультфильм,детский,семейный'\n",
            " 'документальный,драма,комедия' 'комедия,приключения,криминал'\n",
            " 'документальный,семейный,музыка' 'мелодрама,музыка,драма'\n",
            " 'детектив,фантастика,триллер' 'драма,мелодрама,триллер'\n",
            " 'биография,драма,военный' 'приключения,фантастика,драма'\n",
            " 'детектив,фильм-нуар,комедия' 'документальный,спорт'\n",
            " 'триллер,фантастика,драма' 'биография,документальный'\n",
            " 'ужасы,фантастика,мелодрама' 'детектив,комедия'\n",
            " 'история,биография,военный' 'криминал,мелодрама' 'драма,криминал,вестерн'\n",
            " 'мелодрама,семейный,приключения' 'триллер,ужасы,мелодрама'\n",
            " 'фэнтези,драма,фильм-нуар' 'детектив,мелодрама' 'комедия,драма,биография'\n",
            " 'драма,военный,боевик' 'драма,комедия,ужасы' 'фантастика,драма,криминал'\n",
            " 'документальный,музыка,биография' 'мультфильм,боевик,приключения'\n",
            " 'короткометражка,фантастика' 'мультфильм,мелодрама,драма'\n",
            " 'боевик,военный,драма' 'фэнтези,семейный,приключения'\n",
            " 'детский,мультфильм,приключения' 'семейный,фэнтези,комедия'\n",
            " 'фэнтези,ужасы,триллер' 'ужасы,триллер,приключения'\n",
            " 'драма,боевик,история' 'фэнтези,комедия,детектив' 'история,приключения'\n",
            " 'аниме,мультфильм,короткометражка' 'драма,военный,триллер'\n",
            " 'биография,криминал,триллер' 'фантастика,фэнтези,детектив'\n",
            " 'вестерн,биография,драма' 'биография,музыка,мюзикл'\n",
            " 'драма,история,биография' 'приключения,драма,фантастика'\n",
            " 'комедия,фэнтези,криминал' 'биография,спорт,история'\n",
            " 'драма,криминал,семейный' 'детектив,боевик,история'\n",
            " 'ужасы,комедия,детектив' 'триллер,приключения,драма'\n",
            " 'фэнтези,комедия,криминал' 'триллер,криминал,приключения'\n",
            " 'комедия,детектив,приключения' 'фэнтези,драма,ужасы'\n",
            " 'ужасы,драма,военный' 'реальное ТВ' 'аниме,мультфильм,детектив'\n",
            " 'приключения,фэнтези,семейный' 'драма,биография,комедия'\n",
            " 'триллер,комедия,ужасы' 'музыка,мелодрама,фэнтези' 'мультфильм,история'\n",
            " 'мультфильм,комедия,фантастика' 'биография,криминал,драма'\n",
            " 'комедия,мелодрама,фантастика' 'криминал,боевик,комедия'\n",
            " 'история,криминал' 'детектив,комедия,драма' 'триллер,фантастика,боевик'\n",
            " 'криминал,боевик' 'комедия,драма,военный' 'драма,триллер,криминал'\n",
            " 'мультфильм,мелодрама,приключения' 'фантастика,фэнтези,триллер'\n",
            " 'короткометражка,драма,триллер' 'военный,боевик,история'\n",
            " 'боевик,драма,триллер' 'документальный,военный,драма'\n",
            " 'драма,криминал,фильм-нуар' 'мультфильм,детский,приключения'\n",
            " 'мелодрама,история,драма']\n"
          ]
        }
      ],
      "source": [
        "#Вывод уникальных значений категориальных столбцов\n",
        "print(data['type'].unique())\n",
        "print(data['production_country'].unique())\n",
        "print(data['film_studio'].unique())\n",
        "print(data['age_restriction'].unique())\n",
        "print(data['genres'].unique())"
      ]
    },
    {
      "cell_type": "markdown",
      "metadata": {
        "id": "e1Er0pG4emKt"
      },
      "source": [
        "В категориальных данных множетсво отступов:\n",
        "\" Художественный\" и подобных, это явление весьма распространенно при ручном вводе данных.\n",
        "Поэтому удалю все крайние и начальные пробелы в данных"
      ]
    },
    {
      "cell_type": "code",
      "execution_count": null,
      "metadata": {
        "id": "S1iBvdaudEfW"
      },
      "outputs": [],
      "source": [
        "#Создаю цикл для перебора категориальных столбцов и полседующим удалением пробелов\n",
        "for col in [\n",
        "    'title', 'type', 'production_country',\n",
        "    'film_studio', 'producer',\n",
        "    'director', 'age_restriction', 'genres']:\n",
        "    data[col] = data[col].str.strip()\n"
      ]
    },
    {
      "cell_type": "code",
      "execution_count": null,
      "metadata": {
        "colab": {
          "base_uri": "https://localhost:8080/"
        },
        "id": "1Y9-2NI5fUPK",
        "outputId": "6acaf778-e937-432b-83d4-559559887ceb"
      },
      "outputs": [
        {
          "name": "stdout",
          "output_type": "stream",
          "text": [
            "['Художественный' 'Анимационный' 'Прочие' 'Документальный'\n",
            " 'Научно-популярный' 'Музыкально-развлекательный']\n"
          ]
        }
      ],
      "source": [
        "#Проверка\n",
        "print(data['type'].unique())"
      ]
    },
    {
      "cell_type": "markdown",
      "metadata": {
        "id": "ATZ5J58ijXp_"
      },
      "source": [
        "<b>Вывод:</b>\n",
        "    \n",
        "- Во всех категориальных данных присутствуют проблемы с пробелами, они присутстваовали в виде отступов.\n",
        "- В каждом столбце пробелов не хватает в качестве разделителя значений между запятыми во время перечисления жанров/стран и прочее\n",
        "- В столбце стран, перечисление временами происходит через дефис, а не запятыми\n",
        "- Общей проблемой является ручной ввод данных, приводящий к постоянным недочётам  "
      ]
    },
    {
      "cell_type": "markdown",
      "metadata": {
        "id": "JodJW24Jgagd"
      },
      "source": [
        "<b>Изучение столбцов содержащие количественные значения:</b>\n",
        "\n",
        "Числа в е-формате неудобно читать, можно перевести значения из руб в млн руб. Для этого значения в колонках разделю на 1 000 000 используя цикл"
      ]
    },
    {
      "cell_type": "code",
      "execution_count": null,
      "metadata": {
        "id": "rURhDKiQlHmM"
      },
      "outputs": [],
      "source": [
        "#Создам переменную, что-бы как ранее не обращаться к колонкам\n",
        "category_to_round = ['budget', 'box_office', 'nonrefundable_support', 'refundable_support']\n",
        "\n",
        "for col in category_to_round:\n",
        "   data[col] = (data[col] / 1000000).round(3)"
      ]
    },
    {
      "cell_type": "code",
      "execution_count": null,
      "metadata": {
        "colab": {
          "base_uri": "https://localhost:8080/",
          "height": 300
        },
        "id": "MdOfDW4vpKbi",
        "outputId": "274e41bc-7b3d-48a5-d7a5-8ce1cc139eb8"
      },
      "outputs": [
        {
          "data": {
            "text/html": [
              "<div>\n",
              "<style scoped>\n",
              "    .dataframe tbody tr th:only-of-type {\n",
              "        vertical-align: middle;\n",
              "    }\n",
              "\n",
              "    .dataframe tbody tr th {\n",
              "        vertical-align: top;\n",
              "    }\n",
              "\n",
              "    .dataframe thead th {\n",
              "        text-align: right;\n",
              "    }\n",
              "</style>\n",
              "<table border=\"1\" class=\"dataframe\">\n",
              "  <thead>\n",
              "    <tr style=\"text-align: right;\">\n",
              "      <th></th>\n",
              "      <th>pu_number</th>\n",
              "      <th>refundable_support</th>\n",
              "      <th>nonrefundable_support</th>\n",
              "      <th>budget</th>\n",
              "      <th>ratings</th>\n",
              "      <th>box_office</th>\n",
              "    </tr>\n",
              "  </thead>\n",
              "  <tbody>\n",
              "    <tr>\n",
              "      <th>count</th>\n",
              "      <td>7.484000e+03</td>\n",
              "      <td>7484.000000</td>\n",
              "      <td>7484.000000</td>\n",
              "      <td>7484.000000</td>\n",
              "      <td>7484.000000</td>\n",
              "      <td>3158.000000</td>\n",
              "    </tr>\n",
              "    <tr>\n",
              "      <th>mean</th>\n",
              "      <td>1.351556e+08</td>\n",
              "      <td>0.526323</td>\n",
              "      <td>2.172860</td>\n",
              "      <td>5.644076</td>\n",
              "      <td>5.649653</td>\n",
              "      <td>76.478690</td>\n",
              "    </tr>\n",
              "    <tr>\n",
              "      <th>std</th>\n",
              "      <td>3.836159e+07</td>\n",
              "      <td>5.781874</td>\n",
              "      <td>16.151052</td>\n",
              "      <td>47.534439</td>\n",
              "      <td>2.412212</td>\n",
              "      <td>240.353125</td>\n",
              "    </tr>\n",
              "    <tr>\n",
              "      <th>min</th>\n",
              "      <td>0.000000e+00</td>\n",
              "      <td>0.000000</td>\n",
              "      <td>0.000000</td>\n",
              "      <td>0.000000</td>\n",
              "      <td>0.000000</td>\n",
              "      <td>0.000000</td>\n",
              "    </tr>\n",
              "    <tr>\n",
              "      <th>25%</th>\n",
              "      <td>1.120250e+08</td>\n",
              "      <td>0.000000</td>\n",
              "      <td>0.000000</td>\n",
              "      <td>0.000000</td>\n",
              "      <td>5.400000</td>\n",
              "      <td>0.086000</td>\n",
              "    </tr>\n",
              "    <tr>\n",
              "      <th>50%</th>\n",
              "      <td>1.210154e+08</td>\n",
              "      <td>0.000000</td>\n",
              "      <td>0.000000</td>\n",
              "      <td>0.000000</td>\n",
              "      <td>6.400000</td>\n",
              "      <td>2.328000</td>\n",
              "    </tr>\n",
              "    <tr>\n",
              "      <th>75%</th>\n",
              "      <td>1.240033e+08</td>\n",
              "      <td>0.000000</td>\n",
              "      <td>0.000000</td>\n",
              "      <td>0.000000</td>\n",
              "      <td>7.200000</td>\n",
              "      <td>23.979500</td>\n",
              "    </tr>\n",
              "    <tr>\n",
              "      <th>max</th>\n",
              "      <td>2.310011e+08</td>\n",
              "      <td>180.000000</td>\n",
              "      <td>400.000000</td>\n",
              "      <td>2305.074000</td>\n",
              "      <td>9.900000</td>\n",
              "      <td>3073.569000</td>\n",
              "    </tr>\n",
              "  </tbody>\n",
              "</table>\n",
              "</div>"
            ],
            "text/plain": [
              "          pu_number  refundable_support  nonrefundable_support       budget  \\\n",
              "count  7.484000e+03         7484.000000            7484.000000  7484.000000   \n",
              "mean   1.351556e+08            0.526323               2.172860     5.644076   \n",
              "std    3.836159e+07            5.781874              16.151052    47.534439   \n",
              "min    0.000000e+00            0.000000               0.000000     0.000000   \n",
              "25%    1.120250e+08            0.000000               0.000000     0.000000   \n",
              "50%    1.210154e+08            0.000000               0.000000     0.000000   \n",
              "75%    1.240033e+08            0.000000               0.000000     0.000000   \n",
              "max    2.310011e+08          180.000000             400.000000  2305.074000   \n",
              "\n",
              "           ratings   box_office  \n",
              "count  7484.000000  3158.000000  \n",
              "mean      5.649653    76.478690  \n",
              "std       2.412212   240.353125  \n",
              "min       0.000000     0.000000  \n",
              "25%       5.400000     0.086000  \n",
              "50%       6.400000     2.328000  \n",
              "75%       7.200000    23.979500  \n",
              "max       9.900000  3073.569000  "
            ]
          },
          "execution_count": 23,
          "metadata": {},
          "output_type": "execute_result"
        }
      ],
      "source": [
        "data.describe()"
      ]
    },
    {
      "cell_type": "code",
      "execution_count": null,
      "metadata": {
        "colab": {
          "base_uri": "https://localhost:8080/"
        },
        "id": "1q-wrEdTxqAG",
        "outputId": "a1d66527-7404-4558-f320-703553aba8e9"
      },
      "outputs": [
        {
          "name": "stdout",
          "output_type": "stream",
          "text": [
            "False    7483\n",
            "True        1\n",
            "Name: pu_number, dtype: Int64\n",
            "1797\n"
          ]
        }
      ],
      "source": [
        "#Проверка\n",
        "print((data['pu_number'] == 0).value_counts())\n",
        "print(data[data['pu_number'] == 0].index[0])"
      ]
    },
    {
      "cell_type": "markdown",
      "metadata": {
        "id": "RGvXhpUMq4rN"
      },
      "source": [
        "<b>Вывод:</b>\n",
        "    \n",
        "- Столбец с номером в реестре не может иметь 0 значение, вероятно это ошибка, да и значение всего одно\n",
        "- Нули являются заглушкой, в дальнейшем при необходимости отфильтрую их\n",
        "- Известно что бюджет включает в себя гос.поддержку, отфильтрую данный столбец учитывая это"
      ]
    },
    {
      "cell_type": "code",
      "execution_count": null,
      "metadata": {
        "colab": {
          "base_uri": "https://localhost:8080/"
        },
        "id": "9j4_5YySI1Za",
        "outputId": "6f521ff1-2ff2-4eb0-e1e6-3fa478517d35"
      },
      "outputs": [
        {
          "data": {
            "text/plain": [
              "7484"
            ]
          },
          "execution_count": 25,
          "metadata": {},
          "output_type": "execute_result"
        }
      ],
      "source": [
        "#Создаю копию\n",
        "temp = data.copy()\n",
        "len(temp)"
      ]
    },
    {
      "cell_type": "code",
      "execution_count": null,
      "metadata": {
        "colab": {
          "base_uri": "https://localhost:8080/"
        },
        "id": "5RaHUTVLGyga",
        "outputId": "afa0fc6d-ac06-4e13-d962-a3bf4db5e566"
      },
      "outputs": [
        {
          "data": {
            "text/plain": [
              "7483"
            ]
          },
          "execution_count": 26,
          "metadata": {},
          "output_type": "execute_result"
        }
      ],
      "source": [
        "#Удалю строку с 0 номером в реестре\n",
        "data = data.drop(1797)\n",
        "len(data)"
      ]
    },
    {
      "cell_type": "code",
      "execution_count": null,
      "metadata": {
        "id": "DX1PA-hgiP6p"
      },
      "outputs": [],
      "source": [
        "#Фильтр для актуального бюджета\n",
        "data['good_budget'] = np.where(data['refundable_support'] + data['nonrefundable_support'] < data['budget'], data['budget'], np.nan)"
      ]
    },
    {
      "cell_type": "markdown",
      "metadata": {
        "id": "UBTR29SeG8Z1"
      },
      "source": [
        "<b>Добавление новых столбцов:</b>"
      ]
    },
    {
      "cell_type": "code",
      "execution_count": null,
      "metadata": {
        "id": "HyjiwMqKHSvv"
      },
      "outputs": [],
      "source": [
        "#Год премьеры\n",
        "data['year_show'] = data['show_start_date'].dt.year\n",
        "\n",
        "#Главный режиссёр\n",
        "data['chief_director'] = data['director'].apply(lambda x: x.split(',')[0])\n",
        "\n",
        "#Основной жанр\n",
        "data['main_genre'] = data['genres'].apply(lambda x: x.split(',')[0])"
      ]
    },
    {
      "cell_type": "code",
      "execution_count": null,
      "metadata": {
        "colab": {
          "base_uri": "https://localhost:8080/"
        },
        "id": "NiVudpBCDiYC",
        "outputId": "233af7d7-b99f-4c48-fa66-bca2f16b0a47"
      },
      "outputs": [
        {
          "data": {
            "text/plain": [
              "0.65    26\n",
              "0.66    24\n",
              "0.70    22\n",
              "0.67    18\n",
              "0.62    18\n",
              "        ..\n",
              "0.78     1\n",
              "0.07     1\n",
              "0.18     1\n",
              "0.10     1\n",
              "0.08     1\n",
              "Name: budget_support, Length: 62, dtype: int64"
            ]
          },
          "execution_count": 29,
          "metadata": {},
          "output_type": "execute_result"
        }
      ],
      "source": [
        "#Доля гос.поддержки\n",
        "data['budget_support'] = np.where(data['good_budget']\n",
        "                                  , ((data['refundable_support'] + data['nonrefundable_support']) / data['budget'])\n",
        "                                  .round(2), np.nan)\n",
        "data['budget_support'].value_counts()"
      ]
    },
    {
      "cell_type": "markdown",
      "metadata": {
        "id": "iumcNwjLKIM6"
      },
      "source": [
        "<b>Вывод по этапу предобработки:</b>\n",
        "    \n",
        "- В данных было множество пробелов, аномалий или ошибок, их устранил:\n",
        "-- Поменял тип данных в нужных столбцах\n",
        "-- Переименовал один их столбцов\n",
        "-- Создал заглушки для пропусков\n",
        "-- Удалил дубликаты\n",
        "-- Устранил отступы в категориальных значениях\n",
        "-- Добавил фильтры для корректности дальнейшего анализа\n",
        "- Данные оптимизировал, в дальнейшем, по необходимости фильтруя заглушки будут получены чистые данные и значения"
      ]
    },
    {
      "cell_type": "markdown",
      "metadata": {
        "id": "zqt_j8DbLg90"
      },
      "source": [
        "#Шаг 3. Проведение исследовательского анализ данных"
      ]
    },
    {
      "cell_type": "markdown",
      "metadata": {
        "id": "fKXzgy6Gi-04"
      },
      "source": [
        "<b>Изучение данных о ежегодном выходе фильмов:</b>"
      ]
    },
    {
      "cell_type": "code",
      "execution_count": null,
      "metadata": {
        "colab": {
          "base_uri": "https://localhost:8080/",
          "height": 924
        },
        "id": "obPvZty6jBYn",
        "outputId": "8d21893e-c67c-404a-9770-3f270503a54a"
      },
      "outputs": [
        {
          "data": {
            "image/png": "[encoded data removed]",
            "text/plain": [
              "<Figure size 432x288 with 1 Axes>"
            ]
          },
          "metadata": {},
          "output_type": "display_data"
        },
        {
          "name": "stdout",
          "output_type": "stream",
          "text": [
            "Ежегодное количество фильмов: year_show\n",
            "2010     74\n",
            "2011     87\n",
            "2012    103\n",
            "2013    154\n",
            "2014    244\n",
            "2015    458\n",
            "2016    519\n",
            "2017    357\n",
            "2018    475\n",
            "2019    530\n",
            "Name: title, dtype: int64\n",
            "Доля фильмов с известной информацией о прокате: year_show\n",
            "2010    0.000000\n",
            "2011    0.000000\n",
            "2012    0.000000\n",
            "2013    0.085117\n",
            "2014    0.426353\n",
            "2015    2.421749\n",
            "2016    2.402611\n",
            "2017    2.288094\n",
            "2018    2.216493\n",
            "2019    3.683797\n",
            "Name: box_office, dtype: float64\n",
            "Период с наибольшей долей фильмов с известной информацией о прокате: 2019\n"
          ]
        }
      ],
      "source": [
        "#Создаю переменную-фильтр для вышедших в прокат фильмов\n",
        "data_rental = data[data['box_office'] > 0]\n",
        "\n",
        "#Нахожу общее число фильмов\n",
        "total_films = len(data_rental)\n",
        "#Группирую по годам\n",
        "annual_rental = data_rental.groupby('year_show')['title'].count()\n",
        "#Группирую фильмы о прокате которых известно\n",
        "annual_cinema_release = data_rental.groupby('year_show')['box_office'].mean()\n",
        "\n",
        "#Проходя по каждому году вычисляю долю фильмов с известной информацией о прокате\n",
        "for year in annual_rental.index:\n",
        "    #Нахожу сумму бюджета для каждого года\n",
        "    budget_sum = data_rental[data_rental['year_show'] == year]['good_budget'].sum()\n",
        "    #Вычисляю долю фильмов с известной информацией о прокате и добавляею в переменную\n",
        "    annual_cinema_release[year] = budget_sum / total_films\n",
        "\n",
        "plt.style.use('Solarize_Light2')\n",
        "#Cтрою график изменения доли фильмов с известной информацией о прокате по годам\n",
        "annual_cinema_release.plot(kind='line', color='orange')\n",
        "plt.xlabel('Год')\n",
        "plt.ylabel('Доля фильмов')\n",
        "plt.title('Доля фильмов с известной информацией о прокате по годам', color='black')\n",
        "\n",
        "plt.show()\n",
        "\n",
        "#Нахожу год с максимальной долей фильмов и известной информацией о прокате\n",
        "max_year = annual_cinema_release.idxmax()\n",
        "\n",
        "#Вывод результатов\n",
        "print('Ежегодное количество фильмов:', annual_rental)\n",
        "print('Доля фильмов с известной информацией о прокате:', annual_cinema_release)\n",
        "print('Период с наибольшей долей фильмов с известной информацией о прокате:', max_year)"
      ]
    },
    {
      "cell_type": "markdown",
      "metadata": {
        "id": "btp2IiGtx7Bj"
      },
      "source": [
        "<b>После проведённого анализа делаю следующие выводы:</b>\n",
        "\n",
        "- Заметен ежегодный прирост в осведомленности о прокате фильмов\n",
        "- До 2013 учёт совсем не велся\n",
        "- С 2015 года информация практически о всех киноновинках в прокате фиксировалась\n",
        "- в 2019 году наблюдается анамально большой скачок, доля информации о фильмах в прокате превысила количество вышедших фильмов, это можно связать с прокатом мировой \"классики\" в некоторых кинотеартах, так например, показывали в кинотеатрах анимационные произведения Хаяо Миядзаки, вышедшие далеко не в 2019 году, подобные явления и могли вызвать столь бурный рост"
      ]
    },
    {
      "cell_type": "code",
      "execution_count": null,
      "metadata": {
        "colab": {
          "base_uri": "https://localhost:8080/",
          "height": 426
        },
        "id": "hhB3pLw43NpY",
        "outputId": "fc0deb79-07d6-4ce8-f150-46e8d634ab40"
      },
      "outputs": [
        {
          "data": {
            "text/html": [
              "<div>\n",
              "<style scoped>\n",
              "    .dataframe tbody tr th:only-of-type {\n",
              "        vertical-align: middle;\n",
              "    }\n",
              "\n",
              "    .dataframe tbody tr th {\n",
              "        vertical-align: top;\n",
              "    }\n",
              "\n",
              "    .dataframe thead tr th {\n",
              "        text-align: left;\n",
              "    }\n",
              "\n",
              "    .dataframe thead tr:last-of-type th {\n",
              "        text-align: right;\n",
              "    }\n",
              "</style>\n",
              "<table border=\"1\" class=\"dataframe\">\n",
              "  <thead>\n",
              "    <tr>\n",
              "      <th></th>\n",
              "      <th>mean</th>\n",
              "      <th>median</th>\n",
              "    </tr>\n",
              "    <tr>\n",
              "      <th></th>\n",
              "      <th>box_office</th>\n",
              "      <th>box_office</th>\n",
              "    </tr>\n",
              "    <tr>\n",
              "      <th>year_show</th>\n",
              "      <th></th>\n",
              "      <th></th>\n",
              "    </tr>\n",
              "  </thead>\n",
              "  <tbody>\n",
              "    <tr>\n",
              "      <th>2010</th>\n",
              "      <td>0.023152</td>\n",
              "      <td>0.0020</td>\n",
              "    </tr>\n",
              "    <tr>\n",
              "      <th>2011</th>\n",
              "      <td>0.129330</td>\n",
              "      <td>0.0030</td>\n",
              "    </tr>\n",
              "    <tr>\n",
              "      <th>2012</th>\n",
              "      <td>0.054289</td>\n",
              "      <td>0.0060</td>\n",
              "    </tr>\n",
              "    <tr>\n",
              "      <th>2013</th>\n",
              "      <td>0.161967</td>\n",
              "      <td>0.0040</td>\n",
              "    </tr>\n",
              "    <tr>\n",
              "      <th>2014</th>\n",
              "      <td>26.684401</td>\n",
              "      <td>0.0180</td>\n",
              "    </tr>\n",
              "    <tr>\n",
              "      <th>2015</th>\n",
              "      <td>84.940578</td>\n",
              "      <td>4.9210</td>\n",
              "    </tr>\n",
              "    <tr>\n",
              "      <th>2016</th>\n",
              "      <td>91.000567</td>\n",
              "      <td>3.8465</td>\n",
              "    </tr>\n",
              "    <tr>\n",
              "      <th>2017</th>\n",
              "      <td>136.032776</td>\n",
              "      <td>9.9680</td>\n",
              "    </tr>\n",
              "    <tr>\n",
              "      <th>2018</th>\n",
              "      <td>104.565059</td>\n",
              "      <td>8.8910</td>\n",
              "    </tr>\n",
              "    <tr>\n",
              "      <th>2019</th>\n",
              "      <td>91.369253</td>\n",
              "      <td>4.6280</td>\n",
              "    </tr>\n",
              "  </tbody>\n",
              "</table>\n",
              "</div>"
            ],
            "text/plain": [
              "                 mean     median\n",
              "           box_office box_office\n",
              "year_show                       \n",
              "2010         0.023152     0.0020\n",
              "2011         0.129330     0.0030\n",
              "2012         0.054289     0.0060\n",
              "2013         0.161967     0.0040\n",
              "2014        26.684401     0.0180\n",
              "2015        84.940578     4.9210\n",
              "2016        91.000567     3.8465\n",
              "2017       136.032776     9.9680\n",
              "2018       104.565059     8.8910\n",
              "2019        91.369253     4.6280"
            ]
          },
          "execution_count": 31,
          "metadata": {},
          "output_type": "execute_result"
        }
      ],
      "source": [
        "#Создаю сводную таблицу, где индексом является год, а значениями - средняя и медианная сумма сборов\n",
        "annual_fee = data.pivot_table(index='year_show', values='box_office', aggfunc=['mean', 'median'])\n",
        "\n",
        "#Результаты\n",
        "annual_fee"
      ]
    },
    {
      "cell_type": "markdown",
      "metadata": {
        "id": "nt8nbH8C8KHf"
      },
      "source": [
        "<b>Вывод по исследованию среднего и медианы:</b>\n",
        "\n",
        "- Медиана в значениях до 15 года неправдоподобно мала\n",
        "--  Особенно выделяется 14 год со средним в 26млн и медианой в 180т.р. Это может быть вызвано выходом кассовых новинок, например фильмом по вселенной \"трансформеров\" и прочим.\n",
        "- Значения медианы и среднего отличаются в десятки раз, что говорит о крайне малом количестве кассово больших фильмов\n",
        "- Минимальная сумма сборов в 2010 и она равна 20к рублей, может в этот год только пробовали вводить мониторинг за кассовыми сборами кинотеатров, и тест проходил на социальной коротрометражке на которые иногда водили школьников в те годы  \n",
        "- Далее наблюдается постепенный рост касоовых сборов кинотеатров, с пиком в 2017 году на сумму 136млн\n",
        "- С 2018 начинается спад кассовых сборов, а в 19значения откатываются до времён 16года, причин может быть множество, от остутсвия интересных картин в кино, до большей популяризации и доступности онлайн-кинотеатров"
      ]
    },
    {
      "cell_type": "code",
      "execution_count": null,
      "metadata": {
        "id": "NZMuxtXhAotG"
      },
      "outputs": [],
      "source": [
        "#Сокращаю строку возрастного рейтинга\n",
        "data['age_restriction'] = data['age_restriction'].apply(lambda x: x.split('-')[0])"
      ]
    },
    {
      "cell_type": "code",
      "execution_count": null,
      "metadata": {
        "colab": {
          "base_uri": "https://localhost:8080/",
          "height": 238
        },
        "id": "17kI6mEz577Y",
        "outputId": "cd8fc63a-a7bc-4e4f-e111-f5fbe7380368"
      },
      "outputs": [
        {
          "data": {
            "text/html": [
              "<div>\n",
              "<style scoped>\n",
              "    .dataframe tbody tr th:only-of-type {\n",
              "        vertical-align: middle;\n",
              "    }\n",
              "\n",
              "    .dataframe tbody tr th {\n",
              "        vertical-align: top;\n",
              "    }\n",
              "\n",
              "    .dataframe thead th {\n",
              "        text-align: right;\n",
              "    }\n",
              "</style>\n",
              "<table border=\"1\" class=\"dataframe\">\n",
              "  <thead>\n",
              "    <tr style=\"text-align: right;\">\n",
              "      <th></th>\n",
              "      <th>box_office</th>\n",
              "    </tr>\n",
              "    <tr>\n",
              "      <th>age_restriction</th>\n",
              "      <th></th>\n",
              "    </tr>\n",
              "  </thead>\n",
              "  <tbody>\n",
              "    <tr>\n",
              "      <th>«0+»</th>\n",
              "      <td>1204.998</td>\n",
              "    </tr>\n",
              "    <tr>\n",
              "      <th>«12+»</th>\n",
              "      <td>63225.587</td>\n",
              "    </tr>\n",
              "    <tr>\n",
              "      <th>«16+»</th>\n",
              "      <td>76583.666</td>\n",
              "    </tr>\n",
              "    <tr>\n",
              "      <th>«18+»</th>\n",
              "      <td>42974.723</td>\n",
              "    </tr>\n",
              "    <tr>\n",
              "      <th>«6+»</th>\n",
              "      <td>57530.728</td>\n",
              "    </tr>\n",
              "  </tbody>\n",
              "</table>\n",
              "</div>"
            ],
            "text/plain": [
              "                 box_office\n",
              "age_restriction            \n",
              "«0+»               1204.998\n",
              "«12+»             63225.587\n",
              "«16+»             76583.666\n",
              "«18+»             42974.723\n",
              "«6+»              57530.728"
            ]
          },
          "execution_count": 33,
          "metadata": {},
          "output_type": "execute_result"
        }
      ],
      "source": [
        "#Создаю таблицу с данными о возрастной категории и сборах\n",
        "age_rating = data.pivot_table(index='age_restriction', values='box_office', aggfunc='sum')\n",
        "\n",
        "#Результаты\n",
        "age_rating"
      ]
    },
    {
      "cell_type": "code",
      "execution_count": null,
      "metadata": {
        "colab": {
          "base_uri": "https://localhost:8080/",
          "height": 515
        },
        "id": "oddVBG4w6B_b",
        "outputId": "0530aaf7-887e-441b-d40b-46f4bdb9f533"
      },
      "outputs": [
        {
          "data": {
            "image/png": "[encoded data removed]",
            "text/plain": [
              "<Figure size 432x288 with 1 Axes>"
            ]
          },
          "metadata": {},
          "output_type": "display_data"
        }
      ],
      "source": [
        "plt.style.use('dark_background')\n",
        "#Строю график изменения суммы сборов в зависимости от возрастного ограничения\n",
        "age_rating.plot(kind='bar', color='orange', edgecolor='green');\n",
        "plt.xlabel('Возрастное органичение')\n",
        "plt.ylabel('Кассовые сборы')\n",
        "plt.title('Сумма сборов в зависимости от возрастного ограничения')\n",
        "\n",
        "plt.show()"
      ]
    },
    {
      "cell_type": "markdown",
      "metadata": {
        "id": "0meoINmwHNzp"
      },
      "source": [
        "<b>Вывод:</b>\n",
        "\n",
        "- Саммые кассовые фильмы 16 и 12+, это объясняется их доступностью и низким порогом вхождения, условно человеку за 30+, чтобы расслабиться проще включить фильм 12или16+, ведь в нём не обещается чернуха и прочие прелести 18+, и в тоже время не будет слишком наивно и просто как 0-6+. Таким образом данные категрии приковывают не только аудиторию своего возраста, что и делает их самыми кассовыми\n",
        "- Самые низкие сборы у фильмов 0+, потому-что они в основном расчитаны на аудиторию до 8-10 лет, а после этого порога уже не пользуются популярностью"
      ]
    },
    {
      "cell_type": "code",
      "execution_count": null,
      "metadata": {
        "id": "KCe6RSf2ReWj"
      },
      "outputs": [],
      "source": [
        "#Создаю столбец-фильтр\n",
        "data['good_year'] = np.where(data['year_show'] >= 2015, data['year_show'], np.nan)"
      ]
    },
    {
      "cell_type": "code",
      "execution_count": null,
      "metadata": {
        "colab": {
          "base_uri": "https://localhost:8080/",
          "height": 669
        },
        "id": "PPAChdVDMTNg",
        "outputId": "4870829d-7522-4af9-eeb2-7cb31c942e39"
      },
      "outputs": [
        {
          "data": {
            "image/png": "[encoded data removed]",
            "text/plain": [
              "<Figure size 1440x720 with 1 Axes>"
            ]
          },
          "metadata": {},
          "output_type": "display_data"
        }
      ],
      "source": [
        "plt.style.use('Solarize_Light2')\n",
        "#Небольшая визуализация прибыли от категорий фильмов по годам\n",
        "visual_age_rating = data.pivot_table(index='age_restriction', columns='good_year', values='box_office').plot.bar(figsize=(20, 10), edgecolor='green');\n",
        "\n",
        "plt.xlabel('Возрастное ограничение')\n",
        "plt.ylabel('Кассовые сборы')\n",
        "plt.title('Ежегодные кассовые сборы в зависимости от возрастного рейтинга', color='black')\n",
        "plt.xticks(fontsize=15)\n",
        "\n",
        "plt.show()"
      ]
    },
    {
      "cell_type": "code",
      "execution_count": null,
      "metadata": {
        "colab": {
          "base_uri": "https://localhost:8080/",
          "height": 238
        },
        "id": "g_prc6TuTAby",
        "outputId": "c185766b-862d-4490-ccfd-1f9f0b84dd96"
      },
      "outputs": [
        {
          "data": {
            "text/html": [
              "<div>\n",
              "<style scoped>\n",
              "    .dataframe tbody tr th:only-of-type {\n",
              "        vertical-align: middle;\n",
              "    }\n",
              "\n",
              "    .dataframe tbody tr th {\n",
              "        vertical-align: top;\n",
              "    }\n",
              "\n",
              "    .dataframe thead th {\n",
              "        text-align: right;\n",
              "    }\n",
              "</style>\n",
              "<table border=\"1\" class=\"dataframe\">\n",
              "  <thead>\n",
              "    <tr style=\"text-align: right;\">\n",
              "      <th>good_year</th>\n",
              "      <th>2015.0</th>\n",
              "      <th>2016.0</th>\n",
              "      <th>2017.0</th>\n",
              "      <th>2018.0</th>\n",
              "      <th>2019.0</th>\n",
              "    </tr>\n",
              "    <tr>\n",
              "      <th>age_restriction</th>\n",
              "      <th></th>\n",
              "      <th></th>\n",
              "      <th></th>\n",
              "      <th></th>\n",
              "      <th></th>\n",
              "    </tr>\n",
              "  </thead>\n",
              "  <tbody>\n",
              "    <tr>\n",
              "      <th>«0+»</th>\n",
              "      <td>158.025</td>\n",
              "      <td>64.734</td>\n",
              "      <td>206.478</td>\n",
              "      <td>24.177</td>\n",
              "      <td>13.780</td>\n",
              "    </tr>\n",
              "    <tr>\n",
              "      <th>«12+»</th>\n",
              "      <td>1658.861</td>\n",
              "      <td>1398.265</td>\n",
              "      <td>1655.038</td>\n",
              "      <td>2271.754</td>\n",
              "      <td>3073.569</td>\n",
              "    </tr>\n",
              "    <tr>\n",
              "      <th>«16+»</th>\n",
              "      <td>1486.131</td>\n",
              "      <td>1570.380</td>\n",
              "      <td>2118.396</td>\n",
              "      <td>1913.258</td>\n",
              "      <td>2576.614</td>\n",
              "    </tr>\n",
              "    <tr>\n",
              "      <th>«18+»</th>\n",
              "      <td>1006.737</td>\n",
              "      <td>1587.516</td>\n",
              "      <td>1036.725</td>\n",
              "      <td>1236.763</td>\n",
              "      <td>1890.368</td>\n",
              "    </tr>\n",
              "    <tr>\n",
              "      <th>«6+»</th>\n",
              "      <td>1646.581</td>\n",
              "      <td>2048.126</td>\n",
              "      <td>2779.686</td>\n",
              "      <td>1125.243</td>\n",
              "      <td>1911.945</td>\n",
              "    </tr>\n",
              "  </tbody>\n",
              "</table>\n",
              "</div>"
            ],
            "text/plain": [
              "good_year          2015.0    2016.0    2017.0    2018.0    2019.0\n",
              "age_restriction                                                  \n",
              "«0+»              158.025    64.734   206.478    24.177    13.780\n",
              "«12+»            1658.861  1398.265  1655.038  2271.754  3073.569\n",
              "«16+»            1486.131  1570.380  2118.396  1913.258  2576.614\n",
              "«18+»            1006.737  1587.516  1036.725  1236.763  1890.368\n",
              "«6+»             1646.581  2048.126  2779.686  1125.243  1911.945"
            ]
          },
          "execution_count": 37,
          "metadata": {},
          "output_type": "execute_result"
        }
      ],
      "source": [
        "#Максимум сборов для возрастного ограничения\n",
        "max_age_rating = data.pivot_table(index='age_restriction', columns='good_year', values='box_office', aggfunc=max)\n",
        "max_age_rating"
      ]
    },
    {
      "cell_type": "code",
      "execution_count": null,
      "metadata": {
        "colab": {
          "base_uri": "https://localhost:8080/",
          "height": 238
        },
        "id": "2UPQPpWiMW58",
        "outputId": "386a20eb-9c67-4223-bb00-f4750dc988ba"
      },
      "outputs": [
        {
          "data": {
            "text/html": [
              "<div>\n",
              "<style scoped>\n",
              "    .dataframe tbody tr th:only-of-type {\n",
              "        vertical-align: middle;\n",
              "    }\n",
              "\n",
              "    .dataframe tbody tr th {\n",
              "        vertical-align: top;\n",
              "    }\n",
              "\n",
              "    .dataframe thead th {\n",
              "        text-align: right;\n",
              "    }\n",
              "</style>\n",
              "<table border=\"1\" class=\"dataframe\">\n",
              "  <thead>\n",
              "    <tr style=\"text-align: right;\">\n",
              "      <th>good_year</th>\n",
              "      <th>2015.0</th>\n",
              "      <th>2016.0</th>\n",
              "      <th>2017.0</th>\n",
              "      <th>2018.0</th>\n",
              "      <th>2019.0</th>\n",
              "    </tr>\n",
              "    <tr>\n",
              "      <th>age_restriction</th>\n",
              "      <th></th>\n",
              "      <th></th>\n",
              "      <th></th>\n",
              "      <th></th>\n",
              "      <th></th>\n",
              "    </tr>\n",
              "  </thead>\n",
              "  <tbody>\n",
              "    <tr>\n",
              "      <th>«0+»</th>\n",
              "      <td>0.000</td>\n",
              "      <td>0.000</td>\n",
              "      <td>0.942</td>\n",
              "      <td>0.108</td>\n",
              "      <td>0.081</td>\n",
              "    </tr>\n",
              "    <tr>\n",
              "      <th>«12+»</th>\n",
              "      <td>0.000</td>\n",
              "      <td>0.002</td>\n",
              "      <td>0.008</td>\n",
              "      <td>0.041</td>\n",
              "      <td>0.007</td>\n",
              "    </tr>\n",
              "    <tr>\n",
              "      <th>«16+»</th>\n",
              "      <td>0.000</td>\n",
              "      <td>0.000</td>\n",
              "      <td>0.161</td>\n",
              "      <td>0.083</td>\n",
              "      <td>0.035</td>\n",
              "    </tr>\n",
              "    <tr>\n",
              "      <th>«18+»</th>\n",
              "      <td>0.002</td>\n",
              "      <td>0.001</td>\n",
              "      <td>0.068</td>\n",
              "      <td>0.046</td>\n",
              "      <td>0.074</td>\n",
              "    </tr>\n",
              "    <tr>\n",
              "      <th>«6+»</th>\n",
              "      <td>0.000</td>\n",
              "      <td>0.000</td>\n",
              "      <td>0.263</td>\n",
              "      <td>0.235</td>\n",
              "      <td>0.004</td>\n",
              "    </tr>\n",
              "  </tbody>\n",
              "</table>\n",
              "</div>"
            ],
            "text/plain": [
              "good_year        2015.0  2016.0  2017.0  2018.0  2019.0\n",
              "age_restriction                                        \n",
              "«0+»              0.000   0.000   0.942   0.108   0.081\n",
              "«12+»             0.000   0.002   0.008   0.041   0.007\n",
              "«16+»             0.000   0.000   0.161   0.083   0.035\n",
              "«18+»             0.002   0.001   0.068   0.046   0.074\n",
              "«6+»              0.000   0.000   0.263   0.235   0.004"
            ]
          },
          "execution_count": 38,
          "metadata": {},
          "output_type": "execute_result"
        }
      ],
      "source": [
        "#Минимум сборов для возрастного ограничения\n",
        "min_age_rating = data.pivot_table(index='age_restriction', columns='good_year', values='box_office', aggfunc=min)\n",
        "min_age_rating"
      ]
    },
    {
      "cell_type": "markdown",
      "metadata": {
        "id": "4Tb3_wAoNEV8"
      },
      "source": [
        "<b>Вывод:</b>\n",
        "\n",
        "- Интерес к фильмам 0+ нестабилен и колеблется от года к году, это может быть связано с выходом каких-либо знаковых фильмов в этой категории\n",
        "- 12 и 16+ крайне тесно переплетены и периодитчески забирают лидерство друг у друга, с чем это может быть связано комментировал выше\n",
        "- 6+ стабильно рос, но упал в последние 2 года выборки, опять же ссылаюсь на качество и количество фильмов в эти годы\n",
        "- 18+ вполне стабильно существует посередине"
      ]
    },
    {
      "cell_type": "code",
      "execution_count": null,
      "metadata": {
        "colab": {
          "base_uri": "https://localhost:8080/",
          "height": 269
        },
        "id": "cAFpOkt3I4HB",
        "outputId": "14b7ed5e-5ce0-435c-b147-9d19cd79922e"
      },
      "outputs": [
        {
          "data": {
            "text/html": [
              "<div>\n",
              "<style scoped>\n",
              "    .dataframe tbody tr th:only-of-type {\n",
              "        vertical-align: middle;\n",
              "    }\n",
              "\n",
              "    .dataframe tbody tr th {\n",
              "        vertical-align: top;\n",
              "    }\n",
              "\n",
              "    .dataframe thead tr th {\n",
              "        text-align: left;\n",
              "    }\n",
              "\n",
              "    .dataframe thead tr:last-of-type th {\n",
              "        text-align: right;\n",
              "    }\n",
              "</style>\n",
              "<table border=\"1\" class=\"dataframe\">\n",
              "  <thead>\n",
              "    <tr>\n",
              "      <th></th>\n",
              "      <th>mean</th>\n",
              "      <th>median</th>\n",
              "    </tr>\n",
              "    <tr>\n",
              "      <th></th>\n",
              "      <th>box_office</th>\n",
              "      <th>box_office</th>\n",
              "    </tr>\n",
              "    <tr>\n",
              "      <th>age_restriction</th>\n",
              "      <th></th>\n",
              "      <th></th>\n",
              "    </tr>\n",
              "  </thead>\n",
              "  <tbody>\n",
              "    <tr>\n",
              "      <th>«0+»</th>\n",
              "      <td>4.858863</td>\n",
              "      <td>0.079</td>\n",
              "    </tr>\n",
              "    <tr>\n",
              "      <th>«12+»</th>\n",
              "      <td>115.586082</td>\n",
              "      <td>0.711</td>\n",
              "    </tr>\n",
              "    <tr>\n",
              "      <th>«16+»</th>\n",
              "      <td>70.067398</td>\n",
              "      <td>1.745</td>\n",
              "    </tr>\n",
              "    <tr>\n",
              "      <th>«18+»</th>\n",
              "      <td>48.834913</td>\n",
              "      <td>5.108</td>\n",
              "    </tr>\n",
              "    <tr>\n",
              "      <th>«6+»</th>\n",
              "      <td>147.514687</td>\n",
              "      <td>5.861</td>\n",
              "    </tr>\n",
              "  </tbody>\n",
              "</table>\n",
              "</div>"
            ],
            "text/plain": [
              "                       mean     median\n",
              "                 box_office box_office\n",
              "age_restriction                       \n",
              "«0+»               4.858863      0.079\n",
              "«12+»            115.586082      0.711\n",
              "«16+»             70.067398      1.745\n",
              "«18+»             48.834913      5.108\n",
              "«6+»             147.514687      5.861"
            ]
          },
          "execution_count": 39,
          "metadata": {},
          "output_type": "execute_result"
        }
      ],
      "source": [
        "#Медианные и средние сборы возрастного рейтинга\n",
        "age_rating = data.pivot_table(index='age_restriction', values='box_office', aggfunc=['mean', 'median'])\n",
        "\n",
        "age_rating"
      ]
    },
    {
      "cell_type": "code",
      "execution_count": null,
      "metadata": {
        "colab": {
          "base_uri": "https://localhost:8080/",
          "height": 455
        },
        "id": "reXVHKAwIGUt",
        "outputId": "b5b632be-e278-4093-e004-a89a7be1aa32"
      },
      "outputs": [
        {
          "data": {
            "image/png": "[encoded data removed]",
            "text/plain": [
              "<Figure size 432x288 with 1 Axes>"
            ]
          },
          "metadata": {},
          "output_type": "display_data"
        }
      ],
      "source": [
        "#Визуализация\n",
        "data.pivot_table(index='age_restriction', values='box_office').boxplot();\n",
        "\n",
        "plt.ylabel('Кассовые сборы')\n",
        "plt.title('Диаграмма размаха возрастного рейтинга и сборов', color='black')\n",
        "\n",
        "plt.show()"
      ]
    },
    {
      "cell_type": "markdown",
      "metadata": {
        "id": "SI_V9ZxbQcl4"
      },
      "source": [
        "<div class = \"alert alert-info\" style=\"border-left: 7px solid blue\">\n",
        "<b>Вывод по исследованию среднего и медианы:</b>\n",
        "\n",
        "- Результаты в целом сопоставимы с предыдущими исследованими\n",
        "-- 6+ лидирует как по среднему, так и по значению медианы\n",
        "-- 0+ самые низкие значения\n",
        "- Нет аномальных выбросов на диаграмме размаха, норма находится в пределах среднего самой суммарно кассовой категории (16+)"
      ]
    },
    {
      "cell_type": "code",
      "execution_count": null,
      "metadata": {
        "id": "Ip8TQPTKrkcg",
        "outputId": "dda955ea-a2cc-4287-8c29-b6c18c64a0ab"
      },
      "outputs": [
        {
          "data": {
            "image/png": "[encoded data removed]",
            "text/plain": [
              "<Figure size 576x576 with 1 Axes>"
            ]
          },
          "metadata": {},
          "output_type": "display_data"
        }
      ],
      "source": [
        "temp = data.copy()\n",
        "#Для удобства укорощаю названия категорий\n",
        "def get_first_value(s, sep = ','):  #Функция для выбора первого элемента из перечисления\n",
        "    value_lst = s.split(sep=sep)\n",
        "    return value_lst[0]\n",
        "\n",
        "temp['age_restriction'] = temp['age_restriction'].apply(lambda x: get_first_value(x, sep='-'))\n",
        "#Сохраняю маску для среза по годам\n",
        "year_mask = temp['good_year'] >= 2015\n",
        "\n",
        "plt.figure(figsize=(8, 8))\n",
        "(sns.boxplot(data = temp.loc[year_mask], y = 'box_office', x='age_restriction', showfliers=False, showmeans=True)\n",
        "    .set(title = 'Кассовые сборы в зависимости от возрастной категории',\n",
        "         xlabel = 'Возрастные категории', ylabel = 'Кассовый сбор'))\n",
        "plt.text(0, 340,'Треугольник показывает среднее значение')\n",
        "plt.show()"
      ]
    },
    {
      "cell_type": "markdown",
      "metadata": {
        "id": "RkHB4bnGOEnU"
      },
      "source": [
        "<b>Вывод по исследовательскому анализу данных:</b>\n",
        "\n",
        "- Изучена осведомленность о выходе фильмов в прокат, осведомленность об этом увеличивается с каждым годом наблюдений\n",
        "- Фильмы различных возрастных категорий приносят разные доходы, так например 0+ является самой не прибыльной категорией кино, в то-же время 16/12+ являются лидерами по доходам, но по средним значениям их превосходит 6+."
      ]
    },
    {
      "cell_type": "markdown",
      "metadata": {
        "id": "PabfjWS5Yg0O"
      },
      "source": [
        "#Шаг 4. Исследование фильмов, которые получили государственную поддержку"
      ]
    },
    {
      "cell_type": "markdown",
      "metadata": {
        "id": "bL0fgOQ7am06"
      },
      "source": [
        "Проверю окупаемость и рейтинг фильмов с гос.поддержкой\n"
      ]
    },
    {
      "cell_type": "code",
      "execution_count": null,
      "metadata": {
        "colab": {
          "base_uri": "https://localhost:8080/"
        },
        "id": "XPv8Ynxpr3Pb",
        "outputId": "e19cd7ec-8932-45c3-bfd5-c9247758cbd1"
      },
      "outputs": [
        {
          "name": "stdout",
          "output_type": "stream",
          "text": [
            "Количество фильмов с гос.поддержкой: 286\n",
            "Успешность в прокате: False    221\n",
            "True      65\n",
            "Name: successful_films, dtype: int64\n",
            "Доля успешных фильмов с гос.поддержкой: 23.0%\n"
          ]
        }
      ],
      "source": [
        "#Создаю переменную-фильтр, которая не будет учитывать пропуски или нули\n",
        "filtered_finance = data[(data['good_budget'] > 0) & (data['box_office'].notna())\n",
        "                      & (data['box_office'] > 0) & (data['ratings'] > 1.5)]\n",
        "\n",
        "#Добавляю солбец с булевым значением \"успеха\" или \"провала\" картины\n",
        "data['successful_films'] = filtered_finance['box_office'] > filtered_finance['good_budget']\n",
        "\n",
        "#Создаю переменную с количеством True/False\n",
        "counts_successful_films = data['successful_films'].value_counts()\n",
        "\n",
        "#Нахожу долю успешных картин с гос.поддержкой\n",
        "success_ratio = (counts_successful_films[True] / (counts_successful_films[True] + counts_successful_films[False])).round(2)\n",
        "\n",
        "#Результаты\n",
        "print('Количество фильмов с гос.поддержкой:', data['successful_films'].count())\n",
        "print('Успешность в прокате:', counts_successful_films)\n",
        "print('Доля успешных фильмов с гос.поддержкой: {}%'.format(success_ratio * 100))"
      ]
    },
    {
      "cell_type": "code",
      "execution_count": null,
      "metadata": {
        "colab": {
          "base_uri": "https://localhost:8080/"
        },
        "id": "lBenPrxvDmtK",
        "outputId": "e678e420-f4e6-4004-9110-891b66629158"
      },
      "outputs": [
        {
          "name": "stdout",
          "output_type": "stream",
          "text": [
            "Процент средств возвращаемых государству: 19.0%\n"
          ]
        }
      ],
      "source": [
        "#Создаю переменную с суммой гос.поддержки\n",
        "total_support = (data['refundable_support'] + data['nonrefundable_support']).sum()\n",
        "#Создаю переменную для поиска процента возвратных средств\n",
        "refundable_percentage = (data['refundable_support'].sum() / total_support).round(2)\n",
        "\n",
        "print('Процент средств возвращаемых государству: {}%'.format(refundable_percentage * 100))"
      ]
    },
    {
      "cell_type": "code",
      "execution_count": null,
      "metadata": {
        "colab": {
          "base_uri": "https://localhost:8080/",
          "height": 693
        },
        "id": "HJlXkmVf84bS",
        "outputId": "c56ad561-bfcd-4230-f5f9-d152584f661b"
      },
      "outputs": [
        {
          "name": "stdout",
          "output_type": "stream",
          "text": [
            "box_office\n",
            "333.597     2305.074\n",
            "511.776     1032.906\n",
            "717.703      980.000\n",
            "54.243       779.942\n",
            "364.285      684.201\n",
            "1402.255     635.284\n",
            "2779.686     590.192\n",
            "2271.754     563.785\n",
            "544.332      528.442\n",
            "590.405      500.013\n",
            "Name: budget, dtype: float64\n"
          ]
        },
        {
          "data": {
            "image/png": "[encoded data removed]",
            "text/plain": [
              "<Figure size 432x288 with 1 Axes>"
            ]
          },
          "metadata": {},
          "output_type": "display_data"
        }
      ],
      "source": [
        "#Оценю как высокий бюджет влияет на успех картины в прокате\n",
        "budget_to_box_office = filtered_finance.groupby('box_office')['budget'].mean()\n",
        "\n",
        "#Выведу 10 наибольших значений бюджета\n",
        "print(budget_to_box_office.nlargest(10))\n",
        "\n",
        "#Визуализация\n",
        "plt.plot(budget_to_box_office.index, budget_to_box_office.values, 'orange')\n",
        "plt.xlabel('Размер бюджета')\n",
        "plt.ylabel('Кассовые сборы')\n",
        "plt.title('Зависимость кассовых сборов от бюджета', color='black')\n",
        "plt.show()"
      ]
    },
    {
      "cell_type": "code",
      "execution_count": null,
      "metadata": {
        "colab": {
          "base_uri": "https://localhost:8080/",
          "height": 478
        },
        "id": "b9K3WJ0yIPBV",
        "outputId": "453bdec1-2fc8-4cf2-cdaf-f675cd4a99e9",
        "scrolled": false
      },
      "outputs": [
        {
          "data": {
            "image/png": "[encoded data removed]",
            "text/plain": [
              "<Figure size 432x288 with 1 Axes>"
            ]
          },
          "metadata": {},
          "output_type": "display_data"
        }
      ],
      "source": [
        "#Построение графика зависимости бюджета и оценки\n",
        "plt.scatter(filtered_finance['good_budget'], filtered_finance['ratings'], edgecolor='green')\n",
        "\n",
        "plt.xlabel('Бюджет')\n",
        "plt.ylabel('Рейтинг')\n",
        "plt.title('Зависимость бюджета от оценки', color='black')\n",
        "\n",
        "plt.show()"
      ]
    },
    {
      "cell_type": "code",
      "execution_count": null,
      "metadata": {
        "colab": {
          "base_uri": "https://localhost:8080/",
          "height": 983
        },
        "id": "nEtD07NRFvqg",
        "outputId": "758e3d4d-c908-4517-9225-1b4f302e0086",
        "scrolled": false
      },
      "outputs": [
        {
          "name": "stdout",
          "output_type": "stream",
          "text": [
            "successful_films  False  True \n",
            "main_genre                    \n",
            "биография          6.60   7.50\n",
            "боевик             6.10   7.30\n",
            "военный            6.50   6.40\n",
            "детектив           6.80    NaN\n",
            "детский            7.30    NaN\n",
            "драма              6.40   6.80\n",
            "история            5.80   6.40\n",
            "комедия            5.55   5.85\n",
            "криминал           7.80    NaN\n",
            "мелодрама          6.20    NaN\n",
            "мультфильм         6.10   6.50\n",
            "мюзикл             6.60    NaN\n",
            "приключения        5.20   7.50\n",
            "реальное ТВ        5.60    NaN\n",
            "семейный           4.80   5.00\n",
            "спорт              6.30   7.25\n",
            "триллер            5.50   7.00\n",
            "ужасы              5.10   5.10\n",
            "фантастика         6.95   4.90\n",
            "фэнтези            6.95   4.60\n"
          ]
        },
        {
          "data": {
            "image/png": "[encoded data removed]",
            "text/plain": [
              "<Figure size 1296x504 with 1 Axes>"
            ]
          },
          "metadata": {},
          "output_type": "display_data"
        }
      ],
      "source": [
        "#Столбец-фильтр для рейтинга\n",
        "data['good_ratings'] = np.where(data['ratings'] >= 1.5, data['ratings'], np.nan)\n",
        "\n",
        "#Создаю таблицу для анализа жанров и рейтнга по ним\n",
        "genres_rating = data.pivot_table(index='main_genre', columns='successful_films', values='good_ratings', aggfunc='median')\n",
        "\n",
        "#Результат\n",
        "print(genres_rating)\n",
        "genres_rating.plot(kind='bar', figsize=(18, 7), edgecolor='green');\n",
        "\n",
        "plt.xlabel('Жанры', fontsize=20)\n",
        "plt.ylabel('Рейтинг', fontsize=20)\n",
        "plt.title('Зависимость рейтинга от жанра и успешности', color='black')\n",
        "\n",
        "plt.show()"
      ]
    },
    {
      "cell_type": "markdown",
      "metadata": {
        "id": "Uu7RuFZ2ATTC"
      },
      "source": [
        "<b>Вывод:</b>\n",
        "\n",
        "- Финансово успешным можно считать только каждый пятый фильм выпущенный с поддержкой государства, это является большой проблемой\n",
        "- Из предыдущих исследований следует, что бюджет таких фильмов более чем на 45% состоит из денег гос.поддержки, из которых только 19% возвращаются обратно\n",
        "- Зависимость бюджета от кассовых сборов небольшая, бывают некоторые картины \"стреляют\", что и создаёт 20% успеха, после порога в 800 фильмы перестают окупаться\n",
        "- Рейтинг фильмов от бюджета не особо зависит, имея средние значения, он колеблится от высокого до низкого от фильма к фильму в различном бюджетном диапазоне\n",
        "- Рейтинг что у провальных, что у успешных картин довольно средний, с некоторыми аномалиями или просадками по жанрам. Например успешные мультфильмы имеют всего 4,3 медианного рейтинга, в отличии от 7,3 провальных, такое могло случиться из-за походов в кинотеатры детьми в сопровождении взрослых, которые после сеансов делали кассу, но низко оценивали картины\n",
        "- Странным выглядит отсутствие жанровых успехов у фильмов на военную тематику и анимационных, а с детективами наоборот"
      ]
    },
    {
      "cell_type": "markdown",
      "metadata": {
        "id": "v2MHX3aB8GIU"
      },
      "source": [
        "<b>Выявление трендов:</b>\n",
        "\n",
        " В дальнейших исследованиях определю самые кассовые и популярные параметры для кино\n"
      ]
    },
    {
      "cell_type": "code",
      "execution_count": null,
      "metadata": {
        "colab": {
          "base_uri": "https://localhost:8080/",
          "height": 705
        },
        "id": "FWbKC5dDHBTO",
        "outputId": "463f202b-c85a-489a-c988-0d18cdbe07b8"
      },
      "outputs": [
        {
          "name": "stdout",
          "output_type": "stream",
          "text": [
            "Самые кассовые жанры кино: main_genre\n",
            "спорт          989.256000\n",
            "история        363.867000\n",
            "мультфильм     201.797280\n",
            "приключения    200.932667\n",
            "комедия        184.761000\n",
            "Name: box_office, dtype: float64\n"
          ]
        },
        {
          "data": {
            "image/png": "[encoded data removed]",
            "text/plain": [
              "<Figure size 1296x504 with 1 Axes>"
            ]
          },
          "metadata": {},
          "output_type": "display_data"
        }
      ],
      "source": [
        "#Группирую выручку по жанрам\n",
        "world_genre_box = filtered_finance.groupby('main_genre')['box_office'].mean()\n",
        "\n",
        "#Вывод жанров\n",
        "print('Самые кассовые жанры кино:', world_genre_box.nlargest(5))\n",
        "\n",
        "#Таблица для визуализации результата\n",
        "world_genre_box.plot(kind='bar', figsize=(18, 7), edgecolor='green', title='Распределение рейтингов по жанровой выручке');\n",
        "\n",
        "plt.xlabel('Жанры', fontsize=20)\n",
        "plt.ylabel('Выручка', fontsize=20)\n",
        "plt.title('Выручка от жанров фильмов', color='black')\n",
        "\n",
        "plt.show();"
      ]
    },
    {
      "cell_type": "markdown",
      "metadata": {
        "id": "B98l7YU0Q7wR"
      },
      "source": [
        "- Спортивные фильмы являются абсолютным лидером по выручке в прокате, возможно из-за вдохновения на свершения и преодоление себя и своих барьеров, а также зачастую кульминационной воодушевляющей победы. Люди к такому тянутся\n",
        "\n",
        "- Популярность исторических фильмов можно объяснить лишь тем, что жизнь придумывает лучшие сценарии\n",
        "\n",
        "- Мультфильмы в топ 3 по выручке, это нормально, чем занять ребёнка, как не походом в кино (теория)"
      ]
    },
    {
      "cell_type": "code",
      "execution_count": null,
      "metadata": {
        "colab": {
          "base_uri": "https://localhost:8080/",
          "height": 647
        },
        "id": "q1cQxusZNBJx",
        "outputId": "4638161e-a0b1-40ac-c07c-468c39f8907d"
      },
      "outputs": [
        {
          "name": "stdout",
          "output_type": "stream",
          "text": [
            "Самый кассовый рейтинг: ratings\n",
            "7.5    746.443833\n",
            "6.8    616.750600\n",
            "7.6    492.395000\n",
            "8.2    408.647000\n",
            "6.5    380.614800\n",
            "Name: box_office, dtype: float64\n"
          ]
        },
        {
          "data": {
            "image/png": "[encoded data removed]",
            "text/plain": [
              "<Figure size 1296x504 with 1 Axes>"
            ]
          },
          "metadata": {},
          "output_type": "display_data"
        }
      ],
      "source": [
        "#Выясню влияет ли рейтинг на выручку\n",
        "world_ratings_box = filtered_finance.groupby('ratings')['box_office'].mean()\n",
        "\n",
        "#Вывод рейтинга\n",
        "print('Самый кассовый рейтинг:', world_ratings_box.nlargest(5))\n",
        "\n",
        "#Таблица для визуализации результата\n",
        "world_ratings_box.plot(kind='bar', figsize=(18, 7), edgecolor='green', title='Распределение выручки по рейтингу');\n",
        "\n",
        "plt.xlabel('Рейтинг', fontsize=18)\n",
        "plt.ylabel('Выручка', fontsize=18)\n",
        "plt.title('Выручка от рейтинга фильмов', color='black')\n",
        "\n",
        "plt.show();"
      ]
    },
    {
      "cell_type": "markdown",
      "metadata": {
        "id": "2XGswZrUSxzl"
      },
      "source": [
        "- Самый кассовый рейтинг 7.5, это нормально, большинство фильмов в этом диапазоне и существуют\n",
        "\n",
        "- Заметен постепенный рост выручки с рейтингом фильма"
      ]
    },
    {
      "cell_type": "code",
      "execution_count": null,
      "metadata": {
        "colab": {
          "base_uri": "https://localhost:8080/",
          "height": 605
        },
        "id": "KcoC74SxPH6a",
        "outputId": "dbf6cb06-938e-4e18-c0e1-4ae7b2dc2e8b",
        "scrolled": false
      },
      "outputs": [
        {
          "name": "stdout",
          "output_type": "stream",
          "text": [
            "Самые кассовые месяцы проката: show_start_date\n",
            "12    475.380645\n",
            "3     196.463667\n",
            "10    191.733710\n",
            "2     124.289000\n",
            "1     105.763000\n",
            "Name: box_office, dtype: float64\n"
          ]
        },
        {
          "data": {
            "image/png": "[encoded data removed]",
            "text/plain": [
              "<Figure size 432x288 with 1 Axes>"
            ]
          },
          "metadata": {},
          "output_type": "display_data"
        }
      ],
      "source": [
        "#Выясню влияет ли выручка на месяц релиза\n",
        "rental_season = filtered_finance.groupby(filtered_finance['show_start_date'].dt.month)['box_office'].mean()\n",
        "\n",
        "#Вывод рейтинга\n",
        "print('Самые кассовые месяцы проката:', rental_season.nlargest(5))\n",
        "\n",
        "# построение графика зависимости между месяцем и суммой доходов\n",
        "plt.plot(rental_season)\n",
        "\n",
        "plt.xlabel('Месяц', fontsize=15)\n",
        "plt.ylabel('Выручка', fontsize=15)\n",
        "plt.title('Выручка от месяца выхода фильмов', color='black')\n",
        "\n",
        "plt.show();"
      ]
    },
    {
      "cell_type": "markdown",
      "metadata": {
        "id": "a3pzbuKQTSBE"
      },
      "source": [
        "- Ожидаемое первое место от декабря, с его громкими премьерами и предновогодней атмосферой, так и распологающей хорошо провести досуг  \n",
        "- Выручка в холодное время года растёт, а в пору тепла и активного отдыха проседает, это вполне сопастовимо с реальностью"
      ]
    },
    {
      "cell_type": "markdown",
      "metadata": {
        "id": "6dySQXOpVBvU"
      },
      "source": [
        "<b>Выявление выгодных компонентов для России:</b>"
      ]
    },
    {
      "cell_type": "code",
      "execution_count": null,
      "metadata": {
        "colab": {
          "base_uri": "https://localhost:8080/"
        },
        "id": "mL2X6AUXVURQ",
        "outputId": "62b1b4d8-caff-409b-d550-9f071eeab23a"
      },
      "outputs": [
        {
          "name": "stdout",
          "output_type": "stream",
          "text": [
            "Самый кассовый режиссёр: chief_director\n",
            "О.Трофим        1445.7320\n",
            "А.Мегердичев    1389.8465\n",
            "И.Куликов       1361.1930\n",
            "А.Сидоров       1135.8770\n",
            "Д.Козловский     820.5280\n",
            "Name: box_office, dtype: float64\n"
          ]
        }
      ],
      "source": [
        "#Создаю столбец-фильтр\n",
        "data['main_country'] = data['production_country'].apply(lambda x: x.split(',')[0])\n",
        "\n",
        "#Переменная-фильтр\n",
        "russia_data = data[data['main_country'] == \"Россия\"]\n",
        "\n",
        "#Группировка режиссёров по выручке\n",
        "russia_director_box = russia_data.groupby(russia_data['chief_director'])['box_office'].mean()\n",
        "\n",
        "#Вывод рейтинга\n",
        "print('Самый кассовый режиссёр:', russia_director_box.nlargest(5))\n",
        "\n",
        "#Таблицы для визуализации не будет, данных много, создавать доп.фильтры для вывода таблицы нет смысла"
      ]
    },
    {
      "cell_type": "code",
      "execution_count": null,
      "metadata": {
        "colab": {
          "base_uri": "https://localhost:8080/"
        },
        "id": "RuimBuzGZ6gt",
        "outputId": "1e9af7ad-8184-460e-faea-ce6f73f96999"
      },
      "outputs": [
        {
          "name": "stdout",
          "output_type": "stream",
          "text": [
            "Самая кассовая студия: film_studio\n",
            "ООО \"МЕМ-МЕДИА\" по заказу АО \"ВБД Груп\"                                                         3073.5690\n",
            "ООО \"Кинокомпания МАРС-фильм\" по заказу ООО \"ММЕ\", ООО \"Амедиа Продакшн\" и АО \"Телекомпания\"    2271.7540\n",
            "ООО \"Студия \"ТРИТЭ\" Никиты Михалкова\"                                                           2090.9705\n",
            "ООО \"ЛЕГИО ФЕЛИКС\", ООО \"Ника ТВ\"                                                               1682.6800\n",
            "ООО \"Киностудия \"Слово\" по заказу ООО \"Уолт Дисней Компании СНГ\", АО \"ВБД Груп\"                 1655.0380\n",
            "Name: box_office, dtype: float64\n"
          ]
        }
      ],
      "source": [
        "#Группировка студий по выручке\n",
        "russia_studio_box = russia_data.groupby(russia_data['film_studio'])['box_office'].mean()\n",
        "\n",
        "#Вывод рейтинга\n",
        "print('Самая кассовая студия:', russia_studio_box.nlargest(5))"
      ]
    },
    {
      "cell_type": "markdown",
      "metadata": {
        "id": "FruMb4sadI43"
      },
      "source": [
        "<b>Вывод по анализу фильмов с гос.поддержкой:</b>\n",
        "\n",
        "- Изучил успешность фильмов с гос.поддержкой\n",
        "-- Каждый пятый фильм окупается\n",
        "-- Финансы выделенные на проект государством  практически никогда не возвращаются\n",
        "-- У фильмов неплохие рейтинги, но на прибыльности они не сказываются\n",
        "- Выявил тренды оказывающие наибольшее влияние на успешность картин в прокате\n",
        "- Исследовал в реалиях российского проката самые кассовые студии и режиссёров"
      ]
    },
    {
      "cell_type": "markdown",
      "metadata": {
        "id": "QCHdreS2avo8"
      },
      "source": [
        "#Шаг 5. Общий вывод\n",
        "\n",
        "- Работа проведена с данными, опубликованными на портале открытых данных Минестерства культуры\n",
        "- Объединил датафреймы с информацией о фильмах и прокатных заработках\n",
        "- Где это необходимо удалил или заменил дубликаты\\пропуски\n",
        "- Изменил тип столбцов для удобной работы и восприятия\n",
        "- Устранил аномалии в данных  \n",
        "- Создал новые столбцы с данными\n",
        "\n",
        "- В ходе выполненеия прокетной работы изучил рынок российского кинопроката и выявил следующее:\n",
        "-- Доля гос.поддержки в среднем состовляет почти половину от бюджета, при окупаемости таких картин в 22%, это крайне невыгодно, плюс доля невозвратных средств около 80%.\n",
        "-- Увеличение бюджета не приводит к окупаемости, по имеющимся данным видно, что в сегменте бюджета ниже среднего сосредоточен весь \"успех\" фильмов с гос.поддержкой\n",
        "-- Наиболее кассовыми являются фильмы 12 и 16+ категорий, из-за их доступности и уместности для людей любого возраста\n",
        "-- Доля осведомлённости о фильмах, прокат которых идёт в кинотеатрах ежегодно увеличивается, так-же увеличиваются и доходы от проката\n",
        "-- Рейтинг гос.кино чуть выше среднего, и не влияет на окупаемость фильма\n",
        "\n",
        "- Проведя анализ закономерностей приводящих к финансовым успехам фильмов, выделил параметры для наибольшей вероятности заработка в прокате:\n",
        "-- Стоит уделить внимание месяцу проката, желательно выпускить фильмы в конце года, стараясь избегать тёплых месяцев\n",
        "-- Жанр фильма стоит выбирать в категориях: спортивный, исторический, приключения или мультфильм, а лучше объеденить. Мелодрамы или мюзиклы приносят меньше всего выручки в прокате\n",
        "-- Возрастной рейтинг 12,16+\n",
        "-- Лучший по доходности рейтинг возле крепких 7.5 из 10\n",
        "-- Есть режиссёры и киностудии приносящие в среднем лучшие доходы, стоит брать их во внимаие (Чуть выше перечень)\n",
        "\n",
        "\n",
        "\n",
        "\n",
        "\n"
      ]
    }
  ],
  "metadata": {
    "ExecuteTimeLog": [
      {
        "duration": 728,
        "start_time": "2023-11-08T12:03:03.872Z"
      },
      {
        "duration": 153,
        "start_time": "2023-11-08T12:03:04.602Z"
      },
      {
        "duration": 15,
        "start_time": "2023-11-08T12:03:04.757Z"
      },
      {
        "duration": 24,
        "start_time": "2023-11-08T12:03:04.774Z"
      },
      {
        "duration": 21,
        "start_time": "2023-11-08T12:03:04.801Z"
      },
      {
        "duration": 27,
        "start_time": "2023-11-08T12:03:04.823Z"
      },
      {
        "duration": 11,
        "start_time": "2023-11-08T12:03:04.853Z"
      },
      {
        "duration": 25,
        "start_time": "2023-11-08T12:03:04.866Z"
      },
      {
        "duration": 13,
        "start_time": "2023-11-08T12:03:04.893Z"
      },
      {
        "duration": 19,
        "start_time": "2023-11-08T12:03:04.907Z"
      },
      {
        "duration": 14,
        "start_time": "2023-11-08T12:03:04.947Z"
      },
      {
        "duration": 24,
        "start_time": "2023-11-08T12:03:04.963Z"
      },
      {
        "duration": 63,
        "start_time": "2023-11-08T12:03:04.989Z"
      },
      {
        "duration": 7,
        "start_time": "2023-11-08T12:03:05.055Z"
      },
      {
        "duration": 16,
        "start_time": "2023-11-08T12:03:05.064Z"
      },
      {
        "duration": 74,
        "start_time": "2023-11-08T12:03:05.082Z"
      },
      {
        "duration": 6,
        "start_time": "2023-11-08T12:03:05.159Z"
      },
      {
        "duration": 31,
        "start_time": "2023-11-08T12:03:05.167Z"
      },
      {
        "duration": 15,
        "start_time": "2023-11-08T12:03:05.200Z"
      },
      {
        "duration": 15,
        "start_time": "2023-11-08T12:03:05.217Z"
      },
      {
        "duration": 18,
        "start_time": "2023-11-08T12:03:05.234Z"
      },
      {
        "duration": 222,
        "start_time": "2023-11-08T12:03:05.254Z"
      },
      {
        "duration": 0,
        "start_time": "2023-11-08T12:03:05.478Z"
      },
      {
        "duration": 0,
        "start_time": "2023-11-08T12:03:05.479Z"
      },
      {
        "duration": 0,
        "start_time": "2023-11-08T12:03:05.480Z"
      },
      {
        "duration": 0,
        "start_time": "2023-11-08T12:03:05.481Z"
      },
      {
        "duration": 0,
        "start_time": "2023-11-08T12:03:05.483Z"
      },
      {
        "duration": 0,
        "start_time": "2023-11-08T12:03:05.484Z"
      },
      {
        "duration": 0,
        "start_time": "2023-11-08T12:03:05.485Z"
      },
      {
        "duration": 0,
        "start_time": "2023-11-08T12:03:05.486Z"
      },
      {
        "duration": 0,
        "start_time": "2023-11-08T12:03:05.487Z"
      },
      {
        "duration": 0,
        "start_time": "2023-11-08T12:03:05.488Z"
      },
      {
        "duration": 0,
        "start_time": "2023-11-08T12:03:05.489Z"
      },
      {
        "duration": 0,
        "start_time": "2023-11-08T12:03:05.491Z"
      },
      {
        "duration": 0,
        "start_time": "2023-11-08T12:03:05.491Z"
      },
      {
        "duration": 0,
        "start_time": "2023-11-08T12:03:05.493Z"
      },
      {
        "duration": 0,
        "start_time": "2023-11-08T12:03:05.494Z"
      },
      {
        "duration": 0,
        "start_time": "2023-11-08T12:03:05.495Z"
      },
      {
        "duration": 1,
        "start_time": "2023-11-08T12:03:05.495Z"
      },
      {
        "duration": 7,
        "start_time": "2023-11-08T12:37:17.027Z"
      },
      {
        "duration": 703,
        "start_time": "2023-11-15T14:20:10.272Z"
      },
      {
        "duration": 149,
        "start_time": "2023-11-15T14:20:10.977Z"
      },
      {
        "duration": 26,
        "start_time": "2023-11-15T14:20:11.128Z"
      },
      {
        "duration": 15,
        "start_time": "2023-11-15T14:20:11.156Z"
      },
      {
        "duration": 34,
        "start_time": "2023-11-15T14:20:11.172Z"
      },
      {
        "duration": 16,
        "start_time": "2023-11-15T14:20:11.207Z"
      },
      {
        "duration": 11,
        "start_time": "2023-11-15T14:20:11.225Z"
      },
      {
        "duration": 20,
        "start_time": "2023-11-15T14:20:11.237Z"
      },
      {
        "duration": 19,
        "start_time": "2023-11-15T14:20:11.259Z"
      },
      {
        "duration": 19,
        "start_time": "2023-11-15T14:20:11.281Z"
      },
      {
        "duration": 9,
        "start_time": "2023-11-15T14:20:11.302Z"
      },
      {
        "duration": 16,
        "start_time": "2023-11-15T14:20:11.313Z"
      },
      {
        "duration": 8,
        "start_time": "2023-11-15T14:20:11.330Z"
      },
      {
        "duration": 22,
        "start_time": "2023-11-15T14:20:11.339Z"
      },
      {
        "duration": 20,
        "start_time": "2023-11-15T14:20:11.363Z"
      },
      {
        "duration": 33,
        "start_time": "2023-11-15T14:20:11.385Z"
      },
      {
        "duration": 5,
        "start_time": "2023-11-15T14:20:11.420Z"
      },
      {
        "duration": 44,
        "start_time": "2023-11-15T14:20:11.427Z"
      },
      {
        "duration": 18,
        "start_time": "2023-11-15T14:20:11.473Z"
      },
      {
        "duration": 27,
        "start_time": "2023-11-15T14:20:11.493Z"
      },
      {
        "duration": 3,
        "start_time": "2023-11-15T14:20:11.522Z"
      },
      {
        "duration": 19,
        "start_time": "2023-11-15T14:20:11.527Z"
      },
      {
        "duration": 35,
        "start_time": "2023-11-15T14:20:11.556Z"
      },
      {
        "duration": 9,
        "start_time": "2023-11-15T14:20:11.593Z"
      },
      {
        "duration": 25,
        "start_time": "2023-11-15T14:20:11.604Z"
      },
      {
        "duration": 28,
        "start_time": "2023-11-15T14:20:11.630Z"
      },
      {
        "duration": 9,
        "start_time": "2023-11-15T14:20:11.660Z"
      },
      {
        "duration": 18,
        "start_time": "2023-11-15T14:20:11.672Z"
      },
      {
        "duration": 16,
        "start_time": "2023-11-15T14:20:11.692Z"
      },
      {
        "duration": 205,
        "start_time": "2023-11-15T14:20:11.709Z"
      },
      {
        "duration": 18,
        "start_time": "2023-11-15T14:20:11.916Z"
      },
      {
        "duration": 22,
        "start_time": "2023-11-15T14:20:11.936Z"
      },
      {
        "duration": 24,
        "start_time": "2023-11-15T14:20:11.961Z"
      },
      {
        "duration": 174,
        "start_time": "2023-11-15T14:20:11.987Z"
      },
      {
        "duration": 4,
        "start_time": "2023-11-15T14:20:12.162Z"
      },
      {
        "duration": 286,
        "start_time": "2023-11-15T14:20:12.168Z"
      },
      {
        "duration": 21,
        "start_time": "2023-11-15T14:20:12.455Z"
      },
      {
        "duration": 21,
        "start_time": "2023-11-15T14:20:12.478Z"
      },
      {
        "duration": 22,
        "start_time": "2023-11-15T14:20:12.501Z"
      },
      {
        "duration": 149,
        "start_time": "2023-11-15T14:20:12.525Z"
      },
      {
        "duration": 15,
        "start_time": "2023-11-15T14:20:12.676Z"
      },
      {
        "duration": 8,
        "start_time": "2023-11-15T14:20:12.692Z"
      },
      {
        "duration": 213,
        "start_time": "2023-11-15T14:20:12.702Z"
      },
      {
        "duration": 142,
        "start_time": "2023-11-15T14:20:12.917Z"
      },
      {
        "duration": 370,
        "start_time": "2023-11-15T14:20:13.061Z"
      },
      {
        "duration": 285,
        "start_time": "2023-11-15T14:20:13.433Z"
      },
      {
        "duration": 822,
        "start_time": "2023-11-15T14:20:13.719Z"
      },
      {
        "duration": 133,
        "start_time": "2023-11-15T14:20:14.543Z"
      },
      {
        "duration": 14,
        "start_time": "2023-11-15T14:20:14.678Z"
      },
      {
        "duration": 12,
        "start_time": "2023-11-15T14:20:14.693Z"
      },
      {
        "duration": 683,
        "start_time": "2023-11-15T14:27:41.574Z"
      },
      {
        "duration": 212,
        "start_time": "2023-11-15T14:27:58.112Z"
      },
      {
        "duration": 190,
        "start_time": "2023-11-15T14:28:14.328Z"
      }
    ],
    "colab": {
      "provenance": [],
      "include_colab_link": true
    },
    "kernelspec": {
      "display_name": "Python 3 (ipykernel)",
      "language": "python",
      "name": "python3"
    },
    "language_info": {
      "codemirror_mode": {
        "name": "ipython",
        "version": 3
      },
      "file_extension": ".py",
      "mimetype": "text/x-python",
      "name": "python",
      "nbconvert_exporter": "python",
      "pygments_lexer": "ipython3",
      "version": "3.9.5"
    },
    "toc": {
      "base_numbering": 1,
      "nav_menu": {},
      "number_sections": true,
      "sideBar": true,
      "skip_h1_title": true,
      "title_cell": "Table of Contents",
      "title_sidebar": "Contents",
      "toc_cell": false,
      "toc_position": {},
      "toc_section_display": true,
      "toc_window_display": false
    }
  },
  "nbformat": 4,
  "nbformat_minor": 0
}