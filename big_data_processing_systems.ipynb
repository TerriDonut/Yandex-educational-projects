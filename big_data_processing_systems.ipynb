{
  "cells": [
    {
      "cell_type": "markdown",
      "metadata": {
        "id": "view-in-github",
        "colab_type": "text"
      },
      "source": [
        "<a href=\"https://colab.research.google.com/github/TerriDonut/Yandex-educational-projects/blob/main/big_data_processing_systems.ipynb\" target=\"_parent\"><img src=\"https://colab.research.google.com/assets/colab-badge.svg\" alt=\"Open In Colab\"/></a>"
      ]
    },
    {
      "cell_type": "markdown",
      "metadata": {
        "id": "lyXVedLYO1Gc"
      },
      "source": [
        "____    \n",
        "    \n",
        "**Проект: Системы обработки больших данных**\n",
        "_____\n",
        "**Описание и цель проекта**\n",
        "\n",
        "В проекте нужно обучить модель линейной регрессии на данных о жилье в Калифорнии в 1990 году.\n",
        "______\n",
        "\n",
        "**Исходные данные.**\n",
        "\n",
        "В колонках датасета содержатся следующие данные:\n",
        "\n",
        "- longitude — широта;\n",
        "- latitude — долгота;\n",
        "- housing_median_age — медианный возраст жителей жилого массива;\n",
        "- total_rooms — общее количество комнат в домах жилого массива;\n",
        "- total_bedrooms — общее количество спален в домах жилого массива;\n",
        "- population — количество человек, которые проживают в жилом массиве;\n",
        "- households — количество домовладений в жилом массиве;\n",
        "- median_income — медианный доход жителей жилого массива;\n",
        "- median_house_value — медианная стоимость дома в жилом массиве;\n",
        "- ocean_proximity — близость к океану.\n",
        "____\n",
        "\n",
        "**Задачи проекта.**\n",
        "\n",
        "На основе данных нужно предсказать медианную стоимость дома в жилом массиве — median_house_value. Обучить модель и сделать предсказания на тестовой выборке. Для оценки качества модели использовать метрики RMSE, MAE и R2.\n",
        "____\n",
        "\n",
        "**Содержание проекта.**\n",
        "\n",
        "***Инициализация локальной Spark-сессии:***\n",
        "\n",
        "***Чтение содержимого файла:***\n",
        "\n",
        "***Вывод типов данных колонок датасета. Используя методы pySpark***\n",
        "\n",
        "***Предобработка данных***\n",
        "* [Исследование данных на наличие пропусков и заполнение их](#1-bullet)\n",
        "* [Преобразование колонок с категориальными значениями техникой One hot encoding](#2-bullet)\n",
        "\n",
        "***Построение двух моделей линейной регрессии на разных наборах данных***\n",
        "* [Используя все данные из файла](#3-bullet)\n",
        "* [Используя только числовые переменные, исключив категориальные](#4-bullet)\n",
        "\n",
        "***Сравнение результатов работы линейной регрессии на двух наборах данных по метрикам RMSE, MAE и R2***\n",
        "\n",
        "***Общий вывод***\n"
      ]
    },
    {
      "cell_type": "markdown",
      "metadata": {
        "id": "-dbj5I-NWUgE"
      },
      "source": [
        "## Инициализация локальной Spark-сессии"
      ]
    },
    {
      "cell_type": "code",
      "execution_count": null,
      "metadata": {
        "id": "oDiWdqqxMFqI"
      },
      "outputs": [],
      "source": [
        "import sys\n",
        "!\"{sys.executable}\" -m pip install pyspark -q"
      ]
    },
    {
      "cell_type": "code",
      "execution_count": null,
      "metadata": {
        "id": "enCosS6aIbPE"
      },
      "outputs": [],
      "source": [
        "import pandas as pd\n",
        "import numpy as np\n",
        "\n",
        "from pyspark.ml.regression import LinearRegression\n",
        "\n",
        "import pyspark\n",
        "from pyspark.sql import SparkSession\n",
        "from pyspark.sql.types import *\n",
        "import pyspark.sql.functions as F\n",
        "\n",
        "from pyspark.ml import Pipeline\n",
        "from pyspark.ml.feature import StringIndexer, VectorAssembler, StandardScaler, OneHotEncoder\n",
        "from pyspark.ml.classification import LogisticRegression\n",
        "from pyspark.ml.evaluation import BinaryClassificationEvaluator, MulticlassClassificationEvaluator, RegressionEvaluator\n",
        "\n",
        "from warnings import simplefilter"
      ]
    },
    {
      "cell_type": "code",
      "execution_count": null,
      "metadata": {
        "id": "_LlmppjoM1jR"
      },
      "outputs": [],
      "source": [
        "simplefilter(action='ignore', category=FutureWarning)\n",
        "\n",
        "\n",
        "spark = SparkSession \\\n",
        "    .builder \\\n",
        "    .master('local')\\\n",
        "    .appName('Housing - LinearRegression') \\\n",
        "    .getOrCreate()"
      ]
    },
    {
      "cell_type": "markdown",
      "metadata": {
        "id": "tnU-f2gHeYoq"
      },
      "source": [
        "## Чтение содержимого файла"
      ]
    },
    {
      "cell_type": "code",
      "execution_count": null,
      "metadata": {
        "id": "96ZedbjDNYGt"
      },
      "outputs": [],
      "source": [
        "try:\n",
        "    df = spark.read.option('header', 'true').csv('/datasets/housing.csv', inferSchema = True)\n",
        "except:\n",
        "    df = spark.read.option('header', 'true').csv('/content/housing.csv', inferSchema = True)"
      ]
    },
    {
      "cell_type": "markdown",
      "metadata": {
        "id": "Tu28esQ_mavo"
      },
      "source": [
        "## Вывод типов данных колонок датасета. Используя методы pySpark"
      ]
    },
    {
      "cell_type": "code",
      "execution_count": null,
      "metadata": {
        "colab": {
          "base_uri": "https://localhost:8080/"
        },
        "id": "04odaB1WRbqg",
        "outputId": "3da7abd6-161b-48c4-ea95-af22c7c2ef9d",
        "scrolled": true
      },
      "outputs": [
        {
          "name": "stdout",
          "output_type": "stream",
          "text": [
            "root\n",
            " |-- longitude: double (nullable = true)\n",
            " |-- latitude: double (nullable = true)\n",
            " |-- housing_median_age: double (nullable = true)\n",
            " |-- total_rooms: double (nullable = true)\n",
            " |-- total_bedrooms: double (nullable = true)\n",
            " |-- population: double (nullable = true)\n",
            " |-- households: double (nullable = true)\n",
            " |-- median_income: double (nullable = true)\n",
            " |-- median_house_value: double (nullable = true)\n",
            " |-- ocean_proximity: string (nullable = true)\n",
            "\n",
            "+---------+--------+------------------+-----------+--------------+----------+----------+-------------+------------------+---------------+\n",
            "|longitude|latitude|housing_median_age|total_rooms|total_bedrooms|population|households|median_income|median_house_value|ocean_proximity|\n",
            "+---------+--------+------------------+-----------+--------------+----------+----------+-------------+------------------+---------------+\n",
            "|  -122.23|   37.88|              41.0|      880.0|         129.0|     322.0|     126.0|       8.3252|          452600.0|       NEAR BAY|\n",
            "|  -122.22|   37.86|              21.0|     7099.0|        1106.0|    2401.0|    1138.0|       8.3014|          358500.0|       NEAR BAY|\n",
            "|  -122.24|   37.85|              52.0|     1467.0|         190.0|     496.0|     177.0|       7.2574|          352100.0|       NEAR BAY|\n",
            "|  -122.25|   37.85|              52.0|     1274.0|         235.0|     558.0|     219.0|       5.6431|          341300.0|       NEAR BAY|\n",
            "|  -122.25|   37.85|              52.0|     1627.0|         280.0|     565.0|     259.0|       3.8462|          342200.0|       NEAR BAY|\n",
            "+---------+--------+------------------+-----------+--------------+----------+----------+-------------+------------------+---------------+\n",
            "only showing top 5 rows\n",
            "\n"
          ]
        }
      ],
      "source": [
        "df.printSchema()\n",
        "df.show(5)"
      ]
    },
    {
      "cell_type": "markdown",
      "metadata": {
        "id": "VTY59FnLCRp5"
      },
      "source": [
        "## Предобработка данных"
      ]
    },
    {
      "cell_type": "markdown",
      "metadata": {
        "id": "DOggElFFiwXf"
      },
      "source": [
        "### Исследование данных на наличие пропусков и заполнение их\n",
        "<a id='1-bullet'></a>"
      ]
    },
    {
      "cell_type": "code",
      "execution_count": null,
      "metadata": {
        "colab": {
          "base_uri": "https://localhost:8080/"
        },
        "id": "luwFUOPL2JCY",
        "outputId": "8a255ab7-f44f-40a4-9bd0-6e39df673ae1"
      },
      "outputs": [
        {
          "name": "stdout",
          "output_type": "stream",
          "text": [
            "Кол-во пропущенных значений в longitude: 0\n",
            "Кол-во пропущенных значений в latitude: 0\n",
            "Кол-во пропущенных значений в housing_median_age: 0\n",
            "Кол-во пропущенных значений в total_rooms: 0\n",
            "Кол-во пропущенных значений в total_bedrooms: 207\n",
            "Кол-во пропущенных значений в population: 0\n",
            "Кол-во пропущенных значений в households: 0\n",
            "Кол-во пропущенных значений в median_income: 0\n",
            "Кол-во пропущенных значений в median_house_value: 0\n",
            "Кол-во пропущенных значений в ocean_proximity: 0\n"
          ]
        }
      ],
      "source": [
        "for column in df.columns:\n",
        "    miss_val_count = df.where(F.col(column).isNull()).count()\n",
        "    print(f'Кол-во пропущенных значений в {column}: {miss_val_count}')"
      ]
    },
    {
      "cell_type": "markdown",
      "metadata": {
        "id": "b6KlGzCN7D94"
      },
      "source": [
        "<b>Комментарий к пропускам</b>\n",
        "\n",
        "Пропуски замечены только в количестве спальных комнат. Речь в данных идёт о жилых массивах, поэтому сослаться на пропуск в случае студии невозможно (мало вероятно что весь жилой массив состоит только из квартир данного типа)\n",
        "\n",
        "Заполню пропуски медианой"
      ]
    },
    {
      "cell_type": "code",
      "execution_count": null,
      "metadata": {
        "colab": {
          "base_uri": "https://localhost:8080/"
        },
        "id": "j1DdyqcU9MHO",
        "outputId": "8fb7dae9-4452-441a-cf00-7d13f01e9582"
      },
      "outputs": [
        {
          "name": "stdout",
          "output_type": "stream",
          "text": [
            "Кол-во пропусков в total_bedrooms:  0\n"
          ]
        }
      ],
      "source": [
        "median_total_bedrooms = df.approxQuantile('total_bedrooms', [0.5], 0)[0]\n",
        "\n",
        "df = df.fillna({'total_bedrooms': median_total_bedrooms})\n",
        "print('Кол-во пропусков в total_bedrooms: ', df.where(df['total_bedrooms'].isNull()).count())\n"
      ]
    },
    {
      "cell_type": "markdown",
      "metadata": {
        "id": "2URnqYU6AjGK"
      },
      "source": [
        "### Преобразование колонок с категориальными значениями техникой One hot encoding\n",
        "<a id='2-bullet'></a>"
      ]
    },
    {
      "cell_type": "code",
      "execution_count": null,
      "metadata": {
        "colab": {
          "base_uri": "https://localhost:8080/"
        },
        "id": "aDZTgyWqp8YG",
        "outputId": "43261d2c-ebc2-4f08-d668-33d9605b0adf",
        "scrolled": false
      },
      "outputs": [
        {
          "name": "stdout",
          "output_type": "stream",
          "text": [
            "+---------+--------+------------------+-----------+--------------+----------+----------+-------------+------------------+---------------+-----------+-------------+--------------------+--------------------+-------------------------+\n",
            "|longitude|latitude|housing_median_age|total_rooms|total_bedrooms|population|households|median_income|median_house_value|ocean_proximity|ocean_index|     ocean_oh|categorical_features|  numerical_features|numerical_features_scaled|\n",
            "+---------+--------+------------------+-----------+--------------+----------+----------+-------------+------------------+---------------+-----------+-------------+--------------------+--------------------+-------------------------+\n",
            "|  -124.35|   40.54|              52.0|     1820.0|         300.0|     806.0|     270.0|       3.0147|           94600.0|     NEAR OCEAN|        2.0|(3,[2],[1.0])|       [0.0,0.0,1.0]|[-124.35,40.54,52...|     [-62.132722572510...|\n",
            "|  -124.27|   40.69|              36.0|     2349.0|         528.0|    1194.0|     465.0|       2.5179|           79000.0|     NEAR OCEAN|        2.0|(3,[2],[1.0])|       [0.0,0.0,1.0]|[-124.27,40.69,36...|     [-62.092749771498...|\n",
            "+---------+--------+------------------+-----------+--------------+----------+----------+-------------+------------------+---------------+-----------+-------------+--------------------+--------------------+-------------------------+\n",
            "only showing top 2 rows\n",
            "\n"
          ]
        }
      ],
      "source": [
        "train_data, test_data = df.randomSplit([0.7, 0.3], seed=2022)\n",
        "\n",
        "pipeline = Pipeline(stages=[\n",
        "    StringIndexer(inputCol='ocean_proximity', outputCol='ocean_index', handleInvalid='skip'),\n",
        "\n",
        "    OneHotEncoder(inputCol='ocean_index', outputCol='ocean_oh'),\n",
        "\n",
        "    VectorAssembler(inputCols=['ocean_oh'], outputCol='categorical_features'),\n",
        "\n",
        "    VectorAssembler(inputCols=['longitude', 'latitude', 'housing_median_age',\n",
        "                              'total_rooms', 'total_bedrooms', 'population',\n",
        "                              'households', 'median_income'],\n",
        "                    outputCol='numerical_features'),\n",
        "\n",
        "    StandardScaler(inputCol='numerical_features', outputCol='numerical_features_scaled')\n",
        "])\n",
        "\n",
        "model = pipeline.fit(train_data)\n",
        "\n",
        "train_transformed = model.transform(train_data)\n",
        "test_transformed = model.transform(test_data)\n",
        "\n",
        "train_transformed.show(2)\n",
        "\n"
      ]
    },
    {
      "cell_type": "markdown",
      "metadata": {
        "id": "HEyAPIRWIrrx"
      },
      "source": [
        "## Построение двух моделей линейной регрессии на разных наборах данных"
      ]
    },
    {
      "cell_type": "markdown",
      "metadata": {
        "id": "B9DzzmiiI5uQ"
      },
      "source": [
        "### Используя все данные из файла\n",
        "<a id='3-bullet'></a>"
      ]
    },
    {
      "cell_type": "code",
      "execution_count": null,
      "metadata": {
        "id": "mNK58I11vHcq"
      },
      "outputs": [],
      "source": [
        "lr = LinearRegression(featuresCol='features', labelCol='median_house_value')\n",
        "\n",
        "full_as = VectorAssembler(inputCols=['categorical_features','numerical_features_scaled'],\n",
        "                          outputCol=\"features\")\n",
        "\n",
        "train_transformed_full = full_as.transform(train_transformed)\n",
        "test_transformed_full = full_as.transform(test_transformed)\n",
        "\n",
        "model_lr = lr.fit(train_transformed_full)\n",
        "\n",
        "pred = model_lr.transform(test_transformed_full)"
      ]
    },
    {
      "cell_type": "markdown",
      "metadata": {
        "id": "2I1ePSO0XUy7"
      },
      "source": [
        "### Используя только числовые переменные, исключив категориальные\n",
        "<a id='4-bullet'></a>"
      ]
    },
    {
      "cell_type": "code",
      "execution_count": null,
      "metadata": {
        "id": "3xCdf-r3XZwF"
      },
      "outputs": [],
      "source": [
        "num_as = VectorAssembler(inputCols=['numerical_features_scaled'], outputCol=\"features\")\n",
        "\n",
        "train_transformed_num = num_as.transform(train_transformed)\n",
        "test_transformed_num = num_as.transform(test_transformed)"
      ]
    },
    {
      "cell_type": "code",
      "execution_count": null,
      "metadata": {
        "id": "ktDdb48Edwg_"
      },
      "outputs": [],
      "source": [
        "model_num = lr.fit(train_transformed_num)\n",
        "\n",
        "pred_num = model_num.transform(test_transformed_num)"
      ]
    },
    {
      "cell_type": "markdown",
      "metadata": {
        "id": "N6vOX5mYgHQo"
      },
      "source": [
        "## Сравнение результатов работы линейной регрессии на двух наборах данных по метрикам RMSE, MAE и R2"
      ]
    },
    {
      "cell_type": "code",
      "execution_count": null,
      "metadata": {
        "colab": {
          "base_uri": "https://localhost:8080/"
        },
        "id": "ry_y0sdk06yn",
        "outputId": "7078a310-8053-4e60-8f9f-d410717e3a35"
      },
      "outputs": [
        {
          "name": "stdout",
          "output_type": "stream",
          "text": [
            "RMSE: Полных данных 68238.23, Числовых 69095.77\n",
            "MAE: Полных данных 49890.88, Числовых 50881.56\n",
            "R2: Полных данных 0.650, Числовых 0.641\n"
          ]
        }
      ],
      "source": [
        "ev_rmse = RegressionEvaluator(\n",
        "    labelCol='median_house_value',\n",
        "    predictionCol='prediction',\n",
        "    metricName='rmse'\n",
        ")\n",
        "\n",
        "ev_mae = RegressionEvaluator(\n",
        "    labelCol='median_house_value',\n",
        "    predictionCol='prediction',\n",
        "    metricName='mae'\n",
        ")\n",
        "\n",
        "ev_r2 = RegressionEvaluator(\n",
        "    labelCol='median_house_value',\n",
        "    predictionCol='prediction',\n",
        "    metricName='r2'\n",
        ")\n",
        "\n",
        "rmse = ev_rmse.evaluate(pred)\n",
        "mae = ev_mae.evaluate(pred)\n",
        "r2 = ev_r2.evaluate(pred)\n",
        "\n",
        "rmse_num = ev_rmse.evaluate(pred_num)\n",
        "mae_num = ev_mae.evaluate(pred_num)\n",
        "r2_num = ev_r2.evaluate(pred_num)\n",
        "\n",
        "print(f'RMSE: Полных данных {rmse:.2f}, Числовых {rmse_num:.2f}')\n",
        "print(f'MAE: Полных данных {mae:.2f}, Числовых {mae_num:.2f}')\n",
        "print(f'R2: Полных данных {r2:.3f}, Числовых {r2_num:.3f}')"
      ]
    },
    {
      "cell_type": "code",
      "execution_count": null,
      "metadata": {
        "id": "7CG2DOiFv7d-"
      },
      "outputs": [],
      "source": [
        "spark.stop()"
      ]
    },
    {
      "cell_type": "markdown",
      "metadata": {
        "id": "I9CkCdokCUc5"
      },
      "source": [
        "## Общий вывод"
      ]
    },
    {
      "cell_type": "markdown",
      "metadata": {
        "id": "ssFL2_EPh6UI"
      },
      "source": [
        "<b>Выполняемая задача</b>\n",
        "\n",
        "Обучение модели линейной регрессии на данных о жилье в Калифорнии в 1990 году и\n",
        "предсказание медианной стоимости дома в жилом массиве.\n",
        "\n",
        "<b>Итоги обучения и оценки моделей</b>\n",
        "\n",
        "- Значение RMSE для числовых данных выше, чем для полных данных, модель работает хуже при работе с числовыми данными по сравнению с полными данными.\n",
        "\n",
        "- Аналогично случаю с RMSE, значение MAE для числовых данных выше, чем для полных данных\n",
        "\n",
        "- Значение R2 для полных данных немного выше, чем для числовых данных, что указывает на незначительную, но важность кат.данных\n",
        "\n",
        "В целом, модель имеет большой разброс и низкое качество, что говорит о необходимости ввода новых признаков или урезке после корреляционного анализа самых малозначемых для таргета."
      ]
    }
  ],
  "metadata": {
    "colab": {
      "collapsed_sections": [
        "DOggElFFiwXf"
      ],
      "provenance": [],
      "include_colab_link": true
    },
    "kernelspec": {
      "display_name": "Python 3 (ipykernel)",
      "language": "python",
      "name": "python3"
    },
    "language_info": {
      "codemirror_mode": {
        "name": "ipython",
        "version": 3
      },
      "file_extension": ".py",
      "mimetype": "text/x-python",
      "name": "python",
      "nbconvert_exporter": "python",
      "pygments_lexer": "ipython3",
      "version": "3.9.5"
    },
    "toc": {
      "base_numbering": 1,
      "nav_menu": {},
      "number_sections": true,
      "sideBar": true,
      "skip_h1_title": true,
      "title_cell": "Table of Contents",
      "title_sidebar": "Contents",
      "toc_cell": false,
      "toc_position": {},
      "toc_section_display": true,
      "toc_window_display": false
    }
  },
  "nbformat": 4,
  "nbformat_minor": 0
}