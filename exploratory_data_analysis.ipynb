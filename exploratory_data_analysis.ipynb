{
  "cells": [
    {
      "cell_type": "markdown",
      "metadata": {
        "id": "view-in-github",
        "colab_type": "text"
      },
      "source": [
        "<a href=\"https://colab.research.google.com/github/TerriDonut/Yandex-educational-projects/blob/main/exploratory_data_analysis.ipynb\" target=\"_parent\"><img src=\"https://colab.research.google.com/assets/colab-badge.svg\" alt=\"Open In Colab\"/></a>"
      ]
    },
    {
      "cell_type": "markdown",
      "metadata": {
        "id": "DNmX3YNMr7rD"
      },
      "source": [
        "#Исследование объявлений о продаже квартир"
      ]
    },
    {
      "cell_type": "markdown",
      "metadata": {
        "id": "JqbRSOil30Wo"
      },
      "source": [
        "<b>Введение:</b>\n",
        "\n",
        "В распоряжении данные сервиса Яндекс Недвижимость — архив объявлений о продаже квартир.\n",
        "\n",
        "Целью проекта будет определение рыночной стоимость объектов недвижимости.\n",
        "\n",
        "Предстоит провести исследовательский анализ данных, который поможет установить параметры, влияющие на цену объектов.\n",
        "\n",
        "По каждой квартире на продажу доступны два вида данных. Первые вписаны пользователем, вторые — получены автоматически на основе картографических данных."
      ]
    },
    {
      "cell_type": "markdown",
      "metadata": {
        "id": "9RIoIR6fIw5e"
      },
      "source": [
        "\n",
        "##Шаг 1. Открытие файла с данными и изучение общей информации\n",
        "---\n",
        "\n"
      ]
    },
    {
      "cell_type": "code",
      "execution_count": null,
      "metadata": {
        "id": "QZ59FXjh6GR3"
      },
      "outputs": [],
      "source": [
        "#Импорт необходимых бибилиотек\n",
        "import pandas as pd\n",
        "import matplotlib.pyplot as plt\n",
        "import math\n",
        "import numpy as np"
      ]
    },
    {
      "cell_type": "code",
      "execution_count": null,
      "metadata": {
        "colab": {
          "base_uri": "https://localhost:8080/",
          "height": 838
        },
        "id": "o0YiADP15BmB",
        "outputId": "17847ee3-0ba9-44bf-aa3a-c54c5b066982",
        "scrolled": false
      },
      "outputs": [
        {
          "name": "stdout",
          "output_type": "stream",
          "text": [
            "<class 'pandas.core.frame.DataFrame'>\n",
            "RangeIndex: 23699 entries, 0 to 23698\n",
            "Data columns (total 22 columns):\n",
            " #   Column                Non-Null Count  Dtype  \n",
            "---  ------                --------------  -----  \n",
            " 0   total_images          23699 non-null  int64  \n",
            " 1   last_price            23699 non-null  float64\n",
            " 2   total_area            23699 non-null  float64\n",
            " 3   first_day_exposition  23699 non-null  object \n",
            " 4   rooms                 23699 non-null  int64  \n",
            " 5   ceiling_height        14504 non-null  float64\n",
            " 6   floors_total          23613 non-null  float64\n",
            " 7   living_area           21796 non-null  float64\n",
            " 8   floor                 23699 non-null  int64  \n",
            " 9   is_apartment          2775 non-null   object \n",
            " 10  studio                23699 non-null  bool   \n",
            " 11  open_plan             23699 non-null  bool   \n",
            " 12  kitchen_area          21421 non-null  float64\n",
            " 13  balcony               12180 non-null  float64\n",
            " 14  locality_name         23650 non-null  object \n",
            " 15  airports_nearest      18157 non-null  float64\n",
            " 16  cityCenters_nearest   18180 non-null  float64\n",
            " 17  parks_around3000      18181 non-null  float64\n",
            " 18  parks_nearest         8079 non-null   float64\n",
            " 19  ponds_around3000      18181 non-null  float64\n",
            " 20  ponds_nearest         9110 non-null   float64\n",
            " 21  days_exposition       20518 non-null  float64\n",
            "dtypes: bool(2), float64(14), int64(3), object(3)\n",
            "memory usage: 3.7+ MB\n"
          ]
        },
        {
          "data": {
            "text/html": [
              "<div>\n",
              "<style scoped>\n",
              "    .dataframe tbody tr th:only-of-type {\n",
              "        vertical-align: middle;\n",
              "    }\n",
              "\n",
              "    .dataframe tbody tr th {\n",
              "        vertical-align: top;\n",
              "    }\n",
              "\n",
              "    .dataframe thead th {\n",
              "        text-align: right;\n",
              "    }\n",
              "</style>\n",
              "<table border=\"1\" class=\"dataframe\">\n",
              "  <thead>\n",
              "    <tr style=\"text-align: right;\">\n",
              "      <th></th>\n",
              "      <th>total_images</th>\n",
              "      <th>last_price</th>\n",
              "      <th>total_area</th>\n",
              "      <th>rooms</th>\n",
              "      <th>ceiling_height</th>\n",
              "      <th>floors_total</th>\n",
              "      <th>living_area</th>\n",
              "      <th>floor</th>\n",
              "      <th>kitchen_area</th>\n",
              "      <th>balcony</th>\n",
              "      <th>airports_nearest</th>\n",
              "      <th>cityCenters_nearest</th>\n",
              "      <th>parks_around3000</th>\n",
              "      <th>parks_nearest</th>\n",
              "      <th>ponds_around3000</th>\n",
              "      <th>ponds_nearest</th>\n",
              "      <th>days_exposition</th>\n",
              "    </tr>\n",
              "  </thead>\n",
              "  <tbody>\n",
              "    <tr>\n",
              "      <th>count</th>\n",
              "      <td>23699.000000</td>\n",
              "      <td>2.369900e+04</td>\n",
              "      <td>23699.000000</td>\n",
              "      <td>23699.000000</td>\n",
              "      <td>14504.000000</td>\n",
              "      <td>23613.000000</td>\n",
              "      <td>21796.000000</td>\n",
              "      <td>23699.000000</td>\n",
              "      <td>21421.000000</td>\n",
              "      <td>12180.000000</td>\n",
              "      <td>18157.000000</td>\n",
              "      <td>18180.000000</td>\n",
              "      <td>18181.000000</td>\n",
              "      <td>8079.000000</td>\n",
              "      <td>18181.000000</td>\n",
              "      <td>9110.000000</td>\n",
              "      <td>20518.000000</td>\n",
              "    </tr>\n",
              "    <tr>\n",
              "      <th>mean</th>\n",
              "      <td>9.858475</td>\n",
              "      <td>6.541549e+06</td>\n",
              "      <td>60.348651</td>\n",
              "      <td>2.070636</td>\n",
              "      <td>2.771499</td>\n",
              "      <td>10.673824</td>\n",
              "      <td>34.457852</td>\n",
              "      <td>5.892358</td>\n",
              "      <td>10.569807</td>\n",
              "      <td>1.150082</td>\n",
              "      <td>28793.672193</td>\n",
              "      <td>14191.277833</td>\n",
              "      <td>0.611408</td>\n",
              "      <td>490.804555</td>\n",
              "      <td>0.770255</td>\n",
              "      <td>517.980900</td>\n",
              "      <td>180.888634</td>\n",
              "    </tr>\n",
              "    <tr>\n",
              "      <th>std</th>\n",
              "      <td>5.682529</td>\n",
              "      <td>1.088701e+07</td>\n",
              "      <td>35.654083</td>\n",
              "      <td>1.078405</td>\n",
              "      <td>1.261056</td>\n",
              "      <td>6.597173</td>\n",
              "      <td>22.030445</td>\n",
              "      <td>4.885249</td>\n",
              "      <td>5.905438</td>\n",
              "      <td>1.071300</td>\n",
              "      <td>12630.880622</td>\n",
              "      <td>8608.386210</td>\n",
              "      <td>0.802074</td>\n",
              "      <td>342.317995</td>\n",
              "      <td>0.938346</td>\n",
              "      <td>277.720643</td>\n",
              "      <td>219.727988</td>\n",
              "    </tr>\n",
              "    <tr>\n",
              "      <th>min</th>\n",
              "      <td>0.000000</td>\n",
              "      <td>1.219000e+04</td>\n",
              "      <td>12.000000</td>\n",
              "      <td>0.000000</td>\n",
              "      <td>1.000000</td>\n",
              "      <td>1.000000</td>\n",
              "      <td>2.000000</td>\n",
              "      <td>1.000000</td>\n",
              "      <td>1.300000</td>\n",
              "      <td>0.000000</td>\n",
              "      <td>0.000000</td>\n",
              "      <td>181.000000</td>\n",
              "      <td>0.000000</td>\n",
              "      <td>1.000000</td>\n",
              "      <td>0.000000</td>\n",
              "      <td>13.000000</td>\n",
              "      <td>1.000000</td>\n",
              "    </tr>\n",
              "    <tr>\n",
              "      <th>25%</th>\n",
              "      <td>6.000000</td>\n",
              "      <td>3.400000e+06</td>\n",
              "      <td>40.000000</td>\n",
              "      <td>1.000000</td>\n",
              "      <td>2.520000</td>\n",
              "      <td>5.000000</td>\n",
              "      <td>18.600000</td>\n",
              "      <td>2.000000</td>\n",
              "      <td>7.000000</td>\n",
              "      <td>0.000000</td>\n",
              "      <td>18585.000000</td>\n",
              "      <td>9238.000000</td>\n",
              "      <td>0.000000</td>\n",
              "      <td>288.000000</td>\n",
              "      <td>0.000000</td>\n",
              "      <td>294.000000</td>\n",
              "      <td>45.000000</td>\n",
              "    </tr>\n",
              "    <tr>\n",
              "      <th>50%</th>\n",
              "      <td>9.000000</td>\n",
              "      <td>4.650000e+06</td>\n",
              "      <td>52.000000</td>\n",
              "      <td>2.000000</td>\n",
              "      <td>2.650000</td>\n",
              "      <td>9.000000</td>\n",
              "      <td>30.000000</td>\n",
              "      <td>4.000000</td>\n",
              "      <td>9.100000</td>\n",
              "      <td>1.000000</td>\n",
              "      <td>26726.000000</td>\n",
              "      <td>13098.500000</td>\n",
              "      <td>0.000000</td>\n",
              "      <td>455.000000</td>\n",
              "      <td>1.000000</td>\n",
              "      <td>502.000000</td>\n",
              "      <td>95.000000</td>\n",
              "    </tr>\n",
              "    <tr>\n",
              "      <th>75%</th>\n",
              "      <td>14.000000</td>\n",
              "      <td>6.800000e+06</td>\n",
              "      <td>69.900000</td>\n",
              "      <td>3.000000</td>\n",
              "      <td>2.800000</td>\n",
              "      <td>16.000000</td>\n",
              "      <td>42.300000</td>\n",
              "      <td>8.000000</td>\n",
              "      <td>12.000000</td>\n",
              "      <td>2.000000</td>\n",
              "      <td>37273.000000</td>\n",
              "      <td>16293.000000</td>\n",
              "      <td>1.000000</td>\n",
              "      <td>612.000000</td>\n",
              "      <td>1.000000</td>\n",
              "      <td>729.000000</td>\n",
              "      <td>232.000000</td>\n",
              "    </tr>\n",
              "    <tr>\n",
              "      <th>max</th>\n",
              "      <td>50.000000</td>\n",
              "      <td>7.630000e+08</td>\n",
              "      <td>900.000000</td>\n",
              "      <td>19.000000</td>\n",
              "      <td>100.000000</td>\n",
              "      <td>60.000000</td>\n",
              "      <td>409.700000</td>\n",
              "      <td>33.000000</td>\n",
              "      <td>112.000000</td>\n",
              "      <td>5.000000</td>\n",
              "      <td>84869.000000</td>\n",
              "      <td>65968.000000</td>\n",
              "      <td>3.000000</td>\n",
              "      <td>3190.000000</td>\n",
              "      <td>3.000000</td>\n",
              "      <td>1344.000000</td>\n",
              "      <td>1580.000000</td>\n",
              "    </tr>\n",
              "  </tbody>\n",
              "</table>\n",
              "</div>"
            ],
            "text/plain": [
              "       total_images    last_price    total_area         rooms  ceiling_height  \\\n",
              "count  23699.000000  2.369900e+04  23699.000000  23699.000000    14504.000000   \n",
              "mean       9.858475  6.541549e+06     60.348651      2.070636        2.771499   \n",
              "std        5.682529  1.088701e+07     35.654083      1.078405        1.261056   \n",
              "min        0.000000  1.219000e+04     12.000000      0.000000        1.000000   \n",
              "25%        6.000000  3.400000e+06     40.000000      1.000000        2.520000   \n",
              "50%        9.000000  4.650000e+06     52.000000      2.000000        2.650000   \n",
              "75%       14.000000  6.800000e+06     69.900000      3.000000        2.800000   \n",
              "max       50.000000  7.630000e+08    900.000000     19.000000      100.000000   \n",
              "\n",
              "       floors_total   living_area         floor  kitchen_area       balcony  \\\n",
              "count  23613.000000  21796.000000  23699.000000  21421.000000  12180.000000   \n",
              "mean      10.673824     34.457852      5.892358     10.569807      1.150082   \n",
              "std        6.597173     22.030445      4.885249      5.905438      1.071300   \n",
              "min        1.000000      2.000000      1.000000      1.300000      0.000000   \n",
              "25%        5.000000     18.600000      2.000000      7.000000      0.000000   \n",
              "50%        9.000000     30.000000      4.000000      9.100000      1.000000   \n",
              "75%       16.000000     42.300000      8.000000     12.000000      2.000000   \n",
              "max       60.000000    409.700000     33.000000    112.000000      5.000000   \n",
              "\n",
              "       airports_nearest  cityCenters_nearest  parks_around3000  parks_nearest  \\\n",
              "count      18157.000000         18180.000000      18181.000000    8079.000000   \n",
              "mean       28793.672193         14191.277833          0.611408     490.804555   \n",
              "std        12630.880622          8608.386210          0.802074     342.317995   \n",
              "min            0.000000           181.000000          0.000000       1.000000   \n",
              "25%        18585.000000          9238.000000          0.000000     288.000000   \n",
              "50%        26726.000000         13098.500000          0.000000     455.000000   \n",
              "75%        37273.000000         16293.000000          1.000000     612.000000   \n",
              "max        84869.000000         65968.000000          3.000000    3190.000000   \n",
              "\n",
              "       ponds_around3000  ponds_nearest  days_exposition  \n",
              "count      18181.000000    9110.000000     20518.000000  \n",
              "mean           0.770255     517.980900       180.888634  \n",
              "std            0.938346     277.720643       219.727988  \n",
              "min            0.000000      13.000000         1.000000  \n",
              "25%            0.000000     294.000000        45.000000  \n",
              "50%            1.000000     502.000000        95.000000  \n",
              "75%            1.000000     729.000000       232.000000  \n",
              "max            3.000000    1344.000000      1580.000000  "
            ]
          },
          "execution_count": 2,
          "metadata": {},
          "output_type": "execute_result"
        }
      ],
      "source": [
        "#Вызов общей информации по данным\n",
        "try:\n",
        "    data = pd.read_csv('/content/real_estate_data.csv', sep='\\t')\n",
        "except:\n",
        "    data = pd.read_csv('/datasets/real_estate_data.csv', sep='\\t')\n",
        "data.info()\n",
        "data.describe()"
      ]
    },
    {
      "cell_type": "code",
      "execution_count": null,
      "metadata": {
        "colab": {
          "base_uri": "https://localhost:8080/",
          "height": 1000
        },
        "id": "qgPUqnYx5R4V",
        "outputId": "5dde4274-897d-4a41-860d-f4c78186824a",
        "scrolled": false
      },
      "outputs": [
        {
          "data": {
            "image/png": "[encoded data removed]",
            "text/plain": [
              "<Figure size 1080x1440 with 20 Axes>"
            ]
          },
          "metadata": {
            "needs_background": "light"
          },
          "output_type": "display_data"
        }
      ],
      "source": [
        "#Построение гисторгаммы для визуализации данных\n",
        "data.hist(figsize=(15, 20));"
      ]
    },
    {
      "cell_type": "markdown",
      "metadata": {
        "id": "O6dEbWYl8Ecv"
      },
      "source": [
        "<b>Вывод по обзору данных:</b>\n",
        "    \n",
        "- Обнаруженно множество пропусков в данных\n",
        "- Есть аномалии в некоторых столбцах (публикации объявлений сроком в 1день, максимальное значение в столбце высоты потолка равное 100)\n",
        "- Присутствуют названия столбцов в стиле сamelCase\n",
        "\n",
        "На этапе предобработки заменим или удалим пропущенные значения, изменим стиль обозначения столбцов"
      ]
    },
    {
      "cell_type": "markdown",
      "metadata": {
        "id": "lCUyfV6dI9kA"
      },
      "source": [
        "##Шаг 2. Предобработка данных"
      ]
    },
    {
      "cell_type": "code",
      "execution_count": null,
      "metadata": {
        "colab": {
          "base_uri": "https://localhost:8080/"
        },
        "id": "diMOge7g5ZCc",
        "outputId": "54cd31aa-933b-4e75-8996-a0ef657d0047",
        "scrolled": false
      },
      "outputs": [
        {
          "data": {
            "text/plain": [
              "total_images             0.000000\n",
              "last_price               0.000000\n",
              "total_area               0.000000\n",
              "first_day_exposition     0.000000\n",
              "rooms                    0.000000\n",
              "ceiling_height          38.799105\n",
              "floors_total             0.362885\n",
              "living_area              8.029875\n",
              "floor                    0.000000\n",
              "is_apartment            88.290645\n",
              "studio                   0.000000\n",
              "open_plan                0.000000\n",
              "kitchen_area             9.612220\n",
              "balcony                 48.605426\n",
              "locality_name            0.206760\n",
              "airports_nearest        23.384953\n",
              "cityCenters_nearest     23.287902\n",
              "parks_around3000        23.283683\n",
              "parks_nearest           65.909954\n",
              "ponds_around3000        23.283683\n",
              "ponds_nearest           61.559559\n",
              "days_exposition         13.422507\n",
              "dtype: float64"
            ]
          },
          "execution_count": 4,
          "metadata": {},
          "output_type": "execute_result"
        }
      ],
      "source": [
        "#Вывод процента пропусков в данных\n",
        "data.isna().mean()*100"
      ]
    },
    {
      "cell_type": "markdown",
      "metadata": {
        "id": "n6UV4UNyDK6j"
      },
      "source": [
        "<b>Вывод по количеству пропусков:</b>\n",
        "\n",
        "- В данных собранных геосервисами наибольшее количество пропусков, это может быть связанно с отсутствием информации о локациях и местоположениях, то-есть неполной базой данных самих сервисов, проставим нулевые значения, при анализе по этому столбцу отфильтруем значениея на 1 >= ...\n",
        "- В столбце 'апартаментов' (20к из 24к строк) пропусков, положительное значение данного столбца является не очень частым явлением в реальности, ведь апартаментов не так много в многоквартирных домах, в отсутствующие столбы выставляем False\n",
        "- Отсутствие информации в столбце с балконами сведём к нулю, данный столбец заполнен информацией полученной от пользователей, пропуск в нем можно логически обосновать отсутствием балкона\n",
        "- Высоту потолков найдём по значению медианы\n",
        "- Общую площадь заполняем по значению медианы (в столбе есть значения раные 12 и 900, среднее значение может исказить данные)\n",
        "- Жилую и площадь кухни найдём по соотношению к общей\n",
        "- Общее количество этажей в здании заполняется пользователем, что-бы не указывать на то, что квартира размещена на последнем этаже, значение могло быть умышленно пропущено, пропуск в этом столбце приравниваем к этажу в строке\n",
        "- Пропуски в столбце даты выставления объявления стоит исследовать"
      ]
    },
    {
      "cell_type": "code",
      "execution_count": null,
      "metadata": {
        "id": "bVjWrny6OOYu"
      },
      "outputs": [],
      "source": [
        "#Приведение названия столбца к змеиному стилю\n",
        "data = data.rename(columns={'cityCenters_nearest': 'city_centers_nearest'})"
      ]
    },
    {
      "cell_type": "code",
      "execution_count": null,
      "metadata": {
        "id": "_xdqnzTVu7mu"
      },
      "outputs": [],
      "source": [
        "#Заменяю пропущенные значения\n",
        "replacement_values = {\n",
        "    'total_area': data['total_area'].median(),\n",
        "    'ceiling_height': data['ceiling_height'].median(),\n",
        "    'floors_total': data['floors_total'] == data['floor'],\n",
        "    'ponds_nearest': 0,\n",
        "    'ponds_around3000': 0,\n",
        "    'parks_nearest': 0,\n",
        "    'parks_around3000': 0,\n",
        "    'airports_nearest': 0,\n",
        "    'city_centers_nearest': 0,\n",
        "    'balcony': 0,\n",
        "    'is_apartment': False\n",
        "}\n",
        "\n",
        "data = data.fillna(replacement_values)"
      ]
    },
    {
      "cell_type": "code",
      "execution_count": null,
      "metadata": {
        "id": "Ky5f9OmGQxoD"
      },
      "outputs": [],
      "source": [
        "#Нахождение соотношения общей площади к площади кухни/жилой\n",
        "median_kithen = (data['kitchen_area'].sum() / data['total_area'].sum().item())\n",
        "median_living = data['living_area'].sum() / data['total_area'].sum().item()\n",
        "\n",
        "#Замена пропусков в площади кухни/жилой\n",
        "data['kitchen_area'] = data['kitchen_area'].fillna(data['total_area'] * median_kithen).round()\n",
        "data['living_area'] = data['living_area'].fillna(data['total_area'] * median_living).round()"
      ]
    },
    {
      "cell_type": "markdown",
      "metadata": {
        "id": "a6YGAGKRmAwE"
      },
      "source": [
        "В названиях населённых пунков много повторов \"е\" и \"ё\", это могло быть связанно с ошибками при вводе данных, исправлю это, а так же удалю все характеристики типа: \"село\", \"деревня\" и т.д. Останутся только названия населённого пункта"
      ]
    },
    {
      "cell_type": "code",
      "execution_count": null,
      "metadata": {
        "id": "SrfDFSEBN8W-",
        "scrolled": false
      },
      "outputs": [],
      "source": [
        "#Исправляю дубликаты\n",
        "data['locality_name'] = data['locality_name'].astype(str).str.replace('ё', 'е')\n",
        "data['locality_name'] = data['locality_name'].apply(lambda title: ' '.join(word for word in title.split(' ') if not(word.islower())))"
      ]
    },
    {
      "cell_type": "code",
      "execution_count": null,
      "metadata": {
        "colab": {
          "base_uri": "https://localhost:8080/"
        },
        "id": "yc2R7hVMvDqp",
        "outputId": "39848a23-db5a-4998-e8b0-588589d77ec4"
      },
      "outputs": [
        {
          "name": "stdout",
          "output_type": "stream",
          "text": [
            "total_images               0\n",
            "last_price                 0\n",
            "total_area                 0\n",
            "first_day_exposition       0\n",
            "rooms                      0\n",
            "ceiling_height             0\n",
            "floors_total               0\n",
            "living_area                0\n",
            "floor                      0\n",
            "is_apartment               0\n",
            "studio                     0\n",
            "open_plan                  0\n",
            "kitchen_area               0\n",
            "balcony                    0\n",
            "locality_name              0\n",
            "airports_nearest           0\n",
            "city_centers_nearest       0\n",
            "parks_around3000           0\n",
            "parks_nearest              0\n",
            "ponds_around3000           0\n",
            "ponds_nearest              0\n",
            "days_exposition         3181\n",
            "dtype: int64\n",
            "\n",
            "['Санкт-Петербург' 'Шушары' 'Янино-1' 'Парголово' 'Мурино' 'Ломоносов'\n",
            " 'Сертолово' 'Петергоф' 'Пушкин' 'Кудрово' 'Коммунар' 'Колпино'\n",
            " 'Красный Бор' 'Гатчина' 'Федоровское' 'Выборг' 'Кронштадт' 'Кировск'\n",
            " 'Новое Девяткино' 'Металлострой' 'Лебяжье' 'Сиверский' 'Молодцово'\n",
            " 'Кузьмоловский' 'Новая Ропша' 'Павловск' 'Пикколово' 'Всеволожск'\n",
            " 'Волхов' 'Кингисепп' 'Приозерск' 'Сестрорецк' 'Куттузи' 'Аннино'\n",
            " 'Ефимовский' 'Плодовое' 'Заклинье' 'Торковичи' 'Первомайское'\n",
            " 'Красное Село' 'Понтонный' 'Сясьстрой' 'Старая' 'Лесколово' 'Новый Свет'\n",
            " 'Сланцы' 'Путилово' 'Ивангород' 'Шлиссельбург' 'Никольское' 'Зеленогорск'\n",
            " 'Сосновый Бор' 'Оржицы' 'Кальтино' 'Романовка' 'Бугры' 'Рощино' 'Кириши'\n",
            " 'Луга' 'Волосово' 'Отрадное' 'Павлово' 'Оредеж' 'Копорье' 'Молодежное'\n",
            " 'Тихвин' 'Победа' 'Нурма' 'Синявино' 'Тосно' 'Стрельна' 'Бокситогорск'\n",
            " 'Александровская' 'Лопухинка' 'Пикалево' 'Терволово' 'Советский'\n",
            " 'Подпорожье' 'Петровское' 'Токсово' 'Сельцо' 'Вырица' 'Кипень' 'Келози'\n",
            " 'Вартемяги' 'Тельмана' 'Севастьяново' 'Большая Ижора' '' 'Агалатово'\n",
            " 'Новогорелово' 'Лесогорский' 'Лаголово' 'Цвелодубово' 'Рахья' 'Белогорка'\n",
            " 'Заводской' 'Новоселье' 'Большие Колпаны' 'Горбунки' 'Батово' 'Заневка'\n",
            " 'Иссад' 'Приморск' 'Мистолово' 'Новая Ладога' 'Зимитицы' 'Барышево'\n",
            " 'Разметелево' 'Свердлова' 'Пеники' 'Рябово' 'Пудомяги' 'Корнево' 'Низино'\n",
            " 'Бегуницы' 'Поляны' 'Мга' 'Елизаветино' 'Кузнечное' 'Колтуши'\n",
            " 'Запорожское' 'Гостилицы' 'Малое Карлино' 'Мичуринское' 'Морозова'\n",
            " 'Песочный' 'Сосново' 'Аро' 'Ильичево' 'Тайцы' 'Малое Верево' 'Извара'\n",
            " 'Вещево' 'Паша' 'Калитино' 'Ульяновка' 'Чудской Бор' 'Дубровка' 'Мины'\n",
            " 'Войсковицы' 'Коркино' 'Ропша' 'Приладожский' 'Щеглово' 'Гаврилово'\n",
            " 'Лодейное Поле' 'Рабитицы' 'Никольский' 'Кузьмолово' 'Малые Колпаны'\n",
            " 'Петро-Славянка' 'Назия' 'Репино' 'Углово' 'Старая Малукса' 'Меньково'\n",
            " 'Старые Бегуницы' 'Саперный' 'Семрино' 'Глажево' 'Кобринское' 'Гарболово'\n",
            " 'Юкки' 'Приветнинское' 'Мануйлово' 'Пчева' 'Цвылево' 'Мельниково'\n",
            " 'Пудость' 'Усть-Луга' 'Светогорск' 'Любань' 'Селезнево' 'Каменногорск'\n",
            " 'Кривко' 'Глебычево' 'Парицы' 'Жилпоселок' 'Войскорово' 'Стеклянный'\n",
            " 'Важины' 'Мыза-Ивановка' 'Русско-Высоцкое' 'Форносово' 'Старая Ладога'\n",
            " 'Житково' 'Виллози' 'Лампово' 'Шпаньково' 'Лаврики' 'Сумино'\n",
            " 'Возрождение' 'Старосиверская' 'Кикерино' 'Старое Хинколово'\n",
            " 'Пригородный' 'Торфяное' 'Будогощь' 'Суходолье' 'Красная Долина'\n",
            " 'Хапо-Ое' 'Дружная Горка' 'Лисий Нос' 'Яльгелево' 'Рождествено'\n",
            " 'Старополье' 'Левашово' 'Сяськелево' 'Камышовка' 'Лесная Поляна'\n",
            " 'Хязельки' 'Жилгородок' 'Ялгино' 'Новый Учхоз' 'Гончарово' 'Почап'\n",
            " 'Саперное' 'Платформа' 'Каложицы' 'Фалилеево' 'Пельгора' 'Торошковичи'\n",
            " 'Белоостров' 'Алексеевка' 'Серебрянский' 'Лукаши' 'Тарасово'\n",
            " 'Кингисеппский' 'Ушаки' 'Котлы' 'Сижно' 'Торосово' 'Форт Красная Горка'\n",
            " 'Новолисино' 'Громово' 'Глинка' 'Старая Пустошь' 'Коммунары' 'Починок'\n",
            " 'Вознесенье' 'Разбегаево' 'Гладкое' 'Тесово-4' 'Бор' 'Коробицыно'\n",
            " 'Большая Вруда' 'Курковицы' 'Кобралово' 'Суоранда' 'Кондратьево'\n",
            " 'Счастье' 'Реброво' 'Тойворово' 'Семиозерье' 'Лесное' 'Совхозный'\n",
            " 'Ленинское' 'Суйда' 'Нижние Осельки' 'Свирь' 'Перово' 'Высоцк' 'Шум'\n",
            " 'Котельский' 'Лужайка' 'Большая Пустомержа' 'Красносельское'\n",
            " 'Вахнова Кара' 'Пижма' 'Кивеннапа Север' 'Ромашки' 'Каськово' 'Куровицы'\n",
            " 'Плоское' 'Кирпичное' 'Ям-Тесово' 'Раздолье' 'Терпилицы' 'Шугозеро'\n",
            " 'Ваганово' 'Пушное' 'Садко' 'Усть-Ижора' 'Выскатка' 'Свирьстрой'\n",
            " 'Кисельня' 'Трубников Бор' 'Высокоключевой' 'Пансионат Зеленый Бор'\n",
            " 'Ненимяки' 'Снегиревка' 'Рапполово' 'Пустынка' 'Большой Сабск' 'Русско'\n",
            " 'Лупполово' 'Большое Рейзино' 'Малая Романовка' 'Дружноселье' 'Пчевжа'\n",
            " 'Володарское' 'Нижняя' 'Тихковицы' 'Борисова Грива' 'Дзержинского']\n",
            "\n",
            "Количество дубликатов: 23393\n"
          ]
        }
      ],
      "source": [
        "#Проверяю данные на наличие пропусков\n",
        "print(data.isna().sum())\n",
        "print()\n",
        "print(data['locality_name'].unique())\n",
        "print()\n",
        "print('Количество дубликатов:', data['locality_name'].duplicated().sum())"
      ]
    },
    {
      "cell_type": "code",
      "execution_count": null,
      "metadata": {
        "id": "XG187N4RvTr2"
      },
      "outputs": [],
      "source": [
        "#В названиях есть значение '', переименую\n",
        "data['locality_name'] = data['locality_name'].replace('', 'Неизвестно')"
      ]
    },
    {
      "cell_type": "code",
      "execution_count": null,
      "metadata": {
        "colab": {
          "base_uri": "https://localhost:8080/"
        },
        "id": "PrGkaHdgbI5P",
        "outputId": "7e072e60-8289-472d-d92f-a5bc7c8096a2",
        "scrolled": false
      },
      "outputs": [
        {
          "name": "stdout",
          "output_type": "stream",
          "text": [
            "['Санкт-Петербург' 'Шушары' 'Янино-1' 'Парголово' 'Мурино' 'Ломоносов'\n",
            " 'Сертолово' 'Петергоф' 'Пушкин' 'Кудрово' 'Коммунар' 'Колпино'\n",
            " 'Красный Бор' 'Гатчина' 'Федоровское' 'Выборг' 'Кронштадт' 'Кировск'\n",
            " 'Новое Девяткино' 'Металлострой' 'Лебяжье' 'Сиверский' 'Молодцово'\n",
            " 'Кузьмоловский' 'Новая Ропша' 'Павловск' 'Пикколово' 'Всеволожск'\n",
            " 'Волхов' 'Кингисепп' 'Приозерск' 'Сестрорецк' 'Куттузи' 'Аннино'\n",
            " 'Ефимовский' 'Плодовое' 'Заклинье' 'Торковичи' 'Первомайское'\n",
            " 'Красное Село' 'Понтонный' 'Сясьстрой' 'Старая' 'Лесколово' 'Новый Свет'\n",
            " 'Сланцы' 'Путилово' 'Ивангород' 'Шлиссельбург' 'Никольское' 'Зеленогорск'\n",
            " 'Сосновый Бор' 'Оржицы' 'Кальтино' 'Романовка' 'Бугры' 'Рощино' 'Кириши'\n",
            " 'Луга' 'Волосово' 'Отрадное' 'Павлово' 'Оредеж' 'Копорье' 'Молодежное'\n",
            " 'Тихвин' 'Победа' 'Нурма' 'Синявино' 'Тосно' 'Стрельна' 'Бокситогорск'\n",
            " 'Александровская' 'Лопухинка' 'Пикалево' 'Терволово' 'Советский'\n",
            " 'Подпорожье' 'Петровское' 'Токсово' 'Сельцо' 'Вырица' 'Кипень' 'Келози'\n",
            " 'Вартемяги' 'Тельмана' 'Севастьяново' 'Большая Ижора' 'Неизвестно'\n",
            " 'Агалатово' 'Новогорелово' 'Лесогорский' 'Лаголово' 'Цвелодубово' 'Рахья'\n",
            " 'Белогорка' 'Заводской' 'Новоселье' 'Большие Колпаны' 'Горбунки' 'Батово'\n",
            " 'Заневка' 'Иссад' 'Приморск' 'Мистолово' 'Новая Ладога' 'Зимитицы'\n",
            " 'Барышево' 'Разметелево' 'Свердлова' 'Пеники' 'Рябово' 'Пудомяги'\n",
            " 'Корнево' 'Низино' 'Бегуницы' 'Поляны' 'Мга' 'Елизаветино' 'Кузнечное'\n",
            " 'Колтуши' 'Запорожское' 'Гостилицы' 'Малое Карлино' 'Мичуринское'\n",
            " 'Морозова' 'Песочный' 'Сосново' 'Аро' 'Ильичево' 'Тайцы' 'Малое Верево'\n",
            " 'Извара' 'Вещево' 'Паша' 'Калитино' 'Ульяновка' 'Чудской Бор' 'Дубровка'\n",
            " 'Мины' 'Войсковицы' 'Коркино' 'Ропша' 'Приладожский' 'Щеглово'\n",
            " 'Гаврилово' 'Лодейное Поле' 'Рабитицы' 'Никольский' 'Кузьмолово'\n",
            " 'Малые Колпаны' 'Петро-Славянка' 'Назия' 'Репино' 'Углово'\n",
            " 'Старая Малукса' 'Меньково' 'Старые Бегуницы' 'Саперный' 'Семрино'\n",
            " 'Глажево' 'Кобринское' 'Гарболово' 'Юкки' 'Приветнинское' 'Мануйлово'\n",
            " 'Пчева' 'Цвылево' 'Мельниково' 'Пудость' 'Усть-Луга' 'Светогорск'\n",
            " 'Любань' 'Селезнево' 'Каменногорск' 'Кривко' 'Глебычево' 'Парицы'\n",
            " 'Жилпоселок' 'Войскорово' 'Стеклянный' 'Важины' 'Мыза-Ивановка'\n",
            " 'Русско-Высоцкое' 'Форносово' 'Старая Ладога' 'Житково' 'Виллози'\n",
            " 'Лампово' 'Шпаньково' 'Лаврики' 'Сумино' 'Возрождение' 'Старосиверская'\n",
            " 'Кикерино' 'Старое Хинколово' 'Пригородный' 'Торфяное' 'Будогощь'\n",
            " 'Суходолье' 'Красная Долина' 'Хапо-Ое' 'Дружная Горка' 'Лисий Нос'\n",
            " 'Яльгелево' 'Рождествено' 'Старополье' 'Левашово' 'Сяськелево'\n",
            " 'Камышовка' 'Лесная Поляна' 'Хязельки' 'Жилгородок' 'Ялгино'\n",
            " 'Новый Учхоз' 'Гончарово' 'Почап' 'Саперное' 'Платформа' 'Каложицы'\n",
            " 'Фалилеево' 'Пельгора' 'Торошковичи' 'Белоостров' 'Алексеевка'\n",
            " 'Серебрянский' 'Лукаши' 'Тарасово' 'Кингисеппский' 'Ушаки' 'Котлы'\n",
            " 'Сижно' 'Торосово' 'Форт Красная Горка' 'Новолисино' 'Громово' 'Глинка'\n",
            " 'Старая Пустошь' 'Коммунары' 'Починок' 'Вознесенье' 'Разбегаево'\n",
            " 'Гладкое' 'Тесово-4' 'Бор' 'Коробицыно' 'Большая Вруда' 'Курковицы'\n",
            " 'Кобралово' 'Суоранда' 'Кондратьево' 'Счастье' 'Реброво' 'Тойворово'\n",
            " 'Семиозерье' 'Лесное' 'Совхозный' 'Ленинское' 'Суйда' 'Нижние Осельки'\n",
            " 'Свирь' 'Перово' 'Высоцк' 'Шум' 'Котельский' 'Лужайка'\n",
            " 'Большая Пустомержа' 'Красносельское' 'Вахнова Кара' 'Пижма'\n",
            " 'Кивеннапа Север' 'Ромашки' 'Каськово' 'Куровицы' 'Плоское' 'Кирпичное'\n",
            " 'Ям-Тесово' 'Раздолье' 'Терпилицы' 'Шугозеро' 'Ваганово' 'Пушное' 'Садко'\n",
            " 'Усть-Ижора' 'Выскатка' 'Свирьстрой' 'Кисельня' 'Трубников Бор'\n",
            " 'Высокоключевой' 'Пансионат Зеленый Бор' 'Ненимяки' 'Снегиревка'\n",
            " 'Рапполово' 'Пустынка' 'Большой Сабск' 'Русско' 'Лупполово'\n",
            " 'Большое Рейзино' 'Малая Романовка' 'Дружноселье' 'Пчевжа' 'Володарское'\n",
            " 'Нижняя' 'Тихковицы' 'Борисова Грива' 'Дзержинского']\n",
            "\n",
            "Количество дубликатов: 23393\n"
          ]
        }
      ],
      "source": [
        "#Вывожу уникальные значения местоположения и количество дубликатов\n",
        "print(data['locality_name'].unique())\n",
        "print()\n",
        "print('Количество дубликатов:', data['locality_name'].duplicated().sum())"
      ]
    },
    {
      "cell_type": "code",
      "execution_count": null,
      "metadata": {
        "id": "AROweG2RpEyA"
      },
      "outputs": [],
      "source": [
        "#Этот блок из 3 шага, но он нужен был тут для предобработки :/\n",
        "#Создаю столбцы с информацией о дне/месяце/годе публикации\n",
        "data['first_day_exposition'] = pd.to_datetime(data['first_day_exposition'])\n",
        "data['week_exposition'] = data['first_day_exposition'].dt.weekday\n",
        "data['month_exposition'] = data['first_day_exposition'].dt.month\n",
        "data['year_exposition'] = data['first_day_exposition'].dt.year"
      ]
    },
    {
      "cell_type": "code",
      "execution_count": null,
      "metadata": {
        "colab": {
          "base_uri": "https://localhost:8080/"
        },
        "id": "AdVHxDA6IL8c",
        "outputId": "0184f523-fe5f-4a78-a2db-b74a2ce5eefd"
      },
      "outputs": [
        {
          "name": "stdout",
          "output_type": "stream",
          "text": [
            "year_exposition\n",
            "2014      18\n",
            "2015      70\n",
            "2016      67\n",
            "2017     271\n",
            "2018     959\n",
            "2019    1796\n",
            "Name: days_exposition, dtype: int64\n",
            "\n",
            "year_exposition\n",
            "2014     119\n",
            "2015    1121\n",
            "2016    2716\n",
            "2017    7919\n",
            "2018    7560\n",
            "2019    1083\n",
            "Name: days_exposition, dtype: int64\n",
            "\n",
            "year_exposition\n",
            "2014    0.15\n",
            "2015    0.06\n",
            "2016    0.02\n",
            "2017    0.03\n",
            "2018    0.13\n",
            "2019    1.66\n",
            "Name: days_exposition, dtype: float64\n",
            "\n",
            "2019-05-03 00:00:00\n"
          ]
        }
      ],
      "source": [
        "#Оценка количества пропусков по годам\n",
        "\n",
        "#Переменная с соотношением пропусков к году\n",
        "exposition_null_counts = data.groupby('year_exposition')['days_exposition'].apply(lambda x: x.isnull().sum())\n",
        "#Переменная с соотношением значений к году\n",
        "exposition_counts = data.groupby('year_exposition')['days_exposition'].count()\n",
        "#Переменная с процентным соотношением пропусков к значениям\n",
        "percentage_of_absences = (exposition_null_counts / exposition_counts).round(2)\n",
        "\n",
        "print(exposition_null_counts)\n",
        "print()\n",
        "print(exposition_counts)\n",
        "print()\n",
        "print(percentage_of_absences)\n",
        "print()\n",
        "#Выясняю правильность гипотезы\n",
        "print(data['first_day_exposition'].max())"
      ]
    },
    {
      "cell_type": "markdown",
      "metadata": {
        "id": "OV03HfdPOiNC"
      },
      "source": [
        "<b>Пропуски в количестве дней публикации</b>\n",
        "\n",
        "Сгруппировав данные о количестве пропусков по годам размещения, можно наблюдать аномальный рост пропусков в 2019 году, большая часть данных пропущена, делаю вывод что пропусков так много из-за остановки сбора на 5 месяце 19 года, видимо к этому моменту объявления из 18 и начала 19 года ещё не все были реализованны, поэтому пропуски в 2019 году можно не считать критичными, а доля остальных крайне незначительна что-бы искажать исследования, оставляю всё как есть"
      ]
    },
    {
      "cell_type": "markdown",
      "metadata": {
        "id": "pvpHWDxX4vNr"
      },
      "source": [
        "<b>Работа с типами данных</b>\n",
        "\n",
        "Имеющиеся типы данных не везда подходят к данным в солбцах, например:\n",
        "- Значение последней цены приведём к целому числу вместо дроби\n",
        "- Количество этажей так-же переводим в целое число\n",
        "- Водоёмы и парки в пределах 3км не могут быть представлены в виде дроби, меняем тип\n",
        "- Количество балконов нужно перевести в целые значения"
      ]
    },
    {
      "cell_type": "code",
      "execution_count": null,
      "metadata": {
        "colab": {
          "base_uri": "https://localhost:8080/"
        },
        "id": "-zSJT-1MS8t8",
        "outputId": "ce88ff29-81f6-419f-b2f1-f906713b6320",
        "scrolled": false
      },
      "outputs": [
        {
          "name": "stdout",
          "output_type": "stream",
          "text": [
            "<class 'pandas.core.frame.DataFrame'>\n",
            "RangeIndex: 23699 entries, 0 to 23698\n",
            "Data columns (total 25 columns):\n",
            " #   Column                Non-Null Count  Dtype         \n",
            "---  ------                --------------  -----         \n",
            " 0   total_images          23699 non-null  int64         \n",
            " 1   last_price            23699 non-null  int64         \n",
            " 2   total_area            23699 non-null  float64       \n",
            " 3   first_day_exposition  23699 non-null  datetime64[ns]\n",
            " 4   rooms                 23699 non-null  int64         \n",
            " 5   ceiling_height        23699 non-null  float64       \n",
            " 6   floors_total          23699 non-null  int64         \n",
            " 7   living_area           23699 non-null  float64       \n",
            " 8   floor                 23699 non-null  int64         \n",
            " 9   is_apartment          23699 non-null  bool          \n",
            " 10  studio                23699 non-null  bool          \n",
            " 11  open_plan             23699 non-null  bool          \n",
            " 12  kitchen_area          23699 non-null  float64       \n",
            " 13  balcony               23699 non-null  int64         \n",
            " 14  locality_name         23699 non-null  object        \n",
            " 15  airports_nearest      23699 non-null  float64       \n",
            " 16  city_centers_nearest  23699 non-null  float64       \n",
            " 17  parks_around3000      23699 non-null  int64         \n",
            " 18  parks_nearest         23699 non-null  float64       \n",
            " 19  ponds_around3000      23699 non-null  int64         \n",
            " 20  ponds_nearest         23699 non-null  float64       \n",
            " 21  days_exposition       20518 non-null  float64       \n",
            " 22  week_exposition       23699 non-null  int64         \n",
            " 23  month_exposition      23699 non-null  int64         \n",
            " 24  year_exposition       23699 non-null  int64         \n",
            "dtypes: bool(3), datetime64[ns](1), float64(9), int64(11), object(1)\n",
            "memory usage: 4.0+ MB\n"
          ]
        }
      ],
      "source": [
        "#Изменение типов данных\n",
        "data = data.astype({'last_price': np.int64\n",
        "                    ,'floors_total': np.int64\n",
        "                    ,'parks_around3000': np.int64\n",
        "                    ,'ponds_around3000': np.int64\n",
        "                    ,'balcony': np.int64})\n",
        "data.info()"
      ]
    },
    {
      "cell_type": "markdown",
      "metadata": {
        "id": "hO-GycoFBWCd"
      },
      "source": [
        "<b>Вывод по этапу предобработки данных:</b>\n",
        "\n",
        "Данне оптимизировал, перевёл в удобный для работы формат, заполнил большее количество пропущенных значений с учётом их логичности и потенциального влияния на исследовательские выводы"
      ]
    },
    {
      "cell_type": "markdown",
      "metadata": {
        "id": "gMFerD7tJF1u"
      },
      "source": [
        "##Шаг 3. Добавление в таблицу новых столбцов со следующими параметрами:"
      ]
    },
    {
      "cell_type": "code",
      "execution_count": null,
      "metadata": {
        "colab": {
          "base_uri": "https://localhost:8080/"
        },
        "id": "ER6G8R2__min",
        "outputId": "0e2a6cd3-2a6d-44c5-d09b-e3b22168e454",
        "scrolled": false
      },
      "outputs": [
        {
          "data": {
            "text/plain": [
              "0        120370.0\n",
              "1         82921.0\n",
              "2         92786.0\n",
              "3        408176.0\n",
              "4        100000.0\n",
              "           ...   \n",
              "23694     72491.0\n",
              "23695     52542.0\n",
              "23696     44092.0\n",
              "23697    149511.0\n",
              "23698     41796.0\n",
              "Name: price_per_square_meter, Length: 23699, dtype: float64"
            ]
          },
          "execution_count": 15,
          "metadata": {},
          "output_type": "execute_result"
        }
      ],
      "source": [
        "#Добавляю в таблицу колонку с ценой квадратного метра\n",
        "data['price_per_square_meter'] = (data['last_price'] / data['total_area']).round()\n",
        "data['price_per_square_meter']"
      ]
    },
    {
      "cell_type": "code",
      "execution_count": null,
      "metadata": {
        "id": "mtFjRBjZ9WS7"
      },
      "outputs": [],
      "source": [
        "#Создаю функцию которая проверяет значение 'этажа' в каждой строчке и распределяет их по категориям\n",
        "def floor_category(row):\n",
        "    if row['floor'] <= 1:\n",
        "        return 'первый'\n",
        "    if row['floor'] != row['floors_total']:\n",
        "        return 'другое'\n",
        "    return 'последний'\n",
        "\n",
        "data['floor_type'] = data.apply(floor_category, axis=1)"
      ]
    },
    {
      "cell_type": "code",
      "execution_count": null,
      "metadata": {
        "colab": {
          "base_uri": "https://localhost:8080/"
        },
        "id": "kf6eh7BqGT7G",
        "outputId": "b8ee0f62-2431-488e-81c4-0094fda12a4a",
        "scrolled": false
      },
      "outputs": [
        {
          "data": {
            "text/plain": [
              "0        16.0\n",
              "1        19.0\n",
              "2        14.0\n",
              "3         7.0\n",
              "4         8.0\n",
              "         ... \n",
              "23694     4.0\n",
              "23695     0.0\n",
              "23696     0.0\n",
              "23697    10.0\n",
              "23698     0.0\n",
              "Name: city_сenters_nearest_km, Length: 23699, dtype: float64"
            ]
          },
          "execution_count": 17,
          "metadata": {},
          "output_type": "execute_result"
        }
      ],
      "source": [
        "#Перевожу метры в км до центра города\n",
        "data['city_сenters_nearest_km'] = (data['city_centers_nearest'] / 1000).round()\n",
        "data['city_сenters_nearest_km']"
      ]
    },
    {
      "cell_type": "markdown",
      "metadata": {
        "id": "Dwjs5YLDJQh4"
      },
      "source": [
        "##Шаг 4. Проведение исследовательского анализа данных:"
      ]
    },
    {
      "cell_type": "code",
      "execution_count": null,
      "metadata": {
        "colab": {
          "base_uri": "https://localhost:8080/",
          "height": 256
        },
        "id": "M0NwmyN6NrB_",
        "outputId": "1614dfbc-f568-4f54-aaf0-2a579986a9f1",
        "scrolled": true
      },
      "outputs": [
        {
          "data": {
            "text/html": [
              "<div>\n",
              "<style scoped>\n",
              "    .dataframe tbody tr th:only-of-type {\n",
              "        vertical-align: middle;\n",
              "    }\n",
              "\n",
              "    .dataframe tbody tr th {\n",
              "        vertical-align: top;\n",
              "    }\n",
              "\n",
              "    .dataframe thead th {\n",
              "        text-align: right;\n",
              "    }\n",
              "</style>\n",
              "<table border=\"1\" class=\"dataframe\">\n",
              "  <thead>\n",
              "    <tr style=\"text-align: right;\">\n",
              "      <th></th>\n",
              "      <th>total_images</th>\n",
              "      <th>last_price</th>\n",
              "      <th>total_area</th>\n",
              "      <th>first_day_exposition</th>\n",
              "      <th>rooms</th>\n",
              "      <th>ceiling_height</th>\n",
              "      <th>floors_total</th>\n",
              "      <th>living_area</th>\n",
              "      <th>floor</th>\n",
              "      <th>is_apartment</th>\n",
              "      <th>...</th>\n",
              "      <th>parks_nearest</th>\n",
              "      <th>ponds_around3000</th>\n",
              "      <th>ponds_nearest</th>\n",
              "      <th>days_exposition</th>\n",
              "      <th>week_exposition</th>\n",
              "      <th>month_exposition</th>\n",
              "      <th>year_exposition</th>\n",
              "      <th>price_per_square_meter</th>\n",
              "      <th>floor_type</th>\n",
              "      <th>city_сenters_nearest_km</th>\n",
              "    </tr>\n",
              "  </thead>\n",
              "  <tbody>\n",
              "    <tr>\n",
              "      <th>0</th>\n",
              "      <td>20</td>\n",
              "      <td>13000000</td>\n",
              "      <td>108.0</td>\n",
              "      <td>2019-03-07</td>\n",
              "      <td>3</td>\n",
              "      <td>2.70</td>\n",
              "      <td>16</td>\n",
              "      <td>51.0</td>\n",
              "      <td>8</td>\n",
              "      <td>False</td>\n",
              "      <td>...</td>\n",
              "      <td>482.0</td>\n",
              "      <td>2</td>\n",
              "      <td>755.0</td>\n",
              "      <td>NaN</td>\n",
              "      <td>3</td>\n",
              "      <td>3</td>\n",
              "      <td>2019</td>\n",
              "      <td>120370.0</td>\n",
              "      <td>другое</td>\n",
              "      <td>16.0</td>\n",
              "    </tr>\n",
              "    <tr>\n",
              "      <th>1</th>\n",
              "      <td>7</td>\n",
              "      <td>3350000</td>\n",
              "      <td>40.4</td>\n",
              "      <td>2018-12-04</td>\n",
              "      <td>1</td>\n",
              "      <td>2.65</td>\n",
              "      <td>11</td>\n",
              "      <td>19.0</td>\n",
              "      <td>1</td>\n",
              "      <td>False</td>\n",
              "      <td>...</td>\n",
              "      <td>0.0</td>\n",
              "      <td>0</td>\n",
              "      <td>0.0</td>\n",
              "      <td>81.0</td>\n",
              "      <td>1</td>\n",
              "      <td>12</td>\n",
              "      <td>2018</td>\n",
              "      <td>82921.0</td>\n",
              "      <td>первый</td>\n",
              "      <td>19.0</td>\n",
              "    </tr>\n",
              "    <tr>\n",
              "      <th>2</th>\n",
              "      <td>10</td>\n",
              "      <td>5196000</td>\n",
              "      <td>56.0</td>\n",
              "      <td>2015-08-20</td>\n",
              "      <td>2</td>\n",
              "      <td>2.65</td>\n",
              "      <td>5</td>\n",
              "      <td>34.0</td>\n",
              "      <td>4</td>\n",
              "      <td>False</td>\n",
              "      <td>...</td>\n",
              "      <td>90.0</td>\n",
              "      <td>2</td>\n",
              "      <td>574.0</td>\n",
              "      <td>558.0</td>\n",
              "      <td>3</td>\n",
              "      <td>8</td>\n",
              "      <td>2015</td>\n",
              "      <td>92786.0</td>\n",
              "      <td>другое</td>\n",
              "      <td>14.0</td>\n",
              "    </tr>\n",
              "    <tr>\n",
              "      <th>3</th>\n",
              "      <td>0</td>\n",
              "      <td>64900000</td>\n",
              "      <td>159.0</td>\n",
              "      <td>2015-07-24</td>\n",
              "      <td>3</td>\n",
              "      <td>2.65</td>\n",
              "      <td>14</td>\n",
              "      <td>83.0</td>\n",
              "      <td>9</td>\n",
              "      <td>False</td>\n",
              "      <td>...</td>\n",
              "      <td>84.0</td>\n",
              "      <td>3</td>\n",
              "      <td>234.0</td>\n",
              "      <td>424.0</td>\n",
              "      <td>4</td>\n",
              "      <td>7</td>\n",
              "      <td>2015</td>\n",
              "      <td>408176.0</td>\n",
              "      <td>другое</td>\n",
              "      <td>7.0</td>\n",
              "    </tr>\n",
              "    <tr>\n",
              "      <th>4</th>\n",
              "      <td>2</td>\n",
              "      <td>10000000</td>\n",
              "      <td>100.0</td>\n",
              "      <td>2018-06-19</td>\n",
              "      <td>2</td>\n",
              "      <td>3.03</td>\n",
              "      <td>14</td>\n",
              "      <td>32.0</td>\n",
              "      <td>13</td>\n",
              "      <td>False</td>\n",
              "      <td>...</td>\n",
              "      <td>112.0</td>\n",
              "      <td>1</td>\n",
              "      <td>48.0</td>\n",
              "      <td>121.0</td>\n",
              "      <td>1</td>\n",
              "      <td>6</td>\n",
              "      <td>2018</td>\n",
              "      <td>100000.0</td>\n",
              "      <td>другое</td>\n",
              "      <td>8.0</td>\n",
              "    </tr>\n",
              "  </tbody>\n",
              "</table>\n",
              "<p>5 rows × 28 columns</p>\n",
              "</div>"
            ],
            "text/plain": [
              "   total_images  last_price  total_area first_day_exposition  rooms  \\\n",
              "0            20    13000000       108.0           2019-03-07      3   \n",
              "1             7     3350000        40.4           2018-12-04      1   \n",
              "2            10     5196000        56.0           2015-08-20      2   \n",
              "3             0    64900000       159.0           2015-07-24      3   \n",
              "4             2    10000000       100.0           2018-06-19      2   \n",
              "\n",
              "   ceiling_height  floors_total  living_area  floor  is_apartment  ...  \\\n",
              "0            2.70            16         51.0      8         False  ...   \n",
              "1            2.65            11         19.0      1         False  ...   \n",
              "2            2.65             5         34.0      4         False  ...   \n",
              "3            2.65            14         83.0      9         False  ...   \n",
              "4            3.03            14         32.0     13         False  ...   \n",
              "\n",
              "   parks_nearest  ponds_around3000  ponds_nearest  days_exposition  \\\n",
              "0          482.0                 2          755.0              NaN   \n",
              "1            0.0                 0            0.0             81.0   \n",
              "2           90.0                 2          574.0            558.0   \n",
              "3           84.0                 3          234.0            424.0   \n",
              "4          112.0                 1           48.0            121.0   \n",
              "\n",
              "  week_exposition  month_exposition  year_exposition  price_per_square_meter  \\\n",
              "0               3                 3             2019                120370.0   \n",
              "1               1                12             2018                 82921.0   \n",
              "2               3                 8             2015                 92786.0   \n",
              "3               4                 7             2015                408176.0   \n",
              "4               1                 6             2018                100000.0   \n",
              "\n",
              "   floor_type  city_сenters_nearest_km  \n",
              "0      другое                     16.0  \n",
              "1      первый                     19.0  \n",
              "2      другое                     14.0  \n",
              "3      другое                      7.0  \n",
              "4      другое                      8.0  \n",
              "\n",
              "[5 rows x 28 columns]"
            ]
          },
          "execution_count": 18,
          "metadata": {},
          "output_type": "execute_result"
        }
      ],
      "source": [
        "data.head()"
      ]
    },
    {
      "cell_type": "code",
      "execution_count": null,
      "metadata": {
        "colab": {
          "base_uri": "https://localhost:8080/",
          "height": 1000
        },
        "id": "K4i09vG8V-F9",
        "outputId": "43685e70-6c6d-413e-d748-ec60842352a3",
        "scrolled": false
      },
      "outputs": [
        {
          "name": "stdout",
          "output_type": "stream",
          "text": [
            "count    23699.000000\n",
            "mean        60.348651\n",
            "std         35.654083\n",
            "min         12.000000\n",
            "25%         40.000000\n",
            "50%         52.000000\n",
            "75%         69.900000\n",
            "max        900.000000\n",
            "Name: total_area, dtype: float64\n"
          ]
        },
        {
          "data": {
            "image/png": "[encoded data removed]",
            "text/plain": [
              "<Figure size 648x432 with 1 Axes>"
            ]
          },
          "metadata": {
            "needs_background": "light"
          },
          "output_type": "display_data"
        },
        {
          "data": {
            "image/png": "[encoded data removed]",
            "text/plain": [
              "<Figure size 648x432 with 1 Axes>"
            ]
          },
          "metadata": {
            "needs_background": "light"
          },
          "output_type": "display_data"
        }
      ],
      "source": [
        "#Строю гистограмму общей площади\n",
        "print(data['total_area'].describe())\n",
        "\n",
        "plt.figure(figsize=(9, 6))\n",
        "plt.hist(data['total_area'], bins=200, color='green')\n",
        "\n",
        "plt.xlabel('Площадь')\n",
        "plt.ylabel('Количество')\n",
        "plt.title('Total area')\n",
        "\n",
        "plt.show()\n",
        "\n",
        "\n",
        "plt.figure(figsize=(9, 6))\n",
        "plt.hist(data['total_area'], bins=200, range=(1, 180), color='green')\n",
        "\n",
        "plt.xlabel('Площадь')\n",
        "plt.ylabel('Количество')\n",
        "plt.title('Total area')\n",
        "\n",
        "plt.show()\n",
        "\n",
        "#Создаю столбец с отфильтрованными значениями\n",
        "data['good_total_area'] = np.where(data['total_area'] < 180, data['total_area'], np.nan)"
      ]
    },
    {
      "cell_type": "markdown",
      "metadata": {
        "id": "-VRnTjfXjBCM"
      },
      "source": [
        "<b>Вывод по гистрограмме жилой площади:</b>\n",
        "\n",
        "- График распределиения выглядит нормально, нет аномально больших просадок, те что иногда видны можно отнести к типовой застройке целых микрорайонов, где могут быть тысячи квартир одной площади.\n",
        "- Максимльное значение в 900кв.м можно отнести к крайне редким исключениям, а минимум в 12кв.м к студии, оба значения имеют место в реальности\n",
        "- После порога в 100кв.м предложений логично становится меньше, а самая популярная квадратура, как в реальности, так и на графике преобладает (значения от 30 до 70~80кв.м)"
      ]
    },
    {
      "cell_type": "code",
      "execution_count": null,
      "metadata": {
        "colab": {
          "base_uri": "https://localhost:8080/",
          "height": 472
        },
        "id": "NNeYjh1CheeK",
        "outputId": "0a6f0e90-10f9-40d2-ac6f-8a641582a77d",
        "scrolled": true
      },
      "outputs": [
        {
          "data": {
            "image/png": "[encoded data removed]",
            "text/plain": [
              "<Figure size 432x288 with 1 Axes>"
            ]
          },
          "metadata": {
            "needs_background": "light"
          },
          "output_type": "display_data"
        }
      ],
      "source": [
        "#Построение гистограммы по жилой площади, сразу минимизирую выбросы и поставлю ограничение\n",
        "plt.hist(data['living_area'], bins=150, range=(1, 100), color='yellow', edgecolor='black')\n",
        "\n",
        "plt.xlabel('Living Area')\n",
        "plt.ylabel('Frequency')\n",
        "plt.title('Histogram of Living Area')\n",
        "\n",
        "plt.show()\n",
        "data['living_area'].describe()\n",
        "\n",
        "#Создам выборку\n",
        "data['good_living_area'] = np.where(data['living_area'] < 100, data['living_area'], np.nan)"
      ]
    },
    {
      "cell_type": "markdown",
      "metadata": {
        "id": "KXpJxhCYh_AJ"
      },
      "source": [
        "<b>Вывод по гистрограмме жилой площади:</b>\n",
        "\n",
        "В сравнении с гистрограммой общей площади наблюдается провал в значениях от 20 до 28-30кв.м, это может быть связано с переходом от 1к.кв или студий к 2к.кв, однушек с жилой площадью 20+ не так много, двушки соответственно появившись в данных задрали планку жилой площади, из-за чего и образовался провал, в меньшей степени наблюдается скачок в диапазоне 34~40кв.м, возможно это переход к 3к.кв"
      ]
    },
    {
      "cell_type": "code",
      "execution_count": null,
      "metadata": {
        "colab": {
          "base_uri": "https://localhost:8080/"
        },
        "id": "8kJ9p0A4BR7h",
        "outputId": "8e36b8f9-3858-46c1-b54e-f37710c102f9"
      },
      "outputs": [
        {
          "name": "stdout",
          "output_type": "stream",
          "text": [
            "['Solarize_Light2', '_classic_test_patch', 'bmh', 'classic', 'dark_background', 'fast', 'fivethirtyeight', 'ggplot', 'grayscale', 'seaborn', 'seaborn-bright', 'seaborn-colorblind', 'seaborn-dark', 'seaborn-dark-palette', 'seaborn-darkgrid', 'seaborn-deep', 'seaborn-muted', 'seaborn-notebook', 'seaborn-paper', 'seaborn-pastel', 'seaborn-poster', 'seaborn-talk', 'seaborn-ticks', 'seaborn-white', 'seaborn-whitegrid', 'tableau-colorblind10']\n"
          ]
        }
      ],
      "source": [
        "print(plt.style.available)"
      ]
    },
    {
      "cell_type": "code",
      "execution_count": null,
      "metadata": {
        "colab": {
          "base_uri": "https://localhost:8080/",
          "height": 564
        },
        "id": "YBkpfGpjO7WF",
        "outputId": "58c3e3be-58fc-447c-c736-1dd2cf1b0c61"
      },
      "outputs": [
        {
          "data": {
            "image/png": "[encoded data removed]",
            "text/plain": [
              "<Figure size 648x432 with 1 Axes>"
            ]
          },
          "metadata": {
            "needs_background": "light"
          },
          "output_type": "display_data"
        }
      ],
      "source": [
        "#Гистограмма площади кухни\n",
        "plt.figure(figsize=(9, 6))\n",
        "plt.hist(data['kitchen_area'], bins=100, range=(1, 50), color='black', edgecolor='blue')\n",
        "\n",
        "plt.xlabel('kitchen_area')\n",
        "plt.ylabel('Количество')\n",
        "plt.title('Площадь кухни')\n",
        "\n",
        "plt.show()\n",
        "data['kitchen_area'].describe()\n",
        "\n",
        "\n",
        "#Создам выборку\n",
        "data['good_kitchen_area'] = np.where(data['kitchen_area'] < 50, data['kitchen_area'], np.nan)"
      ]
    },
    {
      "cell_type": "markdown",
      "metadata": {
        "id": "GS8M6Opr00_9"
      },
      "source": [
        "<b>Вывод по гистрограмме площади кухни:</b>\n",
        "\n",
        "- Пик значений приходится на квадратуру до 10м, это может быть связанно с маленькими кухнями в постройках типа: панельки, сталинки, хрущёвки и прочие преобладающие в архитектуре особенно небольших городов\n",
        "- Максимальные значения можно отнести к апартаментам\n",
        "- Минимум в 1кв.м кажется аномальным, в студиях квадратура кухни не прописывается, но эта цифра может быть связана с возможными пропусками в столбце площади кухни (что логично в случае студии), которые я заполнил коэффициентом от общей площади"
      ]
    },
    {
      "cell_type": "code",
      "execution_count": null,
      "metadata": {
        "colab": {
          "base_uri": "https://localhost:8080/",
          "height": 648
        },
        "id": "Vyj_GShtcFEo",
        "outputId": "605c4aa7-9de4-4f64-d1bf-a75884698598",
        "scrolled": false
      },
      "outputs": [
        {
          "name": "stdout",
          "output_type": "stream",
          "text": [
            "count    23699.000000\n",
            "mean         6.541549\n",
            "std         10.887013\n",
            "min          0.012000\n",
            "25%          3.400000\n",
            "50%          4.650000\n",
            "75%          6.800000\n",
            "max        763.000000\n",
            "Name: good_price, dtype: float64\n"
          ]
        },
        {
          "data": {
            "image/png": "[encoded data removed]",
            "text/plain": [
              "<Figure size 720x360 with 1 Axes>"
            ]
          },
          "metadata": {},
          "output_type": "display_data"
        }
      ],
      "source": [
        "#Рассмотрим цену\n",
        "data['good_price'] = (data['last_price'] / 1000000).round(3)\n",
        "print(data['good_price'].describe())\n",
        "\n",
        "plt.style.use('dark_background')\n",
        "plt.figure(figsize=(10, 5))\n",
        "plt.hist(data['good_price'], bins=250, range=(0, 40), color='red', edgecolor='white')\n",
        "\n",
        "plt.xlabel('цена')\n",
        "plt.ylabel('Количество')\n",
        "plt.title('price')\n",
        "\n",
        "plt.show()"
      ]
    },
    {
      "cell_type": "markdown",
      "metadata": {
        "id": "AjL0Pgy402hK"
      },
      "source": [
        "<b>Вывод по гистрограмме цены:</b>\n",
        "\n",
        "- Максимальное значение цены кажется аномально большим, в десятки раз превосходя первые значения Q3, но они кажутся сопоставимы с площадью в 900кв.м, но в реальности объектов свыше 100млн крайне редко, плюс их редко покупают, да и по сравнению со всеми данными эти обхекты находятся в зоне выброса, не буду их рассматривать для дальнейших исслеований\n",
        "- Пик значений приходится на 4-5млн., затем происходит постепенный спад, что соответствует предыдущим гистограммам\n",
        "- Минимальное значение в 12к слишком мало для действительности, стоит рассматривать объекты стоимостью свыше 1млн."
      ]
    },
    {
      "cell_type": "code",
      "execution_count": null,
      "metadata": {
        "id": "_g8167qqQW7z"
      },
      "outputs": [],
      "source": [
        "#Созданние данных для фильтрации и последующего анализа\n",
        "data['min_good_price'] = np.where(data['good_price'] > 1, data['good_price'], np.nan)\n",
        "data['max_good_price'] = np.where(data['good_price'] < 40, data['good_price'], np.nan)"
      ]
    },
    {
      "cell_type": "code",
      "execution_count": null,
      "metadata": {
        "colab": {
          "base_uri": "https://localhost:8080/",
          "height": 641
        },
        "id": "wQP75Orhfei_",
        "outputId": "765ee2aa-f5cb-4ce8-bad8-3fcbe8e05543"
      },
      "outputs": [
        {
          "name": "stdout",
          "output_type": "stream",
          "text": [
            "count    23699.000000\n",
            "mean         2.070636\n",
            "std          1.078405\n",
            "min          0.000000\n",
            "25%          1.000000\n",
            "50%          2.000000\n",
            "75%          3.000000\n",
            "max         19.000000\n",
            "Name: rooms, dtype: float64\n"
          ]
        },
        {
          "data": {
            "image/png": "[encoded data removed]",
            "text/plain": [
              "<Figure size 720x360 with 1 Axes>"
            ]
          },
          "metadata": {},
          "output_type": "display_data"
        }
      ],
      "source": [
        "#Количество комнат\n",
        "print(data['rooms'].describe())\n",
        "\n",
        "plt.style.use('seaborn-v0_8-whitegrid')\n",
        "plt.figure(figsize=(10, 5))\n",
        "plt.hist(data['rooms'], range=(0, 8), bins=30, edgecolor='green')\n",
        "\n",
        "plt.xlabel('Комнаты')\n",
        "plt.ylabel('Количество')\n",
        "plt.title('Rooms')\n",
        "\n",
        "plt.show()\n",
        "\n",
        "#Создам выборку для дальнейших анализов\n",
        "data['good_rooms'] = np.where(data['rooms'] < 8, data['rooms'], np.nan)"
      ]
    },
    {
      "cell_type": "markdown",
      "metadata": {
        "id": "WAQFmE-8J54m"
      },
      "source": [
        "<b>Вывод по гистрограмме количества комнат:</b>\n",
        "\n",
        "- Нулевые значения можно объяснить наличием студий в данных, собственник размещая объявление о продаже студии, мог указать нулевое количество из-за специфики данного вида жилья\n",
        "- Спад после 3к.кв объясняется малым количеством в новостройках и домах старого фонда большего числа комнат\n",
        "- Пиковое значение в 19 комант опят-же соотносим с квартирами площадью 500+"
      ]
    },
    {
      "cell_type": "code",
      "execution_count": null,
      "metadata": {
        "colab": {
          "base_uri": "https://localhost:8080/"
        },
        "id": "Vns9WZE0VX7i",
        "outputId": "ea7b2543-f347-42c5-9420-334447b9d313"
      },
      "outputs": [
        {
          "name": "stdout",
          "output_type": "stream",
          "text": [
            "count    23699.000000\n",
            "mean         2.724358\n",
            "std          0.988298\n",
            "min          1.000000\n",
            "25%          2.600000\n",
            "50%          2.650000\n",
            "75%          2.700000\n",
            "max        100.000000\n",
            "Name: ceiling_height, dtype: float64\n",
            "[  2.7    2.65   3.03   2.5    2.67   2.56   3.05   2.75   2.6    2.9\n",
            "   2.8    2.55   3.     3.2    2.61   3.25   3.45   2.77   2.85   2.64\n",
            "   2.57   4.15   3.5    3.3    2.71   4.     2.47   2.73   2.84   3.1\n",
            "   2.34   3.4    3.06   2.72   2.54   2.51   2.78   2.76  25.     2.58\n",
            "   3.7    2.52   5.2    2.87   2.66   2.59   2.     2.45   3.6    2.92\n",
            "   3.11   3.13   3.8    3.15   3.55   3.16   3.62   3.12   2.53   2.74\n",
            "   2.96   2.46   5.3    5.     2.79   2.95   4.06   2.94   3.82   3.54\n",
            "   3.53   2.83   4.7    2.4    3.38   3.01   5.6    3.65   3.9    3.18\n",
            "   3.35   2.3    3.57   2.48   2.62   2.82   3.98   2.63   3.83   3.52\n",
            "   3.95   3.75   2.88   3.67   3.87   3.66   3.85   3.86   4.19   3.24\n",
            "   4.8    4.5    4.2    3.36  32.     3.08   3.68   3.07   3.37   3.09\n",
            "   8.     3.26   3.34   2.81   3.44   2.97   3.14   4.37   2.68   3.22\n",
            "   3.27  27.     4.1    2.93   3.46  24.     3.47   3.33   3.63   3.32\n",
            "  26.     1.2    8.3    2.98   2.86   3.17   4.4    3.28   3.04   4.45\n",
            "   5.5    3.84   3.23   3.02   3.21   3.43   3.78   4.3    3.39   2.69\n",
            "   3.31   4.65   3.56   2.2    3.51   3.93   3.42   2.99   3.49  14.\n",
            "   4.14   2.91   3.88   1.75   4.25   3.29  20.     2.25   3.76   3.69\n",
            "   6.    22.6    2.89   3.58   5.8   27.5    2.49   4.9    3.48  10.3\n",
            "   1.   100.     3.59]\n",
            "count    23699.000000\n",
            "mean         2.697798\n",
            "std          0.237643\n",
            "min          1.000000\n",
            "25%          2.600000\n",
            "50%          2.650000\n",
            "75%          2.700000\n",
            "max         10.000000\n",
            "Name: ceiling_height, dtype: float64\n"
          ]
        }
      ],
      "source": [
        "#Оценка столбца\n",
        "print(data['ceiling_height'].describe())\n",
        "#Оценка уникальных значений\n",
        "print(data['ceiling_height'].unique())\n",
        "#Изменю значения потолка выше 10м, ведь они могли быть полученны ошибочно\n",
        "data['ceiling_height'] = data['ceiling_height'].apply(lambda x: x / 10 if x > 10 else x)\n",
        "#Проверка\n",
        "print(data['ceiling_height'].describe())"
      ]
    },
    {
      "cell_type": "code",
      "execution_count": null,
      "metadata": {
        "colab": {
          "base_uri": "https://localhost:8080/",
          "height": 718
        },
        "id": "I5Jb1_cCffuX",
        "outputId": "0fe5f2ac-5e5c-4d49-ffeb-c4d3a6e5acf2",
        "scrolled": false
      },
      "outputs": [
        {
          "name": "stdout",
          "output_type": "stream",
          "text": [
            "count    23699.000000\n",
            "mean         2.697798\n",
            "std          0.237643\n",
            "min          1.000000\n",
            "25%          2.600000\n",
            "50%          2.650000\n",
            "75%          2.700000\n",
            "max         10.000000\n",
            "Name: ceiling_height, dtype: float64\n"
          ]
        },
        {
          "data": {
            "image/png": "[encoded data removed]",
            "text/plain": [
              "<Figure size 648x432 with 1 Axes>"
            ]
          },
          "metadata": {},
          "output_type": "display_data"
        }
      ],
      "source": [
        "#Высота потолков\n",
        "print(data['ceiling_height'].describe())\n",
        "\n",
        "plt.figure(figsize=(9, 6))\n",
        "plt.hist(data['ceiling_height'], range=(1, 5), bins=100, edgecolor='green')\n",
        "\n",
        "plt.xlabel('Высота')\n",
        "plt.ylabel('Количество')\n",
        "plt.title('height')\n",
        "\n",
        "plt.show()\n",
        "\n",
        "#Потолок меньше 2м и свыше 4м редкое явление, устраню их\n",
        "data['good_height_min'] = np.where(data['ceiling_height'] > 2, data['ceiling_height'], np.nan)\n",
        "data['good_height_max'] = np.where(data['ceiling_height'] < 5, data['ceiling_height'], np.nan)"
      ]
    },
    {
      "cell_type": "markdown",
      "metadata": {
        "id": "zPpJ9veYbBEz"
      },
      "source": [
        "<b>Вывод по гистрограмме высоты потолка:</b>\n",
        "\n",
        "- Шагами выше уже исправил аномалии в данных\n",
        "- В дальнейшем буду рассматривать потолки только > 2 и < 4м, остальные крайне редки\n",
        "- Пик приходися на высоту 2,7; которая зачастую является эталоном при строительстве"
      ]
    },
    {
      "cell_type": "code",
      "execution_count": null,
      "metadata": {
        "colab": {
          "base_uri": "https://localhost:8080/",
          "height": 557
        },
        "id": "9xot5STcrBXk",
        "outputId": "782f679c-53fa-4f06-dce3-d991292c8ed6"
      },
      "outputs": [
        {
          "data": {
            "image/png": "[encoded data removed]",
            "text/plain": [
              "<Figure size 648x432 with 1 Axes>"
            ]
          },
          "metadata": {},
          "output_type": "display_data"
        }
      ],
      "source": [
        "#Тип этажа квартиры\n",
        "plt.figure(figsize=(9, 6))\n",
        "plt.hist(data['floor_type'], edgecolor='green')\n",
        "\n",
        "plt.xlabel('Тип')\n",
        "plt.ylabel('Количество')\n",
        "plt.title('floor type')\n",
        "\n",
        "plt.show()"
      ]
    },
    {
      "cell_type": "markdown",
      "metadata": {
        "id": "khjqILAzcpi5"
      },
      "source": [
        "<b>Вывод по гистрограмме типа этажа</b>\n",
        "\n",
        "- Странности или аномалии отсутсвуют\n",
        "- Преобладание \"другого\" типа этажа обусловленно тем, что условно в 5 этажке 3 из 5 значений будут \"другого\" типа (это средний этаж)"
      ]
    },
    {
      "cell_type": "code",
      "execution_count": null,
      "metadata": {
        "colab": {
          "base_uri": "https://localhost:8080/",
          "height": 718
        },
        "id": "ICuU9wOIr86b",
        "outputId": "a68bb84d-4464-4316-be16-ef02b025642d",
        "scrolled": false
      },
      "outputs": [
        {
          "name": "stdout",
          "output_type": "stream",
          "text": [
            "count    23699.000000\n",
            "mean        10.635090\n",
            "std          6.616396\n",
            "min          0.000000\n",
            "25%          5.000000\n",
            "50%          9.000000\n",
            "75%         16.000000\n",
            "max         60.000000\n",
            "Name: floors_total, dtype: float64\n"
          ]
        },
        {
          "data": {
            "image/png": "[encoded data removed]",
            "text/plain": [
              "<Figure size 648x432 with 1 Axes>"
            ]
          },
          "metadata": {},
          "output_type": "display_data"
        }
      ],
      "source": [
        "#Этажность\n",
        "print(data['floors_total'].describe())\n",
        "\n",
        "plt.figure(figsize=(9, 6))\n",
        "plt.hist(data['floors_total'], range=(1, 30), bins=100, edgecolor='green')\n",
        "\n",
        "plt.xlabel('этажность')\n",
        "plt.ylabel('Количество')\n",
        "plt.title('floors total')\n",
        "\n",
        "plt.show()\n",
        "\n",
        "data['good_total_floors'] = np.where(data['floors_total'] < 30, data['floors_total'], np.nan)"
      ]
    },
    {
      "cell_type": "markdown",
      "metadata": {
        "id": "JxNIkgysd-Ya"
      },
      "source": [
        "<b>Вывод по гистрограмме количества жтажей</b>\n",
        "\n",
        "- Преобладают пятиэтажки, являясь самым распространенным строением в большинстве городов, этим-же обусловлено и количество девятиэтажек\n",
        "- Строения выше 30 этажей крайне редки, исключу их"
      ]
    },
    {
      "cell_type": "code",
      "execution_count": null,
      "metadata": {
        "colab": {
          "base_uri": "https://localhost:8080/",
          "height": 1000
        },
        "id": "C09MSE2tsadK",
        "outputId": "6ac7ff8f-18e5-47ce-ef4c-4a6a8f37b57b"
      },
      "outputs": [
        {
          "name": "stdout",
          "output_type": "stream",
          "text": [
            "count    23699.000000\n",
            "mean     10886.426896\n",
            "std       9634.613697\n",
            "min          0.000000\n",
            "25%       2242.000000\n",
            "50%      11247.000000\n",
            "75%      15248.500000\n",
            "max      65968.000000\n",
            "Name: city_centers_nearest, dtype: float64\n"
          ]
        },
        {
          "data": {
            "image/png": "[encoded data removed]",
            "text/plain": [
              "<Figure size 648x432 with 1 Axes>"
            ]
          },
          "metadata": {},
          "output_type": "display_data"
        },
        {
          "data": {
            "image/png": "[encoded data removed]",
            "text/plain": [
              "<Figure size 648x432 with 1 Axes>"
            ]
          },
          "metadata": {},
          "output_type": "display_data"
        }
      ],
      "source": [
        "#Расстояние до центра в метрах\n",
        "print(data['city_centers_nearest'].describe())\n",
        "\n",
        "\n",
        "plt.figure(figsize=(9, 6))\n",
        "plt.hist(data['city_centers_nearest'], range=(0, 60000), bins=200, edgecolor='green')\n",
        "\n",
        "plt.xlabel('Расстояние до центра')\n",
        "plt.ylabel('Количество')\n",
        "plt.title('city centers nearest')\n",
        "\n",
        "plt.show()\n",
        "\n",
        "\n",
        "#Расстояние без 0\n",
        "plt.figure(figsize=(9, 6))\n",
        "plt.hist(data['city_centers_nearest'], range=(1, 60000), bins=200, edgecolor='green')\n",
        "\n",
        "plt.xlabel('Расстояние до центра')\n",
        "plt.ylabel('Количество')\n",
        "plt.title('city centers nearest')\n",
        "\n",
        "plt.show()\n",
        "\n",
        "#Создам столбец для фильтрации от 0\n",
        "data['good_center_nearest'] = np.where(data['city_centers_nearest'] >= 1, data['city_centers_nearest'], np.nan)"
      ]
    },
    {
      "cell_type": "markdown",
      "metadata": {
        "id": "8LZoCf8YmQ00"
      },
      "source": [
        "<b>Вывод по гистрограмме расстояния до центра</b>\n",
        "\n",
        "- Нулевые значения я на этапе предобрабоки поставил сам, сами пропуски, а теперь нули могут говорить о том, что здание в целом находится в центре, из-за чего и расстояние нулевое. В дальнейшем не буду опираться на нули, их слишком много, плюс в центре города не может быть значительно больше квартир, в отличии от отдаления в 1км и тд\n",
        "- Максимальное количество квартир именно в пределах 2км от центра, может быть связанно с исторически сложившейся застройкой (муниципальные учреждения, театры/музеи, объекты культуры, парки, магазины и прочее в центре, а уже на периферии жилые квартары)\n",
        "- Небольшие \"всплески\" на 3 и 6к могут быть связанны с расширением городов и застройкой новых жилых микрорайонов"
      ]
    },
    {
      "cell_type": "code",
      "execution_count": null,
      "metadata": {
        "colab": {
          "base_uri": "https://localhost:8080/",
          "height": 1000
        },
        "id": "QKuTKvWGtv7I",
        "outputId": "954a52e5-5d5b-4d0a-f921-cf8adc9571f2"
      },
      "outputs": [
        {
          "name": "stdout",
          "output_type": "stream",
          "text": [
            "count    23699.000000\n",
            "mean       167.315499\n",
            "std        306.709997\n",
            "min          0.000000\n",
            "25%          0.000000\n",
            "50%          0.000000\n",
            "75%        301.000000\n",
            "max       3190.000000\n",
            "Name: parks_nearest, dtype: float64\n"
          ]
        },
        {
          "data": {
            "image/png": "[encoded data removed]",
            "text/plain": [
              "<Figure size 648x432 with 1 Axes>"
            ]
          },
          "metadata": {},
          "output_type": "display_data"
        },
        {
          "data": {
            "image/png": "[encoded data removed]",
            "text/plain": [
              "<Figure size 648x432 with 1 Axes>"
            ]
          },
          "metadata": {},
          "output_type": "display_data"
        }
      ],
      "source": [
        "#Расстояние до ближайшего парка\n",
        "print(data['parks_nearest'].describe())\n",
        "\n",
        "plt.figure(figsize=(9, 6))\n",
        "plt.hist(data['parks_nearest'], range=(0, 2500), bins=200, edgecolor='green')\n",
        "\n",
        "plt.xlabel('Расстояние')\n",
        "plt.ylabel('Количество')\n",
        "plt.title('parks_nearest')\n",
        "\n",
        "plt.show()\n",
        "\n",
        "#Расстояние без 0\n",
        "plt.figure(figsize=(9, 6))\n",
        "plt.hist(data['parks_nearest'], range=(1, 2500), bins=200, edgecolor='green')\n",
        "\n",
        "plt.xlabel('Расстояние')\n",
        "plt.ylabel('Количество')\n",
        "plt.title('parks nearest')\n",
        "\n",
        "plt.show()\n",
        "\n",
        "#Создам столбец для фильтрации от 0\n",
        "data['good_parks_nearest'] = np.where(data['parks_nearest'] >= 1, data['parks_nearest'], np.nan)"
      ]
    },
    {
      "cell_type": "markdown",
      "metadata": {
        "id": "UWSKDMGoroND"
      },
      "source": [
        "<b>Вывод по гистрограмме расстояния до парка</b>\n",
        "\n",
        "- Снова множесто нулей, гипотеза о нахождении квартиры в парке не сработает, устраню эти значения\n",
        "- Парки в большинстве случаев находятся в \"шаговой\" доступности (около 800м), что вполне сопоставимо с реальностью, гже парковые зоны находятся максимально близко к ЖК или желым секторам\n",
        "- значения в 3км можно объяснить наличием одного парка в населённом пункте или же сама квартира находится на какой-либо окраине"
      ]
    },
    {
      "cell_type": "code",
      "execution_count": null,
      "metadata": {
        "colab": {
          "base_uri": "https://localhost:8080/",
          "height": 1000
        },
        "id": "GdE7ceenzjmY",
        "outputId": "6899a77d-2d8c-498a-a52a-d98bf66167dd",
        "scrolled": false
      },
      "outputs": [
        {
          "name": "stdout",
          "output_type": "stream",
          "text": [
            "count    20518.000000\n",
            "mean       180.888634\n",
            "std        219.727988\n",
            "min          1.000000\n",
            "25%         45.000000\n",
            "50%         95.000000\n",
            "75%        232.000000\n",
            "max       1580.000000\n",
            "Name: days_exposition, dtype: float64\n"
          ]
        },
        {
          "data": {
            "image/png": "[encoded data removed]",
            "text/plain": [
              "<Figure size 648x432 with 1 Axes>"
            ]
          },
          "metadata": {},
          "output_type": "display_data"
        },
        {
          "data": {
            "image/png": "[encoded data removed]",
            "text/plain": [
              "<Figure size 648x432 with 1 Axes>"
            ]
          },
          "metadata": {},
          "output_type": "display_data"
        }
      ],
      "source": [
        "#Построение графика скорости продаж\n",
        "print(data['days_exposition'].describe())\n",
        "\n",
        "\n",
        "plt.figure(figsize=(9, 6))\n",
        "plt.hist(data['days_exposition'], range=(0, 1500), bins=200, edgecolor='green')\n",
        "\n",
        "plt.xlabel('Дни')\n",
        "plt.ylabel('Количество')\n",
        "plt.title('days_exposition')\n",
        "\n",
        "plt.show()\n",
        "\n",
        "\n",
        "#Приближу дни\n",
        "plt.figure(figsize=(9, 6))\n",
        "plt.hist(data['days_exposition'], range=(0, 500), bins=250, edgecolor='green')\n",
        "\n",
        "plt.xlabel('Дни')\n",
        "plt.ylabel('Количество')\n",
        "plt.title('days_exposition')\n",
        "\n",
        "plt.show()"
      ]
    },
    {
      "cell_type": "markdown",
      "metadata": {
        "id": "m3M0Mp7fwEGW"
      },
      "source": [
        "<b>Вывод по гистрограмме скорости продаж:</b>\n",
        "\n",
        "- Максимальный срок продажи в 5 лет, можно объяснить наличием в базе объектов площадью < 300кв.м и стоимостью свыше 100млн, таких объектов крайне мало, но они создают огромные пиковые значения\n",
        "- На графике заметны два скачка количества продаж во второй месяц. Логического обоснования этому нет, возможно многие собственники видя застой в реализации своей квартиры снижают цены, что и приводит к продаже, но маловероятно что так много нетерпеливых людей, в тоже время мало кто без срочности в деньгах или веских причин продаёт недвижимость\n",
        "- На гистограмме наблюдается постепенный спад в количестве продаж зависящий от времени публикации, что вполне реально, интереснейшие предложения разбирают относительно быстро, оставляя некоторые квартиры ждать \"своего\" покупателя"
      ]
    },
    {
      "cell_type": "code",
      "execution_count": null,
      "metadata": {
        "colab": {
          "base_uri": "https://localhost:8080/",
          "height": 1000
        },
        "id": "XrHnLqgVGx7p",
        "outputId": "c6207eba-3bd3-4912-f644-420e90a92e8c",
        "scrolled": false
      },
      "outputs": [
        {
          "data": {
            "image/png": "[encoded data removed]",
            "text/plain": [
              "<Figure size 648x432 with 1 Axes>"
            ]
          },
          "metadata": {},
          "output_type": "display_data"
        },
        {
          "data": {
            "image/png": "[encoded data removed]",
            "text/plain": [
              "<Figure size 648x432 with 1 Axes>"
            ]
          },
          "metadata": {},
          "output_type": "display_data"
        },
        {
          "data": {
            "image/png": "[encoded data removed]",
            "text/plain": [
              "<Figure size 648x432 with 1 Axes>"
            ]
          },
          "metadata": {},
          "output_type": "display_data"
        },
        {
          "data": {
            "image/png": "[encoded data removed]",
            "text/plain": [
              "<Figure size 648x432 with 1 Axes>"
            ]
          },
          "metadata": {},
          "output_type": "display_data"
        }
      ],
      "source": [
        "# Создание сводных таблиц для анализа зависимости цены от некоторых из параметров\n",
        "price_vs_total_area = data.pivot_table(index='good_total_area', values=['good_price'], aggfunc='mean')\n",
        "price_vs_living_area = data.pivot_table(index='good_living_area', values='good_price', aggfunc='mean')\n",
        "price_vs_kitchen_area = data.pivot_table(index='good_kitchen_area', values='good_price', aggfunc='mean')\n",
        "price_vs_rooms = data.pivot_table(index='good_rooms', values='good_price', aggfunc='mean')\n",
        "\n",
        "# Построение графиков\n",
        "plt.figure(figsize=(9, 6))\n",
        "plt.plot(price_vs_total_area.index, price_vs_total_area.values, 'b')\n",
        "plt.xlabel('Общая площадь')\n",
        "plt.ylabel('Цена')\n",
        "plt.title('Зависимость цены от общей площади')\n",
        "plt.show()\n",
        "\n",
        "plt.figure(figsize=(9, 6))\n",
        "plt.plot(price_vs_living_area.index, price_vs_living_area.values, 'g')\n",
        "plt.xlabel('Жилая площадь')\n",
        "plt.ylabel('Цена')\n",
        "plt.title('Зависимость цены от жилой площади')\n",
        "plt.show()\n",
        "\n",
        "plt.figure(figsize=(9, 6))\n",
        "plt.plot(price_vs_kitchen_area.index, price_vs_kitchen_area.values, 'orange')\n",
        "plt.xlabel('Площадь кухни')\n",
        "plt.ylabel('Цена')\n",
        "plt.title('Зависимость цены от площади кухни')\n",
        "plt.show()\n",
        "\n",
        "plt.figure(figsize=(9, 6))\n",
        "plt.plot(price_vs_rooms.index, price_vs_rooms.values, '--')\n",
        "plt.xlabel('Количество комнат')\n",
        "plt.ylabel('Цена')\n",
        "plt.title('Зависимость цены от количества комнат')\n",
        "plt.show()"
      ]
    },
    {
      "cell_type": "markdown",
      "metadata": {
        "id": "uyWNbsdp7HIe"
      },
      "source": [
        "<b>Вывод по соотношению цены к общей плошади:</b>\n",
        "\n",
        "- По графику виден постепенный рост цены, со скачками на возможно квартиры в домах премиум класса или близко рассположенные к значимым объектам населённого пункта, а может с хорошим ремонтом, отклонения в цене непостоянны\n",
        "\n",
        "\n",
        "<b>Вывод по соотношению цены к жилой плошади:</b>\n",
        "\n",
        "- Заметен колоссальный скачок цены в диапазоне 5-8кв.м, но вспоминая гистограмму жилой площади, прихожу к выводу что это аномалия, нежели постоянная тенденция (в этом диапазоне значений площади практически нет объявлений, поэтому и скачок так заметен)\n",
        "- Происходит постоянный рост цены, соразмерный росту площади\n",
        "\n",
        "<b>Вывод по соотношению цены к плошади кухни:</b>\n",
        "\n",
        "- Наблюдаю постоянный рост вместе с площадью\n",
        "- Есть провал цены в диапазоне с 40 до 45, но объявлений с такой площадбю не так много, скачок кажется локальным\n",
        "\n",
        "<b>Вывод по соотношению цены к количеству комнат:</b>\n",
        "- Рост, с ускорением от 4комнат, но и предложений становится меньше после 3к.кв, это и может быть причиной ускоренного роста цены"
      ]
    },
    {
      "cell_type": "code",
      "execution_count": null,
      "metadata": {
        "colab": {
          "base_uri": "https://localhost:8080/",
          "height": 500
        },
        "id": "sl7hu9h7Pr0F",
        "outputId": "b89815e8-6170-4c55-eaa5-3b4ac8253d80"
      },
      "outputs": [
        {
          "data": {
            "image/png": "[encoded data removed]",
            "text/plain": [
              "<Figure size 432x288 with 1 Axes>"
            ]
          },
          "metadata": {},
          "output_type": "display_data"
        }
      ],
      "source": [
        "#Оценка зависимости типа этажа от цены\n",
        "data.groupby('floor_type')['good_price'].mean().plot.bar(color=['black', 'blue', 'green']);"
      ]
    },
    {
      "cell_type": "markdown",
      "metadata": {
        "id": "tEtyOaQSR-cg"
      },
      "source": [
        "<b>Вывод по оценке зависимости типа этажа от цены:</b>\n",
        "\n",
        "- Неожиданно, но лидером по в цене является последний этаж, но следует учитывать моё вмешательство в наполнение этого столбца (ведь не указав этаж собственник мог и первый скрывать)\n",
        "- Первый этаж оценивается дешевле всего из трёх категорий, минусов у первых этажей полно\n",
        "- Средний - оценивается посередине"
      ]
    },
    {
      "cell_type": "code",
      "execution_count": null,
      "metadata": {
        "colab": {
          "base_uri": "https://localhost:8080/",
          "height": 1000
        },
        "id": "GHq1mselY78S",
        "outputId": "f8194fd4-a3a2-422f-bac2-2cbd8c339066"
      },
      "outputs": [
        {
          "data": {
            "image/png": "[encoded data removed]",
            "text/plain": [
              "<Figure size 720x1080 with 3 Axes>"
            ]
          },
          "metadata": {},
          "output_type": "display_data"
        }
      ],
      "source": [
        "#Создаю переменные с группировкой дней/месяцев/лет и цены\n",
        "df_year = data.groupby('year_exposition')['good_price'].mean()\n",
        "df_month = data.groupby('month_exposition')['good_price'].mean()\n",
        "df_week = data.groupby('week_exposition')['good_price'].mean()\n",
        "\n",
        "#Создаю фигуру в которой будут данные\n",
        "fig, axs = plt.subplots(3, 1, figsize=(10, 15))\n",
        "\n",
        "#Строю таблицы\n",
        "df_year.plot(kind='bar', ax=axs[0], edgecolor='green')\n",
        "df_month.plot(kind='bar', ax=axs[1], edgecolor='green')\n",
        "df_week.plot(kind='bar', ax=axs[2], edgecolor='green')\n",
        "\n",
        "#Именую\n",
        "axs[0].set_title('Year exposition')\n",
        "axs[1].set_title('Month exposition')\n",
        "axs[2].set_title('Week exposition')\n",
        "\n",
        "#Задаю отступы, чтобы графики не перекрли друг-друга и вывожу таблицу\n",
        "plt.tight_layout()\n",
        "plt.show()"
      ]
    },
    {
      "cell_type": "markdown",
      "metadata": {
        "id": "WRwxX8L8Wx5G"
      },
      "source": [
        "<b>Вывод о зависимости даты размещения:</b>\n",
        "\n",
        "- Зависимость от года размещения снижается с начала наблюдений, в 14 году она наибольшая, после чего падает и в 19 снова начинает свой рост. Это можно обосновать событиями в 14 году и потрясениями для Российской экономики и последующей адаптацией\n",
        "\n",
        "- Самое значительное влияние на цену оказывает январь и сентябрь, это можно соотнести со стрессом предшкольной подготовки родителей или близостью нового года с потенциальми расходами на торжества\n",
        "\n",
        "- Субботние дни оказывают на формирование цены наибольшее влиние, многие именно на выходном принимают значимые решения.\n",
        "Пятница и воскресенье оказывают на цену наименьшее влияние, возможно из-за близости выходных/рабочей недели"
      ]
    },
    {
      "cell_type": "code",
      "execution_count": null,
      "metadata": {
        "colab": {
          "base_uri": "https://localhost:8080/",
          "height": 426
        },
        "id": "LS0OwTipwRAy",
        "outputId": "3ee4e046-fbe3-4928-fc06-4e5c8be85c62",
        "scrolled": true
      },
      "outputs": [
        {
          "data": {
            "text/html": [
              "<div>\n",
              "<style scoped>\n",
              "    .dataframe tbody tr th:only-of-type {\n",
              "        vertical-align: middle;\n",
              "    }\n",
              "\n",
              "    .dataframe tbody tr th {\n",
              "        vertical-align: top;\n",
              "    }\n",
              "\n",
              "    .dataframe thead tr th {\n",
              "        text-align: left;\n",
              "    }\n",
              "\n",
              "    .dataframe thead tr:last-of-type th {\n",
              "        text-align: right;\n",
              "    }\n",
              "</style>\n",
              "<table border=\"1\" class=\"dataframe\">\n",
              "  <thead>\n",
              "    <tr>\n",
              "      <th></th>\n",
              "      <th>count</th>\n",
              "      <th>mean</th>\n",
              "    </tr>\n",
              "    <tr>\n",
              "      <th></th>\n",
              "      <th>price_per_square_meter</th>\n",
              "      <th>price_per_square_meter</th>\n",
              "    </tr>\n",
              "    <tr>\n",
              "      <th>locality_name</th>\n",
              "      <th></th>\n",
              "      <th></th>\n",
              "    </tr>\n",
              "  </thead>\n",
              "  <tbody>\n",
              "    <tr>\n",
              "      <th>Санкт-Петербург</th>\n",
              "      <td>15721</td>\n",
              "      <td>114849.005788</td>\n",
              "    </tr>\n",
              "    <tr>\n",
              "      <th>Мурино</th>\n",
              "      <td>590</td>\n",
              "      <td>86087.508475</td>\n",
              "    </tr>\n",
              "    <tr>\n",
              "      <th>Кудрово</th>\n",
              "      <td>472</td>\n",
              "      <td>95324.957627</td>\n",
              "    </tr>\n",
              "    <tr>\n",
              "      <th>Шушары</th>\n",
              "      <td>440</td>\n",
              "      <td>78677.379545</td>\n",
              "    </tr>\n",
              "    <tr>\n",
              "      <th>Всеволожск</th>\n",
              "      <td>398</td>\n",
              "      <td>68654.474874</td>\n",
              "    </tr>\n",
              "    <tr>\n",
              "      <th>Пушкин</th>\n",
              "      <td>369</td>\n",
              "      <td>103125.818428</td>\n",
              "    </tr>\n",
              "    <tr>\n",
              "      <th>Колпино</th>\n",
              "      <td>338</td>\n",
              "      <td>75424.571006</td>\n",
              "    </tr>\n",
              "    <tr>\n",
              "      <th>Парголово</th>\n",
              "      <td>327</td>\n",
              "      <td>90175.886850</td>\n",
              "    </tr>\n",
              "    <tr>\n",
              "      <th>Гатчина</th>\n",
              "      <td>307</td>\n",
              "      <td>68746.110749</td>\n",
              "    </tr>\n",
              "    <tr>\n",
              "      <th>Выборг</th>\n",
              "      <td>237</td>\n",
              "      <td>58141.919831</td>\n",
              "    </tr>\n",
              "  </tbody>\n",
              "</table>\n",
              "</div>"
            ],
            "text/plain": [
              "                                 count                   mean\n",
              "                price_per_square_meter price_per_square_meter\n",
              "locality_name                                                \n",
              "Санкт-Петербург                  15721          114849.005788\n",
              "Мурино                             590           86087.508475\n",
              "Кудрово                            472           95324.957627\n",
              "Шушары                             440           78677.379545\n",
              "Всеволожск                         398           68654.474874\n",
              "Пушкин                             369          103125.818428\n",
              "Колпино                            338           75424.571006\n",
              "Парголово                          327           90175.886850\n",
              "Гатчина                            307           68746.110749\n",
              "Выборг                             237           58141.919831"
            ]
          },
          "execution_count": 37,
          "metadata": {},
          "output_type": "execute_result"
        }
      ],
      "source": [
        "# Создание сводной таблицы с количеством объявлений и средней ценой квадратного метра для каждого населенного пункта\n",
        "ads = data.pivot_table(index='locality_name', values='price_per_square_meter', aggfunc=['count', 'mean'])\n",
        "\n",
        "# Сортировка таблицы по количеству объявлений в порядке убывания\n",
        "ads_sorted = ads.sort_values(by=('count', 'price_per_square_meter'), ascending=False)\n",
        "\n",
        "#Вывод населённых пунктов с наибольшим количеством объявлений\n",
        "ads_sorted.head(10)"
      ]
    },
    {
      "cell_type": "code",
      "execution_count": null,
      "metadata": {
        "colab": {
          "base_uri": "https://localhost:8080/"
        },
        "id": "IYDPiq9MjokK",
        "outputId": "bec9c4e4-2384-47f1-93f5-5bbb85bd2c63"
      },
      "outputs": [
        {
          "name": "stdout",
          "output_type": "stream",
          "text": [
            "Населенный пункт с самой высокой стоимостью квадратного метра:\n",
            "count  price_per_square_meter     15721.000000\n",
            "mean   price_per_square_meter    114849.005788\n",
            "Name: Санкт-Петербург, dtype: float64\n",
            "Населенный пункт с самой низкой стоимостью квадратного метра:\n",
            "count  price_per_square_meter        1.0\n",
            "mean   price_per_square_meter    27331.0\n",
            "Name: Пустынка, dtype: float64\n"
          ]
        }
      ],
      "source": [
        "# Выделение населенных пунктов с самой высокой и низкой стоимостью квадратного метра\n",
        "highest_price = ads_sorted.iloc[0]\n",
        "lowest_price = ads_sorted.iloc[-1]\n",
        "\n",
        "print(\"Населенный пункт с самой высокой стоимостью квадратного метра:\")\n",
        "print(highest_price)\n",
        "\n",
        "print(\"Населенный пункт с самой низкой стоимостью квадратного метра:\")\n",
        "print(lowest_price)"
      ]
    },
    {
      "cell_type": "code",
      "execution_count": null,
      "metadata": {
        "colab": {
          "base_uri": "https://localhost:8080/",
          "height": 593
        },
        "id": "PREYkRNWDU76",
        "outputId": "6f87d679-7125-46fe-a913-d5bb50f5ac41",
        "scrolled": false
      },
      "outputs": [
        {
          "name": "stderr",
          "output_type": "stream",
          "text": [
            "/opt/conda/lib/python3.9/site-packages/pandas/core/indexing.py:1597: SettingWithCopyWarning: \n",
            "A value is trying to be set on a copy of a slice from a DataFrame.\n",
            "Try using .loc[row_indexer,col_indexer] = value instead\n",
            "\n",
            "See the caveats in the documentation: https://pandas.pydata.org/pandas-docs/stable/user_guide/indexing.html#returning-a-view-versus-a-copy\n",
            "  self.obj[key] = value\n",
            "/opt/conda/lib/python3.9/site-packages/pandas/core/indexing.py:1676: SettingWithCopyWarning: \n",
            "A value is trying to be set on a copy of a slice from a DataFrame.\n",
            "Try using .loc[row_indexer,col_indexer] = value instead\n",
            "\n",
            "See the caveats in the documentation: https://pandas.pydata.org/pandas-docs/stable/user_guide/indexing.html#returning-a-view-versus-a-copy\n",
            "  self._setitem_single_column(ilocs[0], value, pi)\n"
          ]
        },
        {
          "data": {
            "image/png": "[encoded data removed]",
            "text/plain": [
              "<Figure size 432x288 with 1 Axes>"
            ]
          },
          "metadata": {},
          "output_type": "display_data"
        }
      ],
      "source": [
        "# Выделение квартир в Санкт-Петербурге\n",
        "spb_flats = data[data['locality_name'] == 'Санкт-Петербург']\n",
        "spb_flats.loc[:, 'price_per_km'] = spb_flats['good_price'] / spb_flats['city_centers_nearest']\n",
        "\n",
        "# Группировка данных по расстоянию до центра и вычисление средней цены\n",
        "mean_price_by_km = spb_flats.groupby('city_сenters_nearest_km')['good_price'].mean()\n",
        "\n",
        "# Построение графика\n",
        "plt.plot(mean_price_by_km.index, mean_price_by_km.values, 'orange')\n",
        "plt.xlabel('Расстояние до центра, км')\n",
        "plt.ylabel('Средняя цена за километр')\n",
        "plt.title('Зависимость стоимости объектов от окраин до центра Санкт-Петербурга')\n",
        "plt.show()"
      ]
    },
    {
      "cell_type": "markdown",
      "metadata": {
        "id": "j4bnHia5ocNT"
      },
      "source": [
        "<b>Вывод о зависимости стоимости объектов от окраин до центра Санкт-Петербурга:</b>\n",
        "\n",
        "- Цена снижается с увеличением расстояния до центра города\n",
        "- Также есть несколько скачков вверх, первый (от 3 до 7км) может обуславливаться наличием жилой застройки за пределами исторического центра, второй (около 28км от центра) загородной застройкой ЖК и новыми районами   "
      ]
    },
    {
      "cell_type": "markdown",
      "metadata": {
        "id": "BPU9kwqvY6HJ"
      },
      "source": [
        "##Шаг 5. Общий вывод"
      ]
    },
    {
      "cell_type": "markdown",
      "metadata": {
        "id": "V42LqCiirfxK"
      },
      "source": [
        "<b>В результате выполнения проекта был проведён исследовательский анализ данных архива Яндекс Недвижимость</b>\n",
        "\n",
        "В результате выполнения работы был проведён исследовательский анализ данных архива Яндекс Недвижимость\n",
        "\n",
        "- Заменены пропуски в данных\n",
        "- Созданы новые переменные для расчётов\n",
        "\n",
        "- Установлены параметры влияющие на стоимость объектов недвижимости:\n",
        "-- Удалённость от центра города (ключевой фактор роста цены при приближении к центру)\n",
        "-- Количество комнат и площадь квартиры (с численным ростом данных параметров, возрастает и цена)\n",
        "-- Время размещения публикации (на стоимость объектов недвижимости влияют не только месяцы и годы публикации, но даже дни, в пятницу или субботу одного года и месяца получается разная стартовая стоимость)\n",
        "-- Этаж на котором расположена квартира (первые этажи оцениваются дешевле всего из-за ряда всем известных причин, последние этажи дороже всего, возможно из-за видов и ограниченности их количества в многоэтажках (12+ этажей), также в современных домах есть ещё \"техничекий\" этаж, что делает такие квартиры более востребованными и привлекательными)\n",
        "-- Населённый пункт в котором рассположен объект недвижимости (например Пушкин и Колпино являются соседями по количеству объявлений, но имеют разницу в 25к за квадратный метр)\n",
        "\n",
        "В данных собранных геосервисами большое количество пропусков или неточностей (нулевое расстояние до парка/аэропорта/центра города)"
      ]
    }
  ],
  "metadata": {
    "ExecuteTimeLog": [
      {
        "duration": 1728,
        "start_time": "2023-10-28T08:07:21.222Z"
      },
      {
        "duration": 290,
        "start_time": "2023-10-28T08:35:56.867Z"
      },
      {
        "duration": 29,
        "start_time": "2023-10-28T08:36:01.717Z"
      },
      {
        "duration": 20,
        "start_time": "2023-10-28T08:36:05.597Z"
      },
      {
        "duration": 32,
        "start_time": "2023-10-28T08:36:11.044Z"
      },
      {
        "duration": 209,
        "start_time": "2023-10-28T08:36:39.837Z"
      },
      {
        "duration": 8,
        "start_time": "2023-10-28T08:37:28.597Z"
      },
      {
        "duration": 6,
        "start_time": "2023-10-28T08:38:01.557Z"
      },
      {
        "duration": 21,
        "start_time": "2023-10-28T08:38:13.166Z"
      },
      {
        "duration": 8,
        "start_time": "2023-10-28T08:38:31.742Z"
      },
      {
        "duration": 200,
        "start_time": "2023-10-28T08:38:47.758Z"
      },
      {
        "duration": 6,
        "start_time": "2023-10-28T08:38:55.430Z"
      },
      {
        "duration": 16,
        "start_time": "2023-10-28T08:42:11.353Z"
      },
      {
        "duration": 12,
        "start_time": "2023-10-28T08:42:20.336Z"
      },
      {
        "duration": 17,
        "start_time": "2023-10-28T08:42:26.025Z"
      },
      {
        "duration": 223,
        "start_time": "2023-10-28T08:43:17.159Z"
      },
      {
        "duration": 57,
        "start_time": "2023-10-28T08:43:27.114Z"
      },
      {
        "duration": 15,
        "start_time": "2023-10-28T08:43:30.417Z"
      },
      {
        "duration": 6,
        "start_time": "2023-10-28T08:57:17.462Z"
      },
      {
        "duration": 4,
        "start_time": "2023-10-28T08:57:30.374Z"
      },
      {
        "duration": 11,
        "start_time": "2023-10-28T09:00:15.207Z"
      },
      {
        "duration": 218,
        "start_time": "2023-10-28T09:00:20.191Z"
      },
      {
        "duration": 14,
        "start_time": "2023-10-28T09:07:20.373Z"
      },
      {
        "duration": 49,
        "start_time": "2023-10-28T09:07:58.294Z"
      },
      {
        "duration": 14,
        "start_time": "2023-10-28T09:08:10.125Z"
      },
      {
        "duration": 16,
        "start_time": "2023-10-28T09:09:34.240Z"
      },
      {
        "duration": 196,
        "start_time": "2023-10-28T09:41:24.001Z"
      },
      {
        "duration": 144,
        "start_time": "2023-10-28T09:41:34.065Z"
      },
      {
        "duration": 149,
        "start_time": "2023-10-28T09:42:02.665Z"
      },
      {
        "duration": 108,
        "start_time": "2023-10-28T09:42:09.673Z"
      },
      {
        "duration": 180,
        "start_time": "2023-10-28T09:42:11.138Z"
      },
      {
        "duration": 52,
        "start_time": "2023-10-28T09:47:47.131Z"
      },
      {
        "duration": 13,
        "start_time": "2023-10-28T09:47:52.413Z"
      },
      {
        "duration": 7,
        "start_time": "2023-10-28T09:47:59.391Z"
      },
      {
        "duration": 9,
        "start_time": "2023-10-28T09:48:00.421Z"
      },
      {
        "duration": 71,
        "start_time": "2023-10-28T09:48:01.138Z"
      },
      {
        "duration": 8,
        "start_time": "2023-10-28T09:48:01.814Z"
      },
      {
        "duration": 115,
        "start_time": "2023-10-28T09:48:06.471Z"
      },
      {
        "duration": 140,
        "start_time": "2023-10-28T09:48:07.607Z"
      },
      {
        "duration": 150,
        "start_time": "2023-10-28T09:48:16.278Z"
      },
      {
        "duration": 5,
        "start_time": "2023-10-28T09:48:37.263Z"
      },
      {
        "duration": 231,
        "start_time": "2023-10-28T09:52:01.659Z"
      },
      {
        "duration": 252,
        "start_time": "2023-10-28T09:52:35.306Z"
      },
      {
        "duration": 431,
        "start_time": "2023-10-28T09:53:04.402Z"
      },
      {
        "duration": 469,
        "start_time": "2023-10-28T09:53:10.295Z"
      },
      {
        "duration": 250,
        "start_time": "2023-10-28T09:53:17.283Z"
      },
      {
        "duration": 4,
        "start_time": "2023-10-28T09:54:35.332Z"
      },
      {
        "duration": 501,
        "start_time": "2023-10-28T09:57:26.214Z"
      },
      {
        "duration": 351,
        "start_time": "2023-10-28T09:57:47.447Z"
      },
      {
        "duration": 205,
        "start_time": "2023-10-28T09:57:55.926Z"
      },
      {
        "duration": 131,
        "start_time": "2023-10-28T09:58:02.901Z"
      },
      {
        "duration": 254,
        "start_time": "2023-10-28T09:59:19.431Z"
      },
      {
        "duration": 150,
        "start_time": "2023-10-28T10:20:26.981Z"
      },
      {
        "duration": 6,
        "start_time": "2023-10-28T10:20:51.712Z"
      },
      {
        "duration": 154,
        "start_time": "2023-10-28T10:22:34.426Z"
      },
      {
        "duration": 145,
        "start_time": "2023-10-28T10:22:39.674Z"
      },
      {
        "duration": 8,
        "start_time": "2023-10-28T10:22:46.314Z"
      },
      {
        "duration": 143,
        "start_time": "2023-10-28T10:26:56.271Z"
      },
      {
        "duration": 142,
        "start_time": "2023-10-28T10:27:05.394Z"
      },
      {
        "duration": 357,
        "start_time": "2023-10-28T10:27:09.838Z"
      },
      {
        "duration": 3245,
        "start_time": "2023-10-28T10:27:16.990Z"
      },
      {
        "duration": 396,
        "start_time": "2023-10-28T10:27:29.437Z"
      },
      {
        "duration": 665,
        "start_time": "2023-10-28T10:27:37.838Z"
      },
      {
        "duration": 455,
        "start_time": "2023-10-28T10:27:46.679Z"
      },
      {
        "duration": 498,
        "start_time": "2023-10-28T10:27:51.782Z"
      },
      {
        "duration": 600,
        "start_time": "2023-10-28T10:28:42.007Z"
      },
      {
        "duration": 114,
        "start_time": "2023-10-28T10:35:19.128Z"
      },
      {
        "duration": 131,
        "start_time": "2023-10-28T10:40:20.405Z"
      },
      {
        "duration": 31,
        "start_time": "2023-10-28T10:46:58.614Z"
      },
      {
        "duration": 19,
        "start_time": "2023-10-28T10:47:22.670Z"
      },
      {
        "duration": 11,
        "start_time": "2023-10-28T10:47:35.607Z"
      },
      {
        "duration": 153,
        "start_time": "2023-10-28T10:48:04.467Z"
      },
      {
        "duration": 8,
        "start_time": "2023-10-28T10:48:18.558Z"
      },
      {
        "duration": 24,
        "start_time": "2023-10-28T10:48:30.526Z"
      },
      {
        "duration": 8,
        "start_time": "2023-10-28T10:48:50.608Z"
      },
      {
        "duration": 26,
        "start_time": "2023-10-28T10:50:14.632Z"
      },
      {
        "duration": 8,
        "start_time": "2023-10-28T10:50:25.127Z"
      },
      {
        "duration": 147,
        "start_time": "2023-10-28T10:50:32.231Z"
      },
      {
        "duration": 144,
        "start_time": "2023-10-28T10:51:43.408Z"
      },
      {
        "duration": 146,
        "start_time": "2023-10-28T10:51:58.210Z"
      },
      {
        "duration": 11,
        "start_time": "2023-10-28T10:53:13.723Z"
      },
      {
        "duration": 208,
        "start_time": "2023-10-28T10:53:28.972Z"
      },
      {
        "duration": 10,
        "start_time": "2023-10-28T10:55:01.813Z"
      },
      {
        "duration": 11,
        "start_time": "2023-10-28T10:55:25.084Z"
      },
      {
        "duration": 145,
        "start_time": "2023-10-28T10:56:36.557Z"
      },
      {
        "duration": 180,
        "start_time": "2023-10-28T10:56:40.077Z"
      },
      {
        "duration": 16,
        "start_time": "2023-10-28T10:57:20.559Z"
      },
      {
        "duration": 264,
        "start_time": "2023-10-28T10:58:32.176Z"
      },
      {
        "duration": 132,
        "start_time": "2023-10-28T10:58:48.288Z"
      },
      {
        "duration": 126,
        "start_time": "2023-10-28T11:00:39.314Z"
      },
      {
        "duration": 145,
        "start_time": "2023-10-28T11:01:31.843Z"
      },
      {
        "duration": 184,
        "start_time": "2023-10-28T11:01:55.063Z"
      },
      {
        "duration": 816,
        "start_time": "2023-10-28T11:31:12.699Z"
      },
      {
        "duration": 1,
        "start_time": "2023-10-28T11:31:13.520Z"
      },
      {
        "duration": 0,
        "start_time": "2023-10-28T11:31:13.522Z"
      },
      {
        "duration": 0,
        "start_time": "2023-10-28T11:31:13.524Z"
      },
      {
        "duration": 0,
        "start_time": "2023-10-28T11:31:13.525Z"
      },
      {
        "duration": 0,
        "start_time": "2023-10-28T11:31:13.526Z"
      },
      {
        "duration": 0,
        "start_time": "2023-10-28T11:31:13.528Z"
      },
      {
        "duration": 0,
        "start_time": "2023-10-28T11:31:13.529Z"
      },
      {
        "duration": 0,
        "start_time": "2023-10-28T11:31:13.530Z"
      },
      {
        "duration": 0,
        "start_time": "2023-10-28T11:31:13.530Z"
      },
      {
        "duration": 0,
        "start_time": "2023-10-28T11:31:13.532Z"
      },
      {
        "duration": 0,
        "start_time": "2023-10-28T11:31:13.533Z"
      },
      {
        "duration": 0,
        "start_time": "2023-10-28T11:31:13.534Z"
      },
      {
        "duration": 0,
        "start_time": "2023-10-28T11:31:13.535Z"
      },
      {
        "duration": 0,
        "start_time": "2023-10-28T11:31:13.536Z"
      },
      {
        "duration": 0,
        "start_time": "2023-10-28T11:31:13.537Z"
      },
      {
        "duration": 0,
        "start_time": "2023-10-28T11:31:13.538Z"
      },
      {
        "duration": 0,
        "start_time": "2023-10-28T11:31:13.539Z"
      },
      {
        "duration": 0,
        "start_time": "2023-10-28T11:31:13.540Z"
      },
      {
        "duration": 0,
        "start_time": "2023-10-28T11:31:13.541Z"
      },
      {
        "duration": 0,
        "start_time": "2023-10-28T11:31:13.542Z"
      },
      {
        "duration": 0,
        "start_time": "2023-10-28T11:31:13.543Z"
      },
      {
        "duration": 0,
        "start_time": "2023-10-28T11:31:13.544Z"
      },
      {
        "duration": 0,
        "start_time": "2023-10-28T11:31:13.545Z"
      },
      {
        "duration": 0,
        "start_time": "2023-10-28T11:31:13.547Z"
      },
      {
        "duration": 0,
        "start_time": "2023-10-28T11:31:13.547Z"
      },
      {
        "duration": 0,
        "start_time": "2023-10-28T11:31:13.548Z"
      },
      {
        "duration": 0,
        "start_time": "2023-10-28T11:31:13.550Z"
      },
      {
        "duration": 833,
        "start_time": "2023-11-02T13:38:26.509Z"
      },
      {
        "duration": 451,
        "start_time": "2023-11-02T13:38:28.018Z"
      },
      {
        "duration": 2080,
        "start_time": "2023-11-02T13:52:31.090Z"
      },
      {
        "duration": 13,
        "start_time": "2023-11-02T13:52:33.173Z"
      },
      {
        "duration": 216,
        "start_time": "2023-11-02T13:52:33.188Z"
      },
      {
        "duration": 127,
        "start_time": "2023-11-02T13:52:33.406Z"
      },
      {
        "duration": 91,
        "start_time": "2023-11-02T13:52:33.535Z"
      },
      {
        "duration": 209,
        "start_time": "2023-11-02T13:52:33.627Z"
      },
      {
        "duration": 182,
        "start_time": "2023-11-02T13:52:33.838Z"
      },
      {
        "duration": 71,
        "start_time": "2023-11-02T13:52:34.022Z"
      },
      {
        "duration": 52,
        "start_time": "2023-11-02T13:52:34.094Z"
      },
      {
        "duration": 119,
        "start_time": "2023-11-02T13:52:34.149Z"
      },
      {
        "duration": 43,
        "start_time": "2023-11-02T13:52:34.270Z"
      },
      {
        "duration": 98,
        "start_time": "2023-11-02T13:52:34.315Z"
      },
      {
        "duration": 30,
        "start_time": "2023-11-02T13:52:34.414Z"
      },
      {
        "duration": 329,
        "start_time": "2023-11-02T13:52:34.446Z"
      },
      {
        "duration": 8,
        "start_time": "2023-11-02T13:52:34.777Z"
      },
      {
        "duration": 454,
        "start_time": "2023-11-02T13:52:34.787Z"
      },
      {
        "duration": 1099,
        "start_time": "2023-11-02T13:52:35.243Z"
      },
      {
        "duration": 313,
        "start_time": "2023-11-02T13:52:36.344Z"
      },
      {
        "duration": 10,
        "start_time": "2023-11-02T13:53:02.580Z"
      },
      {
        "duration": 3,
        "start_time": "2023-11-02T14:10:19.700Z"
      },
      {
        "duration": 199,
        "start_time": "2023-11-02T14:10:19.706Z"
      },
      {
        "duration": 1989,
        "start_time": "2023-11-02T14:10:19.907Z"
      },
      {
        "duration": 10,
        "start_time": "2023-11-02T14:10:21.898Z"
      },
      {
        "duration": 16,
        "start_time": "2023-11-02T14:10:21.923Z"
      },
      {
        "duration": 36,
        "start_time": "2023-11-02T14:10:21.941Z"
      },
      {
        "duration": 16,
        "start_time": "2023-11-02T14:10:21.979Z"
      },
      {
        "duration": 53,
        "start_time": "2023-11-02T14:10:21.997Z"
      },
      {
        "duration": 19,
        "start_time": "2023-11-02T14:10:22.052Z"
      },
      {
        "duration": 13,
        "start_time": "2023-11-02T14:10:22.073Z"
      },
      {
        "duration": 14,
        "start_time": "2023-11-02T14:10:22.089Z"
      },
      {
        "duration": 40,
        "start_time": "2023-11-02T14:10:22.105Z"
      },
      {
        "duration": 85,
        "start_time": "2023-11-02T14:10:22.147Z"
      },
      {
        "duration": 47,
        "start_time": "2023-11-02T14:10:22.238Z"
      },
      {
        "duration": 8,
        "start_time": "2023-11-02T14:10:22.287Z"
      },
      {
        "duration": 42,
        "start_time": "2023-11-02T14:10:43.260Z"
      },
      {
        "duration": 53,
        "start_time": "2023-11-02T14:11:16.057Z"
      },
      {
        "duration": 345,
        "start_time": "2023-11-02T14:11:59.203Z"
      },
      {
        "duration": 6,
        "start_time": "2023-11-02T14:12:32.797Z"
      },
      {
        "duration": 8,
        "start_time": "2023-11-02T14:12:45.851Z"
      },
      {
        "duration": 48,
        "start_time": "2023-11-02T14:15:13.104Z"
      },
      {
        "duration": 9,
        "start_time": "2023-11-02T14:17:43.245Z"
      },
      {
        "duration": 2579,
        "start_time": "2023-11-02T14:18:11.096Z"
      },
      {
        "duration": 10,
        "start_time": "2023-11-02T14:18:21.354Z"
      },
      {
        "duration": 639,
        "start_time": "2023-11-02T14:44:12.238Z"
      },
      {
        "duration": 187,
        "start_time": "2023-11-02T14:44:12.879Z"
      },
      {
        "duration": 1894,
        "start_time": "2023-11-02T14:44:13.068Z"
      },
      {
        "duration": 12,
        "start_time": "2023-11-02T14:44:14.964Z"
      },
      {
        "duration": 15,
        "start_time": "2023-11-02T14:44:14.977Z"
      },
      {
        "duration": 26,
        "start_time": "2023-11-02T14:44:14.993Z"
      },
      {
        "duration": 10,
        "start_time": "2023-11-02T14:44:15.020Z"
      },
      {
        "duration": 64,
        "start_time": "2023-11-02T14:44:15.031Z"
      },
      {
        "duration": 14,
        "start_time": "2023-11-02T14:44:15.097Z"
      },
      {
        "duration": 7,
        "start_time": "2023-11-02T14:44:15.114Z"
      },
      {
        "duration": 16,
        "start_time": "2023-11-02T14:44:15.122Z"
      },
      {
        "duration": 38,
        "start_time": "2023-11-02T14:44:15.140Z"
      },
      {
        "duration": 27,
        "start_time": "2023-11-02T14:44:15.180Z"
      },
      {
        "duration": 26,
        "start_time": "2023-11-02T14:44:15.209Z"
      },
      {
        "duration": 14,
        "start_time": "2023-11-02T14:44:15.237Z"
      },
      {
        "duration": 312,
        "start_time": "2023-11-02T14:44:15.253Z"
      },
      {
        "duration": 8,
        "start_time": "2023-11-02T14:44:15.567Z"
      },
      {
        "duration": 35,
        "start_time": "2023-11-02T14:44:15.577Z"
      },
      {
        "duration": 946,
        "start_time": "2023-11-02T14:44:15.623Z"
      },
      {
        "duration": 304,
        "start_time": "2023-11-02T14:44:16.571Z"
      },
      {
        "duration": 4,
        "start_time": "2023-11-02T14:44:16.877Z"
      },
      {
        "duration": 415,
        "start_time": "2023-11-02T14:44:16.883Z"
      },
      {
        "duration": 525,
        "start_time": "2023-11-02T14:44:17.299Z"
      },
      {
        "duration": 5,
        "start_time": "2023-11-02T14:44:17.826Z"
      },
      {
        "duration": 125,
        "start_time": "2023-11-02T14:44:17.833Z"
      },
      {
        "duration": 0,
        "start_time": "2023-11-02T14:44:17.960Z"
      },
      {
        "duration": 0,
        "start_time": "2023-11-02T14:44:17.962Z"
      },
      {
        "duration": 0,
        "start_time": "2023-11-02T14:44:17.963Z"
      },
      {
        "duration": 0,
        "start_time": "2023-11-02T14:44:17.965Z"
      },
      {
        "duration": 0,
        "start_time": "2023-11-02T14:44:17.967Z"
      },
      {
        "duration": 0,
        "start_time": "2023-11-02T14:44:17.968Z"
      },
      {
        "duration": 0,
        "start_time": "2023-11-02T14:44:17.970Z"
      },
      {
        "duration": 0,
        "start_time": "2023-11-02T14:44:17.971Z"
      },
      {
        "duration": 1,
        "start_time": "2023-11-02T14:44:17.972Z"
      },
      {
        "duration": 0,
        "start_time": "2023-11-02T14:44:17.974Z"
      },
      {
        "duration": 0,
        "start_time": "2023-11-02T14:44:17.976Z"
      },
      {
        "duration": 0,
        "start_time": "2023-11-02T14:44:17.977Z"
      },
      {
        "duration": 0,
        "start_time": "2023-11-02T14:44:17.978Z"
      },
      {
        "duration": 181,
        "start_time": "2023-11-02T14:45:27.525Z"
      },
      {
        "duration": 22,
        "start_time": "2023-11-02T14:45:53.043Z"
      },
      {
        "duration": 270,
        "start_time": "2023-11-02T14:46:02.982Z"
      },
      {
        "duration": 126,
        "start_time": "2023-11-02T14:46:07.699Z"
      },
      {
        "duration": 249,
        "start_time": "2023-11-02T14:46:11.340Z"
      },
      {
        "duration": 825,
        "start_time": "2023-11-02T14:46:14.580Z"
      },
      {
        "duration": 756,
        "start_time": "2023-11-02T14:46:28.620Z"
      },
      {
        "duration": 884,
        "start_time": "2023-11-02T14:46:32.396Z"
      },
      {
        "duration": 3,
        "start_time": "2023-11-02T14:48:54.048Z"
      },
      {
        "duration": 198,
        "start_time": "2023-11-02T14:49:46.808Z"
      },
      {
        "duration": 205,
        "start_time": "2023-11-02T14:50:06.777Z"
      },
      {
        "duration": 703,
        "start_time": "2023-11-02T14:50:49.235Z"
      },
      {
        "duration": 198,
        "start_time": "2023-11-02T14:50:49.940Z"
      },
      {
        "duration": 2054,
        "start_time": "2023-11-02T14:50:50.140Z"
      },
      {
        "duration": 12,
        "start_time": "2023-11-02T14:50:52.196Z"
      },
      {
        "duration": 40,
        "start_time": "2023-11-02T14:50:52.209Z"
      },
      {
        "duration": 48,
        "start_time": "2023-11-02T14:50:52.251Z"
      },
      {
        "duration": 32,
        "start_time": "2023-11-02T14:50:52.301Z"
      },
      {
        "duration": 50,
        "start_time": "2023-11-02T14:50:52.335Z"
      },
      {
        "duration": 30,
        "start_time": "2023-11-02T14:50:52.387Z"
      },
      {
        "duration": 5,
        "start_time": "2023-11-02T14:50:52.419Z"
      },
      {
        "duration": 30,
        "start_time": "2023-11-02T14:50:52.425Z"
      },
      {
        "duration": 48,
        "start_time": "2023-11-02T14:50:52.457Z"
      },
      {
        "duration": 38,
        "start_time": "2023-11-02T14:50:52.507Z"
      },
      {
        "duration": 35,
        "start_time": "2023-11-02T14:50:52.546Z"
      },
      {
        "duration": 11,
        "start_time": "2023-11-02T14:50:52.583Z"
      },
      {
        "duration": 359,
        "start_time": "2023-11-02T14:50:52.596Z"
      },
      {
        "duration": 9,
        "start_time": "2023-11-02T14:50:52.957Z"
      },
      {
        "duration": 45,
        "start_time": "2023-11-02T14:50:52.967Z"
      },
      {
        "duration": 876,
        "start_time": "2023-11-02T14:50:53.014Z"
      },
      {
        "duration": 346,
        "start_time": "2023-11-02T14:50:53.891Z"
      },
      {
        "duration": 3,
        "start_time": "2023-11-02T14:50:54.239Z"
      },
      {
        "duration": 260,
        "start_time": "2023-11-02T14:50:54.243Z"
      },
      {
        "duration": 586,
        "start_time": "2023-11-02T14:50:54.505Z"
      },
      {
        "duration": 5,
        "start_time": "2023-11-02T14:50:55.093Z"
      },
      {
        "duration": 218,
        "start_time": "2023-11-02T14:50:55.100Z"
      },
      {
        "duration": 20,
        "start_time": "2023-11-02T14:51:04.470Z"
      },
      {
        "duration": 271,
        "start_time": "2023-11-02T14:51:06.392Z"
      },
      {
        "duration": 142,
        "start_time": "2023-11-02T14:51:09.399Z"
      },
      {
        "duration": 256,
        "start_time": "2023-11-02T14:51:11.946Z"
      },
      {
        "duration": 922,
        "start_time": "2023-11-02T14:51:19.742Z"
      },
      {
        "duration": 863,
        "start_time": "2023-11-02T14:51:25.183Z"
      },
      {
        "duration": 908,
        "start_time": "2023-11-02T14:51:29.159Z"
      },
      {
        "duration": 3,
        "start_time": "2023-11-02T14:51:33.194Z"
      },
      {
        "duration": 618,
        "start_time": "2023-11-02T14:51:42.488Z"
      },
      {
        "duration": 105,
        "start_time": "2023-11-02T14:51:48.539Z"
      },
      {
        "duration": 540,
        "start_time": "2023-11-02T14:51:58.055Z"
      },
      {
        "duration": 24,
        "start_time": "2023-11-02T14:52:19.648Z"
      },
      {
        "duration": 8,
        "start_time": "2023-11-02T14:52:21.921Z"
      },
      {
        "duration": 227,
        "start_time": "2023-11-02T14:52:29.513Z"
      }
    ],
    "colab": {
      "provenance": [],
      "include_colab_link": true
    },
    "kernelspec": {
      "display_name": "Python 3 (ipykernel)",
      "language": "python",
      "name": "python3"
    },
    "language_info": {
      "codemirror_mode": {
        "name": "ipython",
        "version": 3
      },
      "file_extension": ".py",
      "mimetype": "text/x-python",
      "name": "python",
      "nbconvert_exporter": "python",
      "pygments_lexer": "ipython3",
      "version": "3.9.5"
    },
    "toc": {
      "base_numbering": 1,
      "nav_menu": {},
      "number_sections": true,
      "sideBar": true,
      "skip_h1_title": true,
      "title_cell": "Table of Contents",
      "title_sidebar": "Contents",
      "toc_cell": false,
      "toc_position": {
        "height": "calc(100% - 180px)",
        "left": "10px",
        "top": "150px",
        "width": "165px"
      },
      "toc_section_display": true,
      "toc_window_display": true
    }
  },
  "nbformat": 4,
  "nbformat_minor": 0
}